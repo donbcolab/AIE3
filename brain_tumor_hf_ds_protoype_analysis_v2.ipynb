{
  "cells": [
    {
      "cell_type": "markdown",
      "metadata": {
        "id": "view-in-github",
        "colab_type": "text"
      },
      "source": [
        "<a href=\"https://colab.research.google.com/github/donbcolab/AIE3/blob/main/brain_tumor_hf_ds_protoype_analysis_v2.ipynb\" target=\"_parent\"><img src=\"https://colab.research.google.com/assets/colab-badge.svg\" alt=\"Open In Colab\"/></a>"
      ]
    },
    {
      "cell_type": "markdown",
      "metadata": {
        "id": "uuBoZd6_Kw7s"
      },
      "source": [
        "# Brain Tumor Image Dataset - Prototype Analysis\n",
        "\n",
        "- HF DataSet Loader\n",
        "\n"
      ]
    },
    {
      "cell_type": "markdown",
      "metadata": {
        "id": "AhhJ8h1uKw7t"
      },
      "source": [
        "## Set up and Initial Checks"
      ]
    },
    {
      "cell_type": "markdown",
      "metadata": {
        "id": "dpEWz1J1Kw7t"
      },
      "source": [
        "### Import Necessary Libraries and Define Constants"
      ]
    },
    {
      "cell_type": "code",
      "source": [
        "from google.colab import drive\n",
        "drive.mount('/content/drive')"
      ],
      "metadata": {
        "colab": {
          "base_uri": "https://localhost:8080/"
        },
        "id": "OQLXzGadLOnZ",
        "outputId": "2aad1cdc-3690-4f60-9b8b-4ef838f9b464"
      },
      "execution_count": null,
      "outputs": [
        {
          "output_type": "stream",
          "name": "stdout",
          "text": [
            "Drive already mounted at /content/drive; to attempt to forcibly remount, call drive.mount(\"/content/drive\", force_remount=True).\n"
          ]
        }
      ]
    },
    {
      "cell_type": "code",
      "source": [
        "!pip install -qU pyarrow==14.0.1 requests==2.31.0"
      ],
      "metadata": {
        "id": "_ko8sN4vVrxH"
      },
      "execution_count": null,
      "outputs": []
    },
    {
      "cell_type": "code",
      "source": [
        "!pip install -qU datasets==2.11.0"
      ],
      "metadata": {
        "id": "Hgjmz2RkVxVU"
      },
      "execution_count": null,
      "outputs": []
    },
    {
      "cell_type": "code",
      "source": [
        "import os\n",
        "import json\n",
        "import pandas as pd\n",
        "from datasets import Dataset, Features, ClassLabel, Value, Sequence, Image"
      ],
      "metadata": {
        "id": "22AUgBXjT3fs"
      },
      "execution_count": null,
      "outputs": []
    },
    {
      "cell_type": "code",
      "source": [
        "HF_DATASET_NAME = 'brain-tumor-image-dataset-semantic-segmentation'\n",
        "SOURCE_JSON = \"/content/drive/MyDrive/kaggle/datasets/brain-tumor-image-dataset-semantic-segmentation/train/_annotations.coco.json\"\n",
        "SOURCE_IMAGE_DIR = \"/content/drive/MyDrive/kaggle/datasets/brain-tumor-image-dataset-semantic-segmentation/train\"\n"
      ],
      "metadata": {
        "id": "Wmu5BpQJbwqX"
      },
      "execution_count": null,
      "outputs": []
    },
    {
      "cell_type": "markdown",
      "metadata": {
        "id": "_FsovZqvKw7u"
      },
      "source": [
        "### Initial Verification"
      ]
    },
    {
      "cell_type": "code",
      "source": [
        "features = Features({\n",
        "    'file_name': Value(dtype='string'),\n",
        "    'image': Image(),\n",
        "    'id': Value(dtype='int64'),\n",
        "    'category_id': ClassLabel(names=['Non-Tumor', 'Tumor']),  # Index 0 is Non-Tumor, 1 is Tumor\n",
        "    'bbox': Sequence(feature=Value(dtype='float32'), length=4),\n",
        "    'segmentation': Sequence(feature=Sequence(feature=Value(dtype='float32'), length=-1), length=-1),\n",
        "    'area': Value(dtype='float32'),\n",
        "    'iscrowd': Value(dtype='int64'),\n",
        "    'height': Value(dtype='int64'),\n",
        "    'width': Value(dtype='int64'),\n",
        "    'date_captured': Value(dtype='string')\n",
        "})"
      ],
      "metadata": {
        "id": "a00QTeM8ZGAn"
      },
      "execution_count": null,
      "outputs": []
    },
    {
      "cell_type": "code",
      "execution_count": null,
      "metadata": {
        "id": "MZL8oddLKw7u"
      },
      "outputs": [],
      "source": [
        "def verify_source_data():\n",
        "    with open(SOURCE_JSON, 'r') as f:\n",
        "        data = json.load(f)\n",
        "\n",
        "    print(\"Categories:\")\n",
        "    for category in data['categories']:\n",
        "        print(f\"ID: {category['id']}, Name: {category['name']}, Supercategory: {category['supercategory']}\")\n",
        "\n",
        "    category_counts = pd.DataFrame(data['annotations'])['category_id'].value_counts().sort_index()\n",
        "    print(\"\\nCategory distribution in annotations:\")\n",
        "    print(category_counts)\n",
        "\n",
        "    # Check for images with multiple bounding boxes\n",
        "    image_bbox_counts = pd.DataFrame(data['annotations'])['image_id'].value_counts()\n",
        "    print(f\"\\nImages with multiple bounding boxes: {(image_bbox_counts > 1).sum()}\")\n",
        "    print(f\"Max bounding boxes in an image: {image_bbox_counts.max()}\")"
      ]
    },
    {
      "cell_type": "code",
      "source": [
        "from tqdm.auto import tqdm\n",
        "\n",
        "def load_data_to_df():\n",
        "    with open(SOURCE_JSON, 'r') as f:\n",
        "        data = json.load(f)\n",
        "\n",
        "    images = pd.DataFrame(data['images'])\n",
        "    annotations = pd.DataFrame(data['annotations'])\n",
        "\n",
        "    df = pd.merge(images, annotations, left_on='id', right_on='image_id', suffixes=('', '_ann'))\n",
        "\n",
        "    # Adjust category_id: 1 -> 0 (Non-Tumor), 2 -> 1 (Tumor)\n",
        "    df['category_id'] = df['category_id'] - 1\n",
        "\n",
        "    # Add the full image path\n",
        "    df['image'] = df['file_name'].apply(lambda x: os.path.join(SOURCE_IMAGE_DIR, x))\n",
        "\n",
        "    return df"
      ],
      "metadata": {
        "id": "iCYaNVX3dN4e"
      },
      "execution_count": null,
      "outputs": []
    },
    {
      "cell_type": "code",
      "source": [
        "import cv2\n",
        "from tqdm.auto import tqdm\n",
        "\n",
        "def create_hf_dataset(df, hf_dataset_name):\n",
        "    # Convert 'image' column to image data\n",
        "    def load_image(image_path):\n",
        "        img = cv2.imread(image_path)\n",
        "        if img is not None:\n",
        "            return cv2.imencode('.jpg', img)[1].tobytes()\n",
        "        return None\n",
        "\n",
        "    tqdm.pandas(desc=\"Loading images\")\n",
        "    df['image'] = df['image'].progress_apply(load_image)\n",
        "\n",
        "    dataset = Dataset.from_pandas(df, features=features)\n",
        "    # dataset.push_to_hub(hf_dataset_name)\n",
        "    # print(f\"Dataset {hf_dataset_name} created and pushed to hub successfully.\")"
      ],
      "metadata": {
        "id": "VkLvwAuFmZkh"
      },
      "execution_count": null,
      "outputs": []
    },
    {
      "cell_type": "code",
      "source": [
        "from tqdm.auto import tqdm\n",
        "\n",
        "# Execute the process\n",
        "verify_source_data()\n",
        "df = load_data_to_df()\n",
        "\n",
        "# Add overall progress bar\n",
        "with tqdm(total=3, desc=\"Creating dataset\") as pbar:\n",
        "    create_hf_dataset(df, HF_DATASET_NAME)\n",
        "    pbar.update(1)\n",
        "\n",
        "    # You can add more steps here if needed\n",
        "    pbar.update(1)\n",
        "\n",
        "    pbar.update(1)"
      ],
      "metadata": {
        "colab": {
          "base_uri": "https://localhost:8080/",
          "height": 1000,
          "referenced_widgets": [
            "c8cc13e2c1b3487789c4ead301c2b69a",
            "bfe5ff8033a74f769824614948e5c7f5",
            "ae7b828f00bb46d4953ba07416062f95",
            "26dded295bf249f1a12ceb06ce15d196",
            "cd90cd5d04d84c8f8601ba0fbb1d1798",
            "496303cf23e946ceaf657690ecec6668",
            "bc577e090c064fbeb0db57094786f4a0",
            "b907bc66ab92452aba4a87f68d8e8903",
            "acf2299b49ee49728633d4b90cc23ac1",
            "d862fffd768b4b49b1f65d4274ddda68",
            "6f253b43df7e4b47bf1840c7cc4e077c",
            "d49f50589a584421a178d35067c3d1c1",
            "0e7802a4101c448c8ec216c5de5cba9b",
            "fef8bc53584f499bb2e15530c0fc885d",
            "262caf6b69e14b3f967b82ace843fab2",
            "09cb67430b864d1198a8e8fc9de8ea90",
            "2f81372c74754e17b01217d331867b97",
            "2d06edeba1c844568816131acf9162d2",
            "a2bb12340a9640c288d5ef75a276a2f8",
            "755d9e8b27864c3ba0dba5e1ed77229b",
            "5a24fb4af8304cc3be6cf2b0d5e2deb4",
            "bf04c256ef5d459cbdb61956338b0f82"
          ]
        },
        "id": "pdF4aJRz92bi",
        "outputId": "f34b97fe-4391-45d5-a823-e23243567ea1"
      },
      "execution_count": null,
      "outputs": [
        {
          "output_type": "stream",
          "name": "stdout",
          "text": [
            "Categories:\n",
            "ID: 0, Name: Tumor, Supercategory: none\n",
            "ID: 1, Name: 0, Supercategory: Tumor\n",
            "ID: 2, Name: 1, Supercategory: Tumor\n",
            "\n",
            "Category distribution in annotations:\n",
            "category_id\n",
            "1    771\n",
            "2    731\n",
            "Name: count, dtype: int64\n",
            "\n",
            "Images with multiple bounding boxes: 1\n",
            "Max bounding boxes in an image: 2\n"
          ]
        },
        {
          "output_type": "display_data",
          "data": {
            "text/plain": [
              "Creating dataset:   0%|          | 0/3 [00:00<?, ?it/s]"
            ],
            "application/vnd.jupyter.widget-view+json": {
              "version_major": 2,
              "version_minor": 0,
              "model_id": "c8cc13e2c1b3487789c4ead301c2b69a"
            }
          },
          "metadata": {}
        },
        {
          "output_type": "display_data",
          "data": {
            "text/plain": [
              "Loading images:   0%|          | 0/1502 [00:00<?, ?it/s]"
            ],
            "application/vnd.jupyter.widget-view+json": {
              "version_major": 2,
              "version_minor": 0,
              "model_id": "d49f50589a584421a178d35067c3d1c1"
            }
          },
          "metadata": {}
        },
        {
          "output_type": "error",
          "ename": "ValueError",
          "evalue": "Couldn't cast\nid: int64\nlicense: int64\nfile_name: string\nheight: int64\nwidth: int64\ndate_captured: string\nid_ann: int64\nimage_id: int64\ncategory_id: int64\nbbox: list<item: double>\n  child 0, item: double\narea: double\nsegmentation: list<item: list<item: double>>\n  child 0, item: list<item: double>\n      child 0, item: double\niscrowd: int64\nimage: binary\n-- schema metadata --\npandas: '{\"index_columns\": [{\"kind\": \"range\", \"name\": null, \"start\": 0, \"' + 1853\nto\n{'file_name': Value(dtype='string', id=None), 'image': Image(decode=True, id=None), 'id': Value(dtype='int64', id=None), 'category_id': ClassLabel(names=['Non-Tumor', 'Tumor'], id=None), 'bbox': Sequence(feature=Value(dtype='float32', id=None), length=4, id=None), 'segmentation': Sequence(feature=Sequence(feature=Value(dtype='float32', id=None), length=-1, id=None), length=-1, id=None), 'area': Value(dtype='float32', id=None), 'iscrowd': Value(dtype='int64', id=None), 'height': Value(dtype='int64', id=None), 'width': Value(dtype='int64', id=None), 'date_captured': Value(dtype='string', id=None)}\nbecause column names don't match",
          "traceback": [
            "\u001b[0;31m---------------------------------------------------------------------------\u001b[0m",
            "\u001b[0;31mValueError\u001b[0m                                Traceback (most recent call last)",
            "\u001b[0;32m<ipython-input-11-a972ad05a827>\u001b[0m in \u001b[0;36m<cell line: 8>\u001b[0;34m()\u001b[0m\n\u001b[1;32m      7\u001b[0m \u001b[0;31m# Add overall progress bar\u001b[0m\u001b[0;34m\u001b[0m\u001b[0;34m\u001b[0m\u001b[0m\n\u001b[1;32m      8\u001b[0m \u001b[0;32mwith\u001b[0m \u001b[0mtqdm\u001b[0m\u001b[0;34m(\u001b[0m\u001b[0mtotal\u001b[0m\u001b[0;34m=\u001b[0m\u001b[0;36m3\u001b[0m\u001b[0;34m,\u001b[0m \u001b[0mdesc\u001b[0m\u001b[0;34m=\u001b[0m\u001b[0;34m\"Creating dataset\"\u001b[0m\u001b[0;34m)\u001b[0m \u001b[0;32mas\u001b[0m \u001b[0mpbar\u001b[0m\u001b[0;34m:\u001b[0m\u001b[0;34m\u001b[0m\u001b[0;34m\u001b[0m\u001b[0m\n\u001b[0;32m----> 9\u001b[0;31m     \u001b[0mcreate_hf_dataset\u001b[0m\u001b[0;34m(\u001b[0m\u001b[0mdf\u001b[0m\u001b[0;34m,\u001b[0m \u001b[0mHF_DATASET_NAME\u001b[0m\u001b[0;34m)\u001b[0m\u001b[0;34m\u001b[0m\u001b[0;34m\u001b[0m\u001b[0m\n\u001b[0m\u001b[1;32m     10\u001b[0m     \u001b[0mpbar\u001b[0m\u001b[0;34m.\u001b[0m\u001b[0mupdate\u001b[0m\u001b[0;34m(\u001b[0m\u001b[0;36m1\u001b[0m\u001b[0;34m)\u001b[0m\u001b[0;34m\u001b[0m\u001b[0;34m\u001b[0m\u001b[0m\n\u001b[1;32m     11\u001b[0m \u001b[0;34m\u001b[0m\u001b[0m\n",
            "\u001b[0;32m<ipython-input-9-acf2ac473eb3>\u001b[0m in \u001b[0;36mcreate_hf_dataset\u001b[0;34m(df, hf_dataset_name)\u001b[0m\n\u001b[1;32m     13\u001b[0m     \u001b[0mdf\u001b[0m\u001b[0;34m[\u001b[0m\u001b[0;34m'image'\u001b[0m\u001b[0;34m]\u001b[0m \u001b[0;34m=\u001b[0m \u001b[0mdf\u001b[0m\u001b[0;34m[\u001b[0m\u001b[0;34m'image'\u001b[0m\u001b[0;34m]\u001b[0m\u001b[0;34m.\u001b[0m\u001b[0mprogress_apply\u001b[0m\u001b[0;34m(\u001b[0m\u001b[0mload_image\u001b[0m\u001b[0;34m)\u001b[0m\u001b[0;34m\u001b[0m\u001b[0;34m\u001b[0m\u001b[0m\n\u001b[1;32m     14\u001b[0m \u001b[0;34m\u001b[0m\u001b[0m\n\u001b[0;32m---> 15\u001b[0;31m     \u001b[0mdataset\u001b[0m \u001b[0;34m=\u001b[0m \u001b[0mDataset\u001b[0m\u001b[0;34m.\u001b[0m\u001b[0mfrom_pandas\u001b[0m\u001b[0;34m(\u001b[0m\u001b[0mdf\u001b[0m\u001b[0;34m,\u001b[0m \u001b[0mfeatures\u001b[0m\u001b[0;34m=\u001b[0m\u001b[0mfeatures\u001b[0m\u001b[0;34m)\u001b[0m\u001b[0;34m\u001b[0m\u001b[0;34m\u001b[0m\u001b[0m\n\u001b[0m\u001b[1;32m     16\u001b[0m     \u001b[0;31m# dataset.push_to_hub(hf_dataset_name)\u001b[0m\u001b[0;34m\u001b[0m\u001b[0;34m\u001b[0m\u001b[0m\n\u001b[1;32m     17\u001b[0m     \u001b[0;31m# print(f\"Dataset {hf_dataset_name} created and pushed to hub successfully.\")\u001b[0m\u001b[0;34m\u001b[0m\u001b[0;34m\u001b[0m\u001b[0m\n",
            "\u001b[0;32m/usr/local/lib/python3.10/dist-packages/datasets/arrow_dataset.py\u001b[0m in \u001b[0;36mfrom_pandas\u001b[0;34m(cls, df, features, info, split, preserve_index)\u001b[0m\n\u001b[1;32m    836\u001b[0m             \u001b[0;31m# more expensive cast than InMemoryTable.from_pandas(..., schema=features.arrow_schema)\u001b[0m\u001b[0;34m\u001b[0m\u001b[0;34m\u001b[0m\u001b[0m\n\u001b[1;32m    837\u001b[0m             \u001b[0;31m# needed to support the str to Audio conversion for instance\u001b[0m\u001b[0;34m\u001b[0m\u001b[0;34m\u001b[0m\u001b[0m\n\u001b[0;32m--> 838\u001b[0;31m             \u001b[0mtable\u001b[0m \u001b[0;34m=\u001b[0m \u001b[0mtable\u001b[0m\u001b[0;34m.\u001b[0m\u001b[0mcast\u001b[0m\u001b[0;34m(\u001b[0m\u001b[0mfeatures\u001b[0m\u001b[0;34m.\u001b[0m\u001b[0marrow_schema\u001b[0m\u001b[0;34m)\u001b[0m\u001b[0;34m\u001b[0m\u001b[0;34m\u001b[0m\u001b[0m\n\u001b[0m\u001b[1;32m    839\u001b[0m         \u001b[0;32mreturn\u001b[0m \u001b[0mcls\u001b[0m\u001b[0;34m(\u001b[0m\u001b[0mtable\u001b[0m\u001b[0;34m,\u001b[0m \u001b[0minfo\u001b[0m\u001b[0;34m=\u001b[0m\u001b[0minfo\u001b[0m\u001b[0;34m,\u001b[0m \u001b[0msplit\u001b[0m\u001b[0;34m=\u001b[0m\u001b[0msplit\u001b[0m\u001b[0;34m)\u001b[0m\u001b[0;34m\u001b[0m\u001b[0;34m\u001b[0m\u001b[0m\n\u001b[1;32m    840\u001b[0m \u001b[0;34m\u001b[0m\u001b[0m\n",
            "\u001b[0;32m/usr/local/lib/python3.10/dist-packages/datasets/table.py\u001b[0m in \u001b[0;36mcast\u001b[0;34m(self, *args, **kwargs)\u001b[0m\n\u001b[1;32m    885\u001b[0m             \u001b[0;31m`\u001b[0m\u001b[0mdatasets\u001b[0m\u001b[0;34m.\u001b[0m\u001b[0mtable\u001b[0m\u001b[0;34m.\u001b[0m\u001b[0mTable\u001b[0m\u001b[0;31m`\u001b[0m\u001b[0;34m\u001b[0m\u001b[0;34m\u001b[0m\u001b[0m\n\u001b[1;32m    886\u001b[0m         \"\"\"\n\u001b[0;32m--> 887\u001b[0;31m         \u001b[0;32mreturn\u001b[0m \u001b[0mInMemoryTable\u001b[0m\u001b[0;34m(\u001b[0m\u001b[0mtable_cast\u001b[0m\u001b[0;34m(\u001b[0m\u001b[0mself\u001b[0m\u001b[0;34m.\u001b[0m\u001b[0mtable\u001b[0m\u001b[0;34m,\u001b[0m \u001b[0;34m*\u001b[0m\u001b[0margs\u001b[0m\u001b[0;34m,\u001b[0m \u001b[0;34m**\u001b[0m\u001b[0mkwargs\u001b[0m\u001b[0;34m)\u001b[0m\u001b[0;34m)\u001b[0m\u001b[0;34m\u001b[0m\u001b[0;34m\u001b[0m\u001b[0m\n\u001b[0m\u001b[1;32m    888\u001b[0m \u001b[0;34m\u001b[0m\u001b[0m\n\u001b[1;32m    889\u001b[0m     \u001b[0;32mdef\u001b[0m \u001b[0mreplace_schema_metadata\u001b[0m\u001b[0;34m(\u001b[0m\u001b[0mself\u001b[0m\u001b[0;34m,\u001b[0m \u001b[0;34m*\u001b[0m\u001b[0margs\u001b[0m\u001b[0;34m,\u001b[0m \u001b[0;34m**\u001b[0m\u001b[0mkwargs\u001b[0m\u001b[0;34m)\u001b[0m\u001b[0;34m:\u001b[0m\u001b[0;34m\u001b[0m\u001b[0;34m\u001b[0m\u001b[0m\n",
            "\u001b[0;32m/usr/local/lib/python3.10/dist-packages/datasets/table.py\u001b[0m in \u001b[0;36mtable_cast\u001b[0;34m(table, schema)\u001b[0m\n\u001b[1;32m   2288\u001b[0m     \"\"\"\n\u001b[1;32m   2289\u001b[0m     \u001b[0;32mif\u001b[0m \u001b[0mtable\u001b[0m\u001b[0;34m.\u001b[0m\u001b[0mschema\u001b[0m \u001b[0;34m!=\u001b[0m \u001b[0mschema\u001b[0m\u001b[0;34m:\u001b[0m\u001b[0;34m\u001b[0m\u001b[0;34m\u001b[0m\u001b[0m\n\u001b[0;32m-> 2290\u001b[0;31m         \u001b[0;32mreturn\u001b[0m \u001b[0mcast_table_to_schema\u001b[0m\u001b[0;34m(\u001b[0m\u001b[0mtable\u001b[0m\u001b[0;34m,\u001b[0m \u001b[0mschema\u001b[0m\u001b[0;34m)\u001b[0m\u001b[0;34m\u001b[0m\u001b[0;34m\u001b[0m\u001b[0m\n\u001b[0m\u001b[1;32m   2291\u001b[0m     \u001b[0;32melif\u001b[0m \u001b[0mtable\u001b[0m\u001b[0;34m.\u001b[0m\u001b[0mschema\u001b[0m\u001b[0;34m.\u001b[0m\u001b[0mmetadata\u001b[0m \u001b[0;34m!=\u001b[0m \u001b[0mschema\u001b[0m\u001b[0;34m.\u001b[0m\u001b[0mmetadata\u001b[0m\u001b[0;34m:\u001b[0m\u001b[0;34m\u001b[0m\u001b[0;34m\u001b[0m\u001b[0m\n\u001b[1;32m   2292\u001b[0m         \u001b[0;32mreturn\u001b[0m \u001b[0mtable\u001b[0m\u001b[0;34m.\u001b[0m\u001b[0mreplace_schema_metadata\u001b[0m\u001b[0;34m(\u001b[0m\u001b[0mschema\u001b[0m\u001b[0;34m.\u001b[0m\u001b[0mmetadata\u001b[0m\u001b[0;34m)\u001b[0m\u001b[0;34m\u001b[0m\u001b[0;34m\u001b[0m\u001b[0m\n",
            "\u001b[0;32m/usr/local/lib/python3.10/dist-packages/datasets/table.py\u001b[0m in \u001b[0;36mcast_table_to_schema\u001b[0;34m(table, schema)\u001b[0m\n\u001b[1;32m   2246\u001b[0m     \u001b[0mfeatures\u001b[0m \u001b[0;34m=\u001b[0m \u001b[0mFeatures\u001b[0m\u001b[0;34m.\u001b[0m\u001b[0mfrom_arrow_schema\u001b[0m\u001b[0;34m(\u001b[0m\u001b[0mschema\u001b[0m\u001b[0;34m)\u001b[0m\u001b[0;34m\u001b[0m\u001b[0;34m\u001b[0m\u001b[0m\n\u001b[1;32m   2247\u001b[0m     \u001b[0;32mif\u001b[0m \u001b[0msorted\u001b[0m\u001b[0;34m(\u001b[0m\u001b[0mtable\u001b[0m\u001b[0;34m.\u001b[0m\u001b[0mcolumn_names\u001b[0m\u001b[0;34m)\u001b[0m \u001b[0;34m!=\u001b[0m \u001b[0msorted\u001b[0m\u001b[0;34m(\u001b[0m\u001b[0mfeatures\u001b[0m\u001b[0;34m)\u001b[0m\u001b[0;34m:\u001b[0m\u001b[0;34m\u001b[0m\u001b[0;34m\u001b[0m\u001b[0m\n\u001b[0;32m-> 2248\u001b[0;31m         \u001b[0;32mraise\u001b[0m \u001b[0mValueError\u001b[0m\u001b[0;34m(\u001b[0m\u001b[0;34mf\"Couldn't cast\\n{table.schema}\\nto\\n{features}\\nbecause column names don't match\"\u001b[0m\u001b[0;34m)\u001b[0m\u001b[0;34m\u001b[0m\u001b[0;34m\u001b[0m\u001b[0m\n\u001b[0m\u001b[1;32m   2249\u001b[0m     \u001b[0marrays\u001b[0m \u001b[0;34m=\u001b[0m \u001b[0;34m[\u001b[0m\u001b[0mcast_array_to_feature\u001b[0m\u001b[0;34m(\u001b[0m\u001b[0mtable\u001b[0m\u001b[0;34m[\u001b[0m\u001b[0mname\u001b[0m\u001b[0;34m]\u001b[0m\u001b[0;34m,\u001b[0m \u001b[0mfeature\u001b[0m\u001b[0;34m)\u001b[0m \u001b[0;32mfor\u001b[0m \u001b[0mname\u001b[0m\u001b[0;34m,\u001b[0m \u001b[0mfeature\u001b[0m \u001b[0;32min\u001b[0m \u001b[0mfeatures\u001b[0m\u001b[0;34m.\u001b[0m\u001b[0mitems\u001b[0m\u001b[0;34m(\u001b[0m\u001b[0;34m)\u001b[0m\u001b[0;34m]\u001b[0m\u001b[0;34m\u001b[0m\u001b[0;34m\u001b[0m\u001b[0m\n\u001b[1;32m   2250\u001b[0m     \u001b[0;32mreturn\u001b[0m \u001b[0mpa\u001b[0m\u001b[0;34m.\u001b[0m\u001b[0mTable\u001b[0m\u001b[0;34m.\u001b[0m\u001b[0mfrom_arrays\u001b[0m\u001b[0;34m(\u001b[0m\u001b[0marrays\u001b[0m\u001b[0;34m,\u001b[0m \u001b[0mschema\u001b[0m\u001b[0;34m=\u001b[0m\u001b[0mschema\u001b[0m\u001b[0;34m)\u001b[0m\u001b[0;34m\u001b[0m\u001b[0;34m\u001b[0m\u001b[0m\n",
            "\u001b[0;31mValueError\u001b[0m: Couldn't cast\nid: int64\nlicense: int64\nfile_name: string\nheight: int64\nwidth: int64\ndate_captured: string\nid_ann: int64\nimage_id: int64\ncategory_id: int64\nbbox: list<item: double>\n  child 0, item: double\narea: double\nsegmentation: list<item: list<item: double>>\n  child 0, item: list<item: double>\n      child 0, item: double\niscrowd: int64\nimage: binary\n-- schema metadata --\npandas: '{\"index_columns\": [{\"kind\": \"range\", \"name\": null, \"start\": 0, \"' + 1853\nto\n{'file_name': Value(dtype='string', id=None), 'image': Image(decode=True, id=None), 'id': Value(dtype='int64', id=None), 'category_id': ClassLabel(names=['Non-Tumor', 'Tumor'], id=None), 'bbox': Sequence(feature=Value(dtype='float32', id=None), length=4, id=None), 'segmentation': Sequence(feature=Sequence(feature=Value(dtype='float32', id=None), length=-1, id=None), length=-1, id=None), 'area': Value(dtype='float32', id=None), 'iscrowd': Value(dtype='int64', id=None), 'height': Value(dtype='int64', id=None), 'width': Value(dtype='int64', id=None), 'date_captured': Value(dtype='string', id=None)}\nbecause column names don't match"
          ]
        }
      ]
    },
    {
      "cell_type": "code",
      "source": [
        "# print category object from SOURCE_JSON\n",
        "with open(SOURCE_JSON, 'r') as f:\n",
        "    coco_data = json.load(f)\n",
        "    categories = coco_data['categories']\n",
        "    for category in categories:\n",
        "        print(category)"
      ],
      "metadata": {
        "id": "13DLSZVZ5XRr"
      },
      "execution_count": null,
      "outputs": []
    },
    {
      "cell_type": "code",
      "source": [
        "import json\n",
        "from collections import Counter\n",
        "\n",
        "with open(SOURCE_JSON, 'r') as f:\n",
        "    coco_data = json.load(f)\n",
        "\n",
        "category_ids = [ann['category_id'] for ann in coco_data['annotations']]\n",
        "id_counts = Counter(category_ids)\n",
        "\n",
        "categories = {cat['id']: cat['name'] for cat in coco_data['categories']}\n",
        "\n",
        "print(\"Category ID counts:\", id_counts)\n",
        "print(\"Category mappings:\", categories)\n",
        "\n",
        "# Automated verification\n",
        "expected_categories = {1: 'Non-Tumor', 2: 'Tumor'}\n",
        "assert categories == expected_categories, f\"Category mismatch. Expected {expected_categories}, got {categories}\"\n",
        "assert set(id_counts.keys()) == set(expected_categories.keys()), f\"Unexpected category IDs found: {set(id_counts.keys())}\""
      ],
      "metadata": {
        "id": "vY56XeTb6qZc"
      },
      "execution_count": null,
      "outputs": []
    },
    {
      "cell_type": "code",
      "source": [
        "def is_rectangle_segmentation(bbox, segmentation):\n",
        "    x, y, w, h = bbox\n",
        "    expected = [[x, y, x+w, y, x+w, y+h, x, y+h]]\n",
        "    return segmentation == expected\n",
        "\n",
        "sample_annotations = coco_data['annotations'][:100]\n",
        "rectangle_count = sum(is_rectangle_segmentation(ann['bbox'], ann['segmentation'])\n",
        "                      for ann in sample_annotations)\n",
        "\n",
        "rectangle_percentage = (rectangle_count / len(sample_annotations)) * 100\n",
        "print(f\"{rectangle_percentage:.2f}% of sampled annotations have rectangular segmentations\")\n",
        "\n",
        "# Automated verification\n",
        "assert rectangle_percentage >= 99, f\"Only {rectangle_percentage:.2f}% of segmentations are rectangular (expected ≥99%)\""
      ],
      "metadata": {
        "id": "8TNcQT4l6twF"
      },
      "execution_count": null,
      "outputs": []
    },
    {
      "cell_type": "code",
      "source": [
        "import pandas as pd\n",
        "from datasets import Dataset\n",
        "\n",
        "# Create small subset\n",
        "subset_images = coco_data['images'][:10]\n",
        "subset_annotations = [ann for ann in coco_data['annotations']\n",
        "                      if ann['image_id'] in [img['id'] for img in subset_images]]\n",
        "\n",
        "# Create DataFrame\n",
        "df_subset = pd.DataFrame({\n",
        "    'file_name': [img['file_name'] for img in subset_images],\n",
        "    'image_id': [img['id'] for img in subset_images],\n",
        "    'category_id': [ann['category_id'] for ann in subset_annotations],\n",
        "    'bbox': [ann['bbox'] for ann in subset_annotations],\n",
        "    'segmentation': [ann['segmentation'] for ann in subset_annotations]\n",
        "})\n",
        "\n",
        "# Convert to Parquet\n",
        "df_subset.to_parquet('test_subset.parquet')\n",
        "\n",
        "# Load Parquet file\n",
        "loaded_df = pd.read_parquet('test_subset.parquet')\n",
        "\n",
        "# Verify data\n",
        "assert len(loaded_df) == len(df_subset), \"Row count mismatch\"\n",
        "for column in df_subset.columns:\n",
        "    assert (loaded_df[column] == df_subset[column]).all(), f\"Mismatch in column {column}\"\n",
        "\n",
        "print(\"Parquet conversion and loading test passed successfully\")"
      ],
      "metadata": {
        "id": "JurNk-p96zzP"
      },
      "execution_count": null,
      "outputs": []
    },
    {
      "cell_type": "code",
      "source": [
        "from datasets import Dataset\n",
        "import cv2\n",
        "import matplotlib.pyplot as plt\n",
        "\n",
        "def load_image_on_demand(example):\n",
        "    image_path = os.path.join(SOURCE_IMAGE_DIR, example['file_name'])\n",
        "    example['image'] = cv2.imread(image_path)\n",
        "    return example\n",
        "\n",
        "# Create dataset\n",
        "dataset = Dataset.from_parquet('test_subset.parquet')\n",
        "\n",
        "# Set transform for on-demand loading\n",
        "dataset.set_transform(load_image_on_demand)\n",
        "\n",
        "# Test accessing items\n",
        "for i in range(3):\n",
        "    item = dataset[i]\n",
        "    assert 'image' in item, f\"Image not loaded for item {i}\"\n",
        "    assert item['image'] is not None, f\"Image is None for item {i}\"\n",
        "    print(f\"Successfully loaded image for item {i}\")\n",
        "\n",
        "    # Visualize the image\n",
        "    plt.figure(figsize=(10, 10))\n",
        "    plt.imshow(cv2.cvtColor(item['image'], cv2.COLOR_BGR2RGB))\n",
        "    plt.title(f\"Image {i}: {item['file_name']}\")\n",
        "    plt.axis('off')\n",
        "    plt.show()"
      ],
      "metadata": {
        "id": "K-20jXXG65Dh"
      },
      "execution_count": null,
      "outputs": []
    },
    {
      "cell_type": "code",
      "source": [],
      "metadata": {
        "id": "uy1EawZ56-NB"
      },
      "execution_count": null,
      "outputs": []
    }
  ],
  "metadata": {
    "kernelspec": {
      "display_name": "Python 3",
      "name": "python3"
    },
    "language_info": {
      "codemirror_mode": {
        "name": "ipython",
        "version": 3
      },
      "file_extension": ".py",
      "mimetype": "text/x-python",
      "name": "python",
      "nbconvert_exporter": "python",
      "pygments_lexer": "ipython3",
      "version": "3.10.13"
    },
    "colab": {
      "provenance": [],
      "machine_shape": "hm",
      "include_colab_link": true
    },
    "widgets": {
      "application/vnd.jupyter.widget-state+json": {
        "c8cc13e2c1b3487789c4ead301c2b69a": {
          "model_module": "@jupyter-widgets/controls",
          "model_name": "HBoxModel",
          "model_module_version": "1.5.0",
          "state": {
            "_dom_classes": [],
            "_model_module": "@jupyter-widgets/controls",
            "_model_module_version": "1.5.0",
            "_model_name": "HBoxModel",
            "_view_count": null,
            "_view_module": "@jupyter-widgets/controls",
            "_view_module_version": "1.5.0",
            "_view_name": "HBoxView",
            "box_style": "",
            "children": [
              "IPY_MODEL_bfe5ff8033a74f769824614948e5c7f5",
              "IPY_MODEL_ae7b828f00bb46d4953ba07416062f95",
              "IPY_MODEL_26dded295bf249f1a12ceb06ce15d196"
            ],
            "layout": "IPY_MODEL_cd90cd5d04d84c8f8601ba0fbb1d1798"
          }
        },
        "bfe5ff8033a74f769824614948e5c7f5": {
          "model_module": "@jupyter-widgets/controls",
          "model_name": "HTMLModel",
          "model_module_version": "1.5.0",
          "state": {
            "_dom_classes": [],
            "_model_module": "@jupyter-widgets/controls",
            "_model_module_version": "1.5.0",
            "_model_name": "HTMLModel",
            "_view_count": null,
            "_view_module": "@jupyter-widgets/controls",
            "_view_module_version": "1.5.0",
            "_view_name": "HTMLView",
            "description": "",
            "description_tooltip": null,
            "layout": "IPY_MODEL_496303cf23e946ceaf657690ecec6668",
            "placeholder": "​",
            "style": "IPY_MODEL_bc577e090c064fbeb0db57094786f4a0",
            "value": "Creating dataset:   0%"
          }
        },
        "ae7b828f00bb46d4953ba07416062f95": {
          "model_module": "@jupyter-widgets/controls",
          "model_name": "FloatProgressModel",
          "model_module_version": "1.5.0",
          "state": {
            "_dom_classes": [],
            "_model_module": "@jupyter-widgets/controls",
            "_model_module_version": "1.5.0",
            "_model_name": "FloatProgressModel",
            "_view_count": null,
            "_view_module": "@jupyter-widgets/controls",
            "_view_module_version": "1.5.0",
            "_view_name": "ProgressView",
            "bar_style": "danger",
            "description": "",
            "description_tooltip": null,
            "layout": "IPY_MODEL_b907bc66ab92452aba4a87f68d8e8903",
            "max": 3,
            "min": 0,
            "orientation": "horizontal",
            "style": "IPY_MODEL_acf2299b49ee49728633d4b90cc23ac1",
            "value": 0
          }
        },
        "26dded295bf249f1a12ceb06ce15d196": {
          "model_module": "@jupyter-widgets/controls",
          "model_name": "HTMLModel",
          "model_module_version": "1.5.0",
          "state": {
            "_dom_classes": [],
            "_model_module": "@jupyter-widgets/controls",
            "_model_module_version": "1.5.0",
            "_model_name": "HTMLModel",
            "_view_count": null,
            "_view_module": "@jupyter-widgets/controls",
            "_view_module_version": "1.5.0",
            "_view_name": "HTMLView",
            "description": "",
            "description_tooltip": null,
            "layout": "IPY_MODEL_d862fffd768b4b49b1f65d4274ddda68",
            "placeholder": "​",
            "style": "IPY_MODEL_6f253b43df7e4b47bf1840c7cc4e077c",
            "value": " 0/3 [06:29&lt;?, ?it/s]"
          }
        },
        "cd90cd5d04d84c8f8601ba0fbb1d1798": {
          "model_module": "@jupyter-widgets/base",
          "model_name": "LayoutModel",
          "model_module_version": "1.2.0",
          "state": {
            "_model_module": "@jupyter-widgets/base",
            "_model_module_version": "1.2.0",
            "_model_name": "LayoutModel",
            "_view_count": null,
            "_view_module": "@jupyter-widgets/base",
            "_view_module_version": "1.2.0",
            "_view_name": "LayoutView",
            "align_content": null,
            "align_items": null,
            "align_self": null,
            "border": null,
            "bottom": null,
            "display": null,
            "flex": null,
            "flex_flow": null,
            "grid_area": null,
            "grid_auto_columns": null,
            "grid_auto_flow": null,
            "grid_auto_rows": null,
            "grid_column": null,
            "grid_gap": null,
            "grid_row": null,
            "grid_template_areas": null,
            "grid_template_columns": null,
            "grid_template_rows": null,
            "height": null,
            "justify_content": null,
            "justify_items": null,
            "left": null,
            "margin": null,
            "max_height": null,
            "max_width": null,
            "min_height": null,
            "min_width": null,
            "object_fit": null,
            "object_position": null,
            "order": null,
            "overflow": null,
            "overflow_x": null,
            "overflow_y": null,
            "padding": null,
            "right": null,
            "top": null,
            "visibility": null,
            "width": null
          }
        },
        "496303cf23e946ceaf657690ecec6668": {
          "model_module": "@jupyter-widgets/base",
          "model_name": "LayoutModel",
          "model_module_version": "1.2.0",
          "state": {
            "_model_module": "@jupyter-widgets/base",
            "_model_module_version": "1.2.0",
            "_model_name": "LayoutModel",
            "_view_count": null,
            "_view_module": "@jupyter-widgets/base",
            "_view_module_version": "1.2.0",
            "_view_name": "LayoutView",
            "align_content": null,
            "align_items": null,
            "align_self": null,
            "border": null,
            "bottom": null,
            "display": null,
            "flex": null,
            "flex_flow": null,
            "grid_area": null,
            "grid_auto_columns": null,
            "grid_auto_flow": null,
            "grid_auto_rows": null,
            "grid_column": null,
            "grid_gap": null,
            "grid_row": null,
            "grid_template_areas": null,
            "grid_template_columns": null,
            "grid_template_rows": null,
            "height": null,
            "justify_content": null,
            "justify_items": null,
            "left": null,
            "margin": null,
            "max_height": null,
            "max_width": null,
            "min_height": null,
            "min_width": null,
            "object_fit": null,
            "object_position": null,
            "order": null,
            "overflow": null,
            "overflow_x": null,
            "overflow_y": null,
            "padding": null,
            "right": null,
            "top": null,
            "visibility": null,
            "width": null
          }
        },
        "bc577e090c064fbeb0db57094786f4a0": {
          "model_module": "@jupyter-widgets/controls",
          "model_name": "DescriptionStyleModel",
          "model_module_version": "1.5.0",
          "state": {
            "_model_module": "@jupyter-widgets/controls",
            "_model_module_version": "1.5.0",
            "_model_name": "DescriptionStyleModel",
            "_view_count": null,
            "_view_module": "@jupyter-widgets/base",
            "_view_module_version": "1.2.0",
            "_view_name": "StyleView",
            "description_width": ""
          }
        },
        "b907bc66ab92452aba4a87f68d8e8903": {
          "model_module": "@jupyter-widgets/base",
          "model_name": "LayoutModel",
          "model_module_version": "1.2.0",
          "state": {
            "_model_module": "@jupyter-widgets/base",
            "_model_module_version": "1.2.0",
            "_model_name": "LayoutModel",
            "_view_count": null,
            "_view_module": "@jupyter-widgets/base",
            "_view_module_version": "1.2.0",
            "_view_name": "LayoutView",
            "align_content": null,
            "align_items": null,
            "align_self": null,
            "border": null,
            "bottom": null,
            "display": null,
            "flex": null,
            "flex_flow": null,
            "grid_area": null,
            "grid_auto_columns": null,
            "grid_auto_flow": null,
            "grid_auto_rows": null,
            "grid_column": null,
            "grid_gap": null,
            "grid_row": null,
            "grid_template_areas": null,
            "grid_template_columns": null,
            "grid_template_rows": null,
            "height": null,
            "justify_content": null,
            "justify_items": null,
            "left": null,
            "margin": null,
            "max_height": null,
            "max_width": null,
            "min_height": null,
            "min_width": null,
            "object_fit": null,
            "object_position": null,
            "order": null,
            "overflow": null,
            "overflow_x": null,
            "overflow_y": null,
            "padding": null,
            "right": null,
            "top": null,
            "visibility": null,
            "width": null
          }
        },
        "acf2299b49ee49728633d4b90cc23ac1": {
          "model_module": "@jupyter-widgets/controls",
          "model_name": "ProgressStyleModel",
          "model_module_version": "1.5.0",
          "state": {
            "_model_module": "@jupyter-widgets/controls",
            "_model_module_version": "1.5.0",
            "_model_name": "ProgressStyleModel",
            "_view_count": null,
            "_view_module": "@jupyter-widgets/base",
            "_view_module_version": "1.2.0",
            "_view_name": "StyleView",
            "bar_color": null,
            "description_width": ""
          }
        },
        "d862fffd768b4b49b1f65d4274ddda68": {
          "model_module": "@jupyter-widgets/base",
          "model_name": "LayoutModel",
          "model_module_version": "1.2.0",
          "state": {
            "_model_module": "@jupyter-widgets/base",
            "_model_module_version": "1.2.0",
            "_model_name": "LayoutModel",
            "_view_count": null,
            "_view_module": "@jupyter-widgets/base",
            "_view_module_version": "1.2.0",
            "_view_name": "LayoutView",
            "align_content": null,
            "align_items": null,
            "align_self": null,
            "border": null,
            "bottom": null,
            "display": null,
            "flex": null,
            "flex_flow": null,
            "grid_area": null,
            "grid_auto_columns": null,
            "grid_auto_flow": null,
            "grid_auto_rows": null,
            "grid_column": null,
            "grid_gap": null,
            "grid_row": null,
            "grid_template_areas": null,
            "grid_template_columns": null,
            "grid_template_rows": null,
            "height": null,
            "justify_content": null,
            "justify_items": null,
            "left": null,
            "margin": null,
            "max_height": null,
            "max_width": null,
            "min_height": null,
            "min_width": null,
            "object_fit": null,
            "object_position": null,
            "order": null,
            "overflow": null,
            "overflow_x": null,
            "overflow_y": null,
            "padding": null,
            "right": null,
            "top": null,
            "visibility": null,
            "width": null
          }
        },
        "6f253b43df7e4b47bf1840c7cc4e077c": {
          "model_module": "@jupyter-widgets/controls",
          "model_name": "DescriptionStyleModel",
          "model_module_version": "1.5.0",
          "state": {
            "_model_module": "@jupyter-widgets/controls",
            "_model_module_version": "1.5.0",
            "_model_name": "DescriptionStyleModel",
            "_view_count": null,
            "_view_module": "@jupyter-widgets/base",
            "_view_module_version": "1.2.0",
            "_view_name": "StyleView",
            "description_width": ""
          }
        },
        "d49f50589a584421a178d35067c3d1c1": {
          "model_module": "@jupyter-widgets/controls",
          "model_name": "HBoxModel",
          "model_module_version": "1.5.0",
          "state": {
            "_dom_classes": [],
            "_model_module": "@jupyter-widgets/controls",
            "_model_module_version": "1.5.0",
            "_model_name": "HBoxModel",
            "_view_count": null,
            "_view_module": "@jupyter-widgets/controls",
            "_view_module_version": "1.5.0",
            "_view_name": "HBoxView",
            "box_style": "",
            "children": [
              "IPY_MODEL_0e7802a4101c448c8ec216c5de5cba9b",
              "IPY_MODEL_fef8bc53584f499bb2e15530c0fc885d",
              "IPY_MODEL_262caf6b69e14b3f967b82ace843fab2"
            ],
            "layout": "IPY_MODEL_09cb67430b864d1198a8e8fc9de8ea90"
          }
        },
        "0e7802a4101c448c8ec216c5de5cba9b": {
          "model_module": "@jupyter-widgets/controls",
          "model_name": "HTMLModel",
          "model_module_version": "1.5.0",
          "state": {
            "_dom_classes": [],
            "_model_module": "@jupyter-widgets/controls",
            "_model_module_version": "1.5.0",
            "_model_name": "HTMLModel",
            "_view_count": null,
            "_view_module": "@jupyter-widgets/controls",
            "_view_module_version": "1.5.0",
            "_view_name": "HTMLView",
            "description": "",
            "description_tooltip": null,
            "layout": "IPY_MODEL_2f81372c74754e17b01217d331867b97",
            "placeholder": "​",
            "style": "IPY_MODEL_2d06edeba1c844568816131acf9162d2",
            "value": "Loading images: 100%"
          }
        },
        "fef8bc53584f499bb2e15530c0fc885d": {
          "model_module": "@jupyter-widgets/controls",
          "model_name": "FloatProgressModel",
          "model_module_version": "1.5.0",
          "state": {
            "_dom_classes": [],
            "_model_module": "@jupyter-widgets/controls",
            "_model_module_version": "1.5.0",
            "_model_name": "FloatProgressModel",
            "_view_count": null,
            "_view_module": "@jupyter-widgets/controls",
            "_view_module_version": "1.5.0",
            "_view_name": "ProgressView",
            "bar_style": "success",
            "description": "",
            "description_tooltip": null,
            "layout": "IPY_MODEL_a2bb12340a9640c288d5ef75a276a2f8",
            "max": 1502,
            "min": 0,
            "orientation": "horizontal",
            "style": "IPY_MODEL_755d9e8b27864c3ba0dba5e1ed77229b",
            "value": 1502
          }
        },
        "262caf6b69e14b3f967b82ace843fab2": {
          "model_module": "@jupyter-widgets/controls",
          "model_name": "HTMLModel",
          "model_module_version": "1.5.0",
          "state": {
            "_dom_classes": [],
            "_model_module": "@jupyter-widgets/controls",
            "_model_module_version": "1.5.0",
            "_model_name": "HTMLModel",
            "_view_count": null,
            "_view_module": "@jupyter-widgets/controls",
            "_view_module_version": "1.5.0",
            "_view_name": "HTMLView",
            "description": "",
            "description_tooltip": null,
            "layout": "IPY_MODEL_5a24fb4af8304cc3be6cf2b0d5e2deb4",
            "placeholder": "​",
            "style": "IPY_MODEL_bf04c256ef5d459cbdb61956338b0f82",
            "value": " 1502/1502 [06:29&lt;00:00,  4.21it/s]"
          }
        },
        "09cb67430b864d1198a8e8fc9de8ea90": {
          "model_module": "@jupyter-widgets/base",
          "model_name": "LayoutModel",
          "model_module_version": "1.2.0",
          "state": {
            "_model_module": "@jupyter-widgets/base",
            "_model_module_version": "1.2.0",
            "_model_name": "LayoutModel",
            "_view_count": null,
            "_view_module": "@jupyter-widgets/base",
            "_view_module_version": "1.2.0",
            "_view_name": "LayoutView",
            "align_content": null,
            "align_items": null,
            "align_self": null,
            "border": null,
            "bottom": null,
            "display": null,
            "flex": null,
            "flex_flow": null,
            "grid_area": null,
            "grid_auto_columns": null,
            "grid_auto_flow": null,
            "grid_auto_rows": null,
            "grid_column": null,
            "grid_gap": null,
            "grid_row": null,
            "grid_template_areas": null,
            "grid_template_columns": null,
            "grid_template_rows": null,
            "height": null,
            "justify_content": null,
            "justify_items": null,
            "left": null,
            "margin": null,
            "max_height": null,
            "max_width": null,
            "min_height": null,
            "min_width": null,
            "object_fit": null,
            "object_position": null,
            "order": null,
            "overflow": null,
            "overflow_x": null,
            "overflow_y": null,
            "padding": null,
            "right": null,
            "top": null,
            "visibility": null,
            "width": null
          }
        },
        "2f81372c74754e17b01217d331867b97": {
          "model_module": "@jupyter-widgets/base",
          "model_name": "LayoutModel",
          "model_module_version": "1.2.0",
          "state": {
            "_model_module": "@jupyter-widgets/base",
            "_model_module_version": "1.2.0",
            "_model_name": "LayoutModel",
            "_view_count": null,
            "_view_module": "@jupyter-widgets/base",
            "_view_module_version": "1.2.0",
            "_view_name": "LayoutView",
            "align_content": null,
            "align_items": null,
            "align_self": null,
            "border": null,
            "bottom": null,
            "display": null,
            "flex": null,
            "flex_flow": null,
            "grid_area": null,
            "grid_auto_columns": null,
            "grid_auto_flow": null,
            "grid_auto_rows": null,
            "grid_column": null,
            "grid_gap": null,
            "grid_row": null,
            "grid_template_areas": null,
            "grid_template_columns": null,
            "grid_template_rows": null,
            "height": null,
            "justify_content": null,
            "justify_items": null,
            "left": null,
            "margin": null,
            "max_height": null,
            "max_width": null,
            "min_height": null,
            "min_width": null,
            "object_fit": null,
            "object_position": null,
            "order": null,
            "overflow": null,
            "overflow_x": null,
            "overflow_y": null,
            "padding": null,
            "right": null,
            "top": null,
            "visibility": null,
            "width": null
          }
        },
        "2d06edeba1c844568816131acf9162d2": {
          "model_module": "@jupyter-widgets/controls",
          "model_name": "DescriptionStyleModel",
          "model_module_version": "1.5.0",
          "state": {
            "_model_module": "@jupyter-widgets/controls",
            "_model_module_version": "1.5.0",
            "_model_name": "DescriptionStyleModel",
            "_view_count": null,
            "_view_module": "@jupyter-widgets/base",
            "_view_module_version": "1.2.0",
            "_view_name": "StyleView",
            "description_width": ""
          }
        },
        "a2bb12340a9640c288d5ef75a276a2f8": {
          "model_module": "@jupyter-widgets/base",
          "model_name": "LayoutModel",
          "model_module_version": "1.2.0",
          "state": {
            "_model_module": "@jupyter-widgets/base",
            "_model_module_version": "1.2.0",
            "_model_name": "LayoutModel",
            "_view_count": null,
            "_view_module": "@jupyter-widgets/base",
            "_view_module_version": "1.2.0",
            "_view_name": "LayoutView",
            "align_content": null,
            "align_items": null,
            "align_self": null,
            "border": null,
            "bottom": null,
            "display": null,
            "flex": null,
            "flex_flow": null,
            "grid_area": null,
            "grid_auto_columns": null,
            "grid_auto_flow": null,
            "grid_auto_rows": null,
            "grid_column": null,
            "grid_gap": null,
            "grid_row": null,
            "grid_template_areas": null,
            "grid_template_columns": null,
            "grid_template_rows": null,
            "height": null,
            "justify_content": null,
            "justify_items": null,
            "left": null,
            "margin": null,
            "max_height": null,
            "max_width": null,
            "min_height": null,
            "min_width": null,
            "object_fit": null,
            "object_position": null,
            "order": null,
            "overflow": null,
            "overflow_x": null,
            "overflow_y": null,
            "padding": null,
            "right": null,
            "top": null,
            "visibility": null,
            "width": null
          }
        },
        "755d9e8b27864c3ba0dba5e1ed77229b": {
          "model_module": "@jupyter-widgets/controls",
          "model_name": "ProgressStyleModel",
          "model_module_version": "1.5.0",
          "state": {
            "_model_module": "@jupyter-widgets/controls",
            "_model_module_version": "1.5.0",
            "_model_name": "ProgressStyleModel",
            "_view_count": null,
            "_view_module": "@jupyter-widgets/base",
            "_view_module_version": "1.2.0",
            "_view_name": "StyleView",
            "bar_color": null,
            "description_width": ""
          }
        },
        "5a24fb4af8304cc3be6cf2b0d5e2deb4": {
          "model_module": "@jupyter-widgets/base",
          "model_name": "LayoutModel",
          "model_module_version": "1.2.0",
          "state": {
            "_model_module": "@jupyter-widgets/base",
            "_model_module_version": "1.2.0",
            "_model_name": "LayoutModel",
            "_view_count": null,
            "_view_module": "@jupyter-widgets/base",
            "_view_module_version": "1.2.0",
            "_view_name": "LayoutView",
            "align_content": null,
            "align_items": null,
            "align_self": null,
            "border": null,
            "bottom": null,
            "display": null,
            "flex": null,
            "flex_flow": null,
            "grid_area": null,
            "grid_auto_columns": null,
            "grid_auto_flow": null,
            "grid_auto_rows": null,
            "grid_column": null,
            "grid_gap": null,
            "grid_row": null,
            "grid_template_areas": null,
            "grid_template_columns": null,
            "grid_template_rows": null,
            "height": null,
            "justify_content": null,
            "justify_items": null,
            "left": null,
            "margin": null,
            "max_height": null,
            "max_width": null,
            "min_height": null,
            "min_width": null,
            "object_fit": null,
            "object_position": null,
            "order": null,
            "overflow": null,
            "overflow_x": null,
            "overflow_y": null,
            "padding": null,
            "right": null,
            "top": null,
            "visibility": null,
            "width": null
          }
        },
        "bf04c256ef5d459cbdb61956338b0f82": {
          "model_module": "@jupyter-widgets/controls",
          "model_name": "DescriptionStyleModel",
          "model_module_version": "1.5.0",
          "state": {
            "_model_module": "@jupyter-widgets/controls",
            "_model_module_version": "1.5.0",
            "_model_name": "DescriptionStyleModel",
            "_view_count": null,
            "_view_module": "@jupyter-widgets/base",
            "_view_module_version": "1.2.0",
            "_view_name": "StyleView",
            "description_width": ""
          }
        }
      }
    }
  },
  "nbformat": 4,
  "nbformat_minor": 0
}