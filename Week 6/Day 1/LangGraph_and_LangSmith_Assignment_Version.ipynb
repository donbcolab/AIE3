{
  "cells": [
    {
      "cell_type": "markdown",
      "metadata": {
        "id": "gJXW_DgiSebM"
      },
      "source": [
        "# LangGraph and LangSmith - Agentic RAG Powered by LangChain\n",
        "\n",
        "In the following notebook we'll complete the following tasks:\n",
        "\n",
        "- 🤝 Breakout Room #1:\n",
        "  1. Install required libraries\n",
        "  2. Set Environment Variables\n",
        "  3. Creating our Tool Belt\n",
        "  4. Creating Our State\n",
        "  5. Creating and Compiling A Graph!\n",
        "  \n",
        "- 🤝 Breakout Room #2:\n",
        "  - Part 1: LangSmith Evaluator:\n",
        "    1. Creating an Evaluation Dataset\n",
        "    2. Adding Evaluators\n",
        "  - Part 2:\n",
        "    3. Adding Helpfulness Check and \"Loop\" Limits\n",
        "    4. LangGraph for the \"Patterns\" of GenAI"
      ]
    },
    {
      "cell_type": "markdown",
      "metadata": {},
      "source": [
        "## Lessons Learned:\n",
        "\n",
        "1. **The Power of Graphical Thinking in AI Development:**\n",
        "   - 🌐 **Graphical Paradigm Shift:** LangGraph's approach of translating flowcharts into functional code reveals a powerful paradigm shift in AI development.\n",
        "   - 🔗 **Bridging Design and Implementation:** This \"visual-to-functional\" methodology bridges the gap between conceptual design and implementation, potentially democratizing complex AI system development.\n",
        "   - 🌟 **Democratizing AI Design:** Future AI tools might evolve towards more visual, intuitive interfaces, allowing a broader range of professionals (not just programmers) to contribute to AI system design. This could lead to more diverse and innovative AI applications across various industries.\n",
        "\n",
        "2. **The Renaissance of State Machines in Modern AI:**\n",
        "   - 🏛️ **Classical Meets Cutting-Edge:** The emphasis on state machines in LangGraph highlights a fascinating convergence of classical computer science concepts with cutting-edge AI. It demonstrates that as AI systems become more complex, we're circling back to fundamental computational ideas to manage this complexity.\n",
        "   - 🛠️ **Back to Basics:** This \"back to basics\" approach, combined with advanced language models, creates a powerful hybrid that balances the flexibility of AI with the reliability of traditional software engineering. It suggests that the future of AI might not be about abandoning established computer science principles, but rather about reimagining and repurposing them for the AI era.\n",
        "\n",
        "3. **The Emergence of AI Introspection through Self-Evaluation:**\n",
        "   - 🔍 **AI Self-Critique:** The implementation of the helpfulness check in the LangGraph system points to an intriguing development: AI systems that can critique and improve their own outputs.\n",
        "   - 🧠 **Artificial Introspection:** This self-evaluation capability hints at a form of artificial introspection, where the AI doesn't just produce results but also assesses their quality. As this concept evolves, we might see AI systems that not only perform tasks but also explain their reasoning, acknowledge their limitations, and actively work to improve their performance.\n",
        "   - 🤝 **Trust and Transparency:** This could lead to more transparent, trustworthy, and continuously improving AI systems, potentially addressing some of the current concerns about AI reliability and bias."
      ]
    },
    {
      "cell_type": "markdown",
      "metadata": {},
      "source": [
        "## What should we learn next?\n",
        "\n",
        "1. **Multi-Agent Dynamics and Coordination:**\n",
        "   - 🕹️ **Design and Implementation:** Learn how to design and implement multi-agent systems using LangGraph.\n",
        "   - 📡 **Inter-Agent Communication:** Explore strategies for inter-agent communication and task delegation.\n",
        "   - ⚔️ **Conflict Resolution:** Understand methods to resolve conflicts or contradictions between agents.\n",
        "   - 📈 **Performance Evaluation:** Evaluate the collective performance of a multi-agent system.\n",
        "\n",
        "2. **Long-Term Memory and Continuous Learning:**\n",
        "   - 🧠 **Implement Long-Term Memory:** Discover how to implement long-term memory in LangGraph agents.\n",
        "   - 📚 **Continuous Learning:** Study techniques for continuous learning and model updating based on interaction history.\n",
        "   - 🧹 **Data Management:** Learn methods to balance between retaining useful information and avoiding outdated or irrelevant data.\n",
        "   - 🏆 **Evaluation Metrics:** Develop evaluation metrics for assessing an agent's ability to learn and improve over time.\n",
        "\n",
        "3. **Robust and Comprehensive Evaluation Frameworks:**\n",
        "   - 📊 **Holistic Evaluation Metrics:** Design holistic evaluation metrics that go beyond simple keyword matching.\n",
        "   - 🎯 **Response Assessment:** Assess not just the correctness of responses, but also their relevance, coherence, and ethical implications.\n",
        "   - 🛠️ **Automated Test Cases:** Create techniques for automated generation of diverse and challenging test cases.\n",
        "   - 👍 **Human Feedback Integration:** Integrate human feedback effectively into the evaluation process.\n",
        "   - 🔄 **Complex Evaluations with LangSmith:** Use LangSmith for more complex, multi-stage evaluations that mirror real-world use cases."
      ]
    },
    {
      "cell_type": "markdown",
      "metadata": {
        "id": "djQ3nRAgoF67"
      },
      "source": [
        "# 🤝 Breakout Room #1"
      ]
    },
    {
      "cell_type": "markdown",
      "metadata": {
        "id": "e7pQDUhUnIo8"
      },
      "source": [
        "## Part 1: LangGraph - Building Cyclic Applications with LangChain\n",
        "\n",
        "LangGraph is a tool that leverages LangChain Expression Language to build coordinated multi-actor and stateful applications that includes cyclic behaviour.\n",
        "\n",
        "### Why Cycles?\n",
        "\n",
        "In essence, we can think of a cycle in our graph as a more robust and customizable loop. It allows us to keep our application agent-forward while still giving the powerful functionality of traditional loops.\n",
        "\n",
        "Due to the inclusion of cycles over loops, we can also compose rather complex flows through our graph in a much more readable and natural fashion. Effetively allowing us to recreate appliation flowcharts in code in an almost 1-to-1 fashion.\n",
        "\n",
        "### Why LangGraph?\n",
        "\n",
        "Beyond the agent-forward approach - we can easily compose and combine traditional \"DAG\" (directed acyclic graph) chains with powerful cyclic behaviour due to the tight integration with LCEL. This means it's a natural extension to LangChain's core offerings!"
      ]
    },
    {
      "cell_type": "markdown",
      "metadata": {
        "id": "3_fLDElOVoop"
      },
      "source": [
        "## Task 1:  Dependencies\n",
        "\n",
        "We'll first install all our required libraries."
      ]
    },
    {
      "cell_type": "code",
      "execution_count": 6,
      "metadata": {
        "colab": {
          "base_uri": "https://localhost:8080/"
        },
        "id": "KaVwN269EttM",
        "outputId": "3b97db0d-d119-4b43-b964-47291c7dba1c"
      },
      "outputs": [
        {
          "name": "stdout",
          "output_type": "stream",
          "text": [
            "\u001b[33m  DEPRECATION: sgmllib3k is being installed using the legacy 'setup.py install' method, because it does not have a 'pyproject.toml' and the 'wheel' package is not installed. pip 23.1 will enforce this behaviour change. A possible replacement is to enable the '--use-pep517' option. Discussion can be found at https://github.com/pypa/pip/issues/8559\u001b[0m\u001b[33m\n",
            "\u001b[0m\n",
            "\u001b[1m[\u001b[0m\u001b[34;49mnotice\u001b[0m\u001b[1;39;49m]\u001b[0m\u001b[39;49m A new release of pip is available: \u001b[0m\u001b[31;49m23.0.1\u001b[0m\u001b[39;49m -> \u001b[0m\u001b[32;49m24.1.2\u001b[0m\n",
            "\u001b[1m[\u001b[0m\u001b[34;49mnotice\u001b[0m\u001b[1;39;49m]\u001b[0m\u001b[39;49m To update, run: \u001b[0m\u001b[32;49mpip install --upgrade pip\u001b[0m\n"
          ]
        }
      ],
      "source": [
        "!pip install -qU langchain langchain_openai langchain-community langgraph arxiv duckduckgo_search==5.3.1b1"
      ]
    },
    {
      "cell_type": "code",
      "execution_count": 48,
      "metadata": {},
      "outputs": [
        {
          "name": "stdout",
          "output_type": "stream",
          "text": [
            "\n",
            "\u001b[1m[\u001b[0m\u001b[34;49mnotice\u001b[0m\u001b[1;39;49m]\u001b[0m\u001b[39;49m A new release of pip is available: \u001b[0m\u001b[31;49m23.0.1\u001b[0m\u001b[39;49m -> \u001b[0m\u001b[32;49m24.1.2\u001b[0m\n",
            "\u001b[1m[\u001b[0m\u001b[34;49mnotice\u001b[0m\u001b[1;39;49m]\u001b[0m\u001b[39;49m To update, run: \u001b[0m\u001b[32;49mpip install --upgrade pip\u001b[0m\n",
            "Note: you may need to restart the kernel to use updated packages.\n"
          ]
        }
      ],
      "source": [
        "%pip install -qU grandalf"
      ]
    },
    {
      "cell_type": "markdown",
      "metadata": {
        "id": "wujPjGJuoPwg"
      },
      "source": [
        "## Task 2: Environment Variables\n",
        "\n",
        "We'll want to set both our OpenAI API key and our LangSmith environment variables."
      ]
    },
    {
      "cell_type": "code",
      "execution_count": 7,
      "metadata": {
        "colab": {
          "base_uri": "https://localhost:8080/"
        },
        "id": "Jdh8CoVWHRvs",
        "outputId": "761167a9-b570-421b-eb9c-8be3dc813f47"
      },
      "outputs": [],
      "source": [
        "import os\n",
        "import getpass\n",
        "\n",
        "os.environ[\"OPENAI_API_KEY\"] = os.getenv(\"OPENAI_API_KEY\")"
      ]
    },
    {
      "cell_type": "code",
      "execution_count": 8,
      "metadata": {
        "colab": {
          "base_uri": "https://localhost:8080/"
        },
        "id": "Nv0glIDyHmRt",
        "outputId": "b0237b19-ada7-4836-edc2-228e694a5ecb"
      },
      "outputs": [],
      "source": [
        "from uuid import uuid4\n",
        "\n",
        "os.environ[\"LANGCHAIN_TRACING_V2\"] = \"true\"\n",
        "os.environ[\"LANGCHAIN_PROJECT\"] = f\"AIE3 - LangGraph - {uuid4().hex[0:8]}\"\n",
        "os.environ[\"LANGCHAIN_API_KEY\"] = os.getenv(\"LANGCHAIN_API_KEY\")"
      ]
    },
    {
      "cell_type": "markdown",
      "metadata": {
        "id": "sBRyQmEAVzua"
      },
      "source": [
        "## Task 3: Creating our Tool Belt\n",
        "\n",
        "As is usually the case, we'll want to equip our agent with a toolbelt to help answer questions and add external knowledge.\n",
        "\n",
        "There's a tonne of tools in the [LangChain Community Repo](https://github.com/langchain-ai/langchain/tree/master/libs/community/langchain_community/tools) but we'll stick to a couple just so we can observe the cyclic nature of LangGraph in action!\n",
        "\n",
        "We'll leverage:\n",
        "\n",
        "- [Duck Duck Go Web Search](https://github.com/langchain-ai/langchain/tree/master/libs/community/langchain_community/tools/ddg_search)\n",
        "- [Arxiv](https://github.com/langchain-ai/langchain/tree/master/libs/community/langchain_community/tools/arxiv)"
      ]
    },
    {
      "cell_type": "markdown",
      "metadata": {
        "id": "2k6n_Dob2F46"
      },
      "source": [
        "#### 🏗️ Activity #1:\n",
        "\n",
        "Please add the tools to use into our toolbelt.\n",
        "\n",
        "> NOTE: Each tool in our toolbelt should be a method."
      ]
    },
    {
      "cell_type": "code",
      "execution_count": 4,
      "metadata": {},
      "outputs": [
        {
          "name": "stdout",
          "output_type": "stream",
          "text": [
            "\n",
            "\u001b[1m[\u001b[0m\u001b[34;49mnotice\u001b[0m\u001b[1;39;49m]\u001b[0m\u001b[39;49m A new release of pip is available: \u001b[0m\u001b[31;49m23.0.1\u001b[0m\u001b[39;49m -> \u001b[0m\u001b[32;49m24.1.2\u001b[0m\n",
            "\u001b[1m[\u001b[0m\u001b[34;49mnotice\u001b[0m\u001b[1;39;49m]\u001b[0m\u001b[39;49m To update, run: \u001b[0m\u001b[32;49mpip install --upgrade pip\u001b[0m\n"
          ]
        }
      ],
      "source": [
        "!pip install -qU langchain_community"
      ]
    },
    {
      "cell_type": "code",
      "execution_count": 9,
      "metadata": {
        "id": "lAxaSvlfIeOg"
      },
      "outputs": [],
      "source": [
        "from langchain_community.tools.ddg_search import DuckDuckGoSearchRun\n",
        "from langchain_community.tools.arxiv.tool import ArxivQueryRun\n",
        "\n",
        "tool_belt = [\n",
        "    DuckDuckGoSearchRun(), ArxivQueryRun()\n",
        "]"
      ]
    },
    {
      "cell_type": "markdown",
      "metadata": {
        "id": "1FdOjEslXdRR"
      },
      "source": [
        "### Actioning with Tools\n",
        "\n",
        "Now that we've created our tool belt - we need to create a process that will let us leverage them when we need them.\n",
        "\n",
        "We'll use the built-in [`ToolExecutor`](https://github.com/langchain-ai/langgraph/blob/fab950acfbf5fea46c9313dca34ee2ae01f1728b/libs/langgraph/langgraph/prebuilt/tool_executor.py#L50) to do so."
      ]
    },
    {
      "cell_type": "code",
      "execution_count": 10,
      "metadata": {
        "id": "cFr1m80-JZsD"
      },
      "outputs": [],
      "source": [
        "from langgraph.prebuilt import ToolExecutor\n",
        "\n",
        "tool_executor = ToolExecutor(tool_belt)"
      ]
    },
    {
      "cell_type": "markdown",
      "metadata": {
        "id": "VI-C669ZYVI5"
      },
      "source": [
        "### Model\n",
        "\n",
        "Now we can set-up our model! We'll leverage the familiar OpenAI model suite for this example - but it's not *necessary* to use with LangGraph. LangGraph supports all models - though you might not find success with smaller models - as such, they recommend you stick with:\n",
        "\n",
        "- OpenAI's GPT-3.5 and GPT-4\n",
        "- Anthropic's Claude\n",
        "- Google's Gemini\n",
        "\n",
        "> NOTE: Because we're leveraging the OpenAI function calling API - we'll need to use OpenAI *for this specific example* (or any other service that exposes an OpenAI-style function calling API."
      ]
    },
    {
      "cell_type": "code",
      "execution_count": 11,
      "metadata": {
        "id": "QkNS8rNZJs4z"
      },
      "outputs": [],
      "source": [
        "from langchain_openai import ChatOpenAI\n",
        "\n",
        "model = ChatOpenAI(model=\"gpt-4o\", temperature=0)"
      ]
    },
    {
      "cell_type": "markdown",
      "metadata": {
        "id": "Ugkj3GzuZpQv"
      },
      "source": [
        "Now that we have our model set-up, let's \"put on the tool belt\", which is to say: We'll bind our LangChain formatted tools to the model in an OpenAI function calling format."
      ]
    },
    {
      "cell_type": "code",
      "execution_count": 12,
      "metadata": {
        "id": "4OdMqFafZ_0V"
      },
      "outputs": [],
      "source": [
        "from langchain_core.utils.function_calling import convert_to_openai_function\n",
        "\n",
        "functions = [convert_to_openai_function(t) for t in tool_belt]\n",
        "model = model.bind_functions(functions)"
      ]
    },
    {
      "cell_type": "markdown",
      "metadata": {
        "id": "ERzuGo6W18Lr"
      },
      "source": [
        "#### ❓ Question #1:\n",
        "\n",
        "How does the model determine which tool to use?"
      ]
    },
    {
      "cell_type": "markdown",
      "metadata": {},
      "source": [
        "##### ANSWER:  description of the tool generated by convert_to_openai_function"
      ]
    },
    {
      "cell_type": "code",
      "execution_count": 54,
      "metadata": {},
      "outputs": [
        {
          "data": {
            "text/plain": [
              "[{'name': 'duckduckgo_search',\n",
              "  'description': 'A wrapper around DuckDuckGo Search. Useful for when you need to answer questions about current events. Input should be a search query.',\n",
              "  'parameters': {'type': 'object',\n",
              "   'properties': {'query': {'description': 'search query to look up',\n",
              "     'type': 'string'}},\n",
              "   'required': ['query']}},\n",
              " {'name': 'arxiv',\n",
              "  'description': 'A wrapper around Arxiv.org Useful for when you need to answer questions about Physics, Mathematics, Computer Science, Quantitative Biology, Quantitative Finance, Statistics, Electrical Engineering, and Economics from scientific articles on arxiv.org. Input should be a search query.',\n",
              "  'parameters': {'type': 'object',\n",
              "   'properties': {'query': {'description': 'search query to look up',\n",
              "     'type': 'string'}},\n",
              "   'required': ['query']}}]"
            ]
          },
          "execution_count": 54,
          "metadata": {},
          "output_type": "execute_result"
        }
      ],
      "source": [
        "functions"
      ]
    },
    {
      "cell_type": "markdown",
      "metadata": {
        "id": "_296Ub96Z_H8"
      },
      "source": [
        "## Task 4: Putting the State in Stateful\n",
        "\n",
        "Earlier we used this phrasing:\n",
        "\n",
        "`coordinated multi-actor and stateful applications`\n",
        "\n",
        "So what does that \"stateful\" mean?\n",
        "\n",
        "To put it simply - we want to have some kind of object which we can pass around our application that holds information about what the current situation (state) is. Since our system will be constructed of many parts moving in a coordinated fashion - we want to be able to ensure we have some commonly understood idea of that state.\n",
        "\n",
        "LangGraph leverages a `StatefulGraph` which uses an `AgentState` object to pass information between the various nodes of the graph.\n",
        "\n",
        "There are more options than what we'll see below - but this `AgentState` object is one that is stored in a `TypedDict` with the key `messages` and the value is a `Sequence` of `BaseMessages` that will be appended to whenever the state changes.\n",
        "\n",
        "Let's think about a simple example to help understand exactly what this means (we'll simplify a great deal to try and clearly communicate what state is doing):\n",
        "\n",
        "1. We initialize our state object:\n",
        "  - `{\"messages\" : []}`\n",
        "2. Our user submits a query to our application.\n",
        "  - New State: `HumanMessage(#1)`\n",
        "  - `{\"messages\" : [HumanMessage(#1)}`\n",
        "3. We pass our state object to an Agent node which is able to read the current state. It will use the last `HumanMessage` as input. It gets some kind of output which it will add to the state.\n",
        "  - New State: `AgentMessage(#1, additional_kwargs {\"function_call\" : \"WebSearchTool\"})`\n",
        "  - `{\"messages\" : [HumanMessage(#1), AgentMessage(#1, ...)]}`\n",
        "4. We pass our state object to a \"conditional node\" (more on this later) which reads the last state to determine if we need to use a tool - which it can determine properly because of our provided object!"
      ]
    },
    {
      "cell_type": "code",
      "execution_count": 13,
      "metadata": {
        "id": "mxL9b_NZKUdL"
      },
      "outputs": [],
      "source": [
        "from typing import TypedDict, Annotated\n",
        "from langgraph.graph.message import add_messages\n",
        "import operator\n",
        "from langchain_core.messages import BaseMessage\n",
        "\n",
        "class AgentState(TypedDict):\n",
        "  messages: Annotated[list, add_messages]"
      ]
    },
    {
      "cell_type": "markdown",
      "metadata": {
        "id": "vWsMhfO9grLu"
      },
      "source": [
        "## Task 5: It's Graphing Time!\n",
        "\n",
        "Now that we have state, and we have tools, and we have an LLM - we can finally start making our graph!\n",
        "\n",
        "Let's take a second to refresh ourselves about what a graph is in this context.\n",
        "\n",
        "Graphs, also called networks in some circles, are a collection of connected objects.\n",
        "\n",
        "The objects in question are typically called nodes, or vertices, and the connections are called edges.\n",
        "\n",
        "Let's look at a simple graph.\n",
        "\n",
        "![image](https://i.imgur.com/2NFLnIc.png)\n",
        "\n",
        "Here, we're using the coloured circles to represent the nodes and the yellow lines to represent the edges. In this case, we're looking at a fully connected graph - where each node is connected by an edge to each other node.\n",
        "\n",
        "If we were to think about nodes in the context of LangGraph - we would think of a function, or an LCEL runnable.\n",
        "\n",
        "If we were to think about edges in the context of LangGraph - we might think of them as \"paths to take\" or \"where to pass our state object next\".\n",
        "\n",
        "Let's create some nodes and expand on our diagram.\n",
        "\n",
        "> NOTE: Due to the tight integration with LCEL - we can comfortably create our nodes in an async fashion!"
      ]
    },
    {
      "cell_type": "code",
      "execution_count": 14,
      "metadata": {
        "id": "91flJWtZLUrl"
      },
      "outputs": [],
      "source": [
        "from langgraph.prebuilt import ToolInvocation\n",
        "import json\n",
        "from langchain_core.messages import FunctionMessage\n",
        "\n",
        "def call_model(state):\n",
        "  messages = state[\"messages\"]\n",
        "  response = model.invoke(messages)\n",
        "  return {\"messages\" : [response]}\n",
        "\n",
        "def call_tool(state):\n",
        "  last_message = state[\"messages\"][-1]\n",
        "\n",
        "  action = ToolInvocation(\n",
        "      tool=last_message.additional_kwargs[\"function_call\"][\"name\"],\n",
        "      tool_input=json.loads(\n",
        "          last_message.additional_kwargs[\"function_call\"][\"arguments\"]\n",
        "      )\n",
        "  )\n",
        "\n",
        "  response = tool_executor.invoke(action)\n",
        "\n",
        "  function_message = FunctionMessage(content=str(response), name=action.tool)\n",
        "\n",
        "  return {\"messages\" : [function_message]}"
      ]
    },
    {
      "cell_type": "markdown",
      "metadata": {
        "id": "2bwR7MgWj3Wg"
      },
      "source": [
        "Now we have two total nodes. We have:\n",
        "\n",
        "- `call_model` is a node that will...well...call the model\n",
        "- `call_tool` is a node which will call a tool\n",
        "\n",
        "Let's start adding nodes! We'll update our diagram along the way to keep track of what this looks like!\n"
      ]
    },
    {
      "cell_type": "code",
      "execution_count": 15,
      "metadata": {
        "id": "_vF4_lgtmQNo"
      },
      "outputs": [],
      "source": [
        "from langgraph.graph import StateGraph, END\n",
        "\n",
        "workflow = StateGraph(AgentState)\n",
        "\n",
        "workflow.add_node(\"agent\", call_model)\n",
        "workflow.add_node(\"action\", call_tool)"
      ]
    },
    {
      "cell_type": "markdown",
      "metadata": {
        "id": "b8CjRlbVmRpW"
      },
      "source": [
        "Let's look at what we have so far:\n",
        "\n",
        "![image](https://i.imgur.com/md7inqG.png)"
      ]
    },
    {
      "cell_type": "markdown",
      "metadata": {
        "id": "uaXHpPeSnOWC"
      },
      "source": [
        "Next, we'll add our entrypoint. All our entrypoint does is indicate which node is called first."
      ]
    },
    {
      "cell_type": "code",
      "execution_count": 16,
      "metadata": {
        "id": "YGCbaYqRnmiw"
      },
      "outputs": [],
      "source": [
        "workflow.set_entry_point(\"agent\")"
      ]
    },
    {
      "cell_type": "markdown",
      "metadata": {
        "id": "BUsfGoSpoF9U"
      },
      "source": [
        "![image](https://i.imgur.com/wNixpJe.png)"
      ]
    },
    {
      "cell_type": "markdown",
      "metadata": {
        "id": "0Q_pQgHmoW0M"
      },
      "source": [
        "Now we want to build a \"conditional edge\" which will use the output state of a node to determine which path to follow.\n",
        "\n",
        "We can help conceptualize this by thinking of our conditional edge as a conditional in a flowchart!\n",
        "\n",
        "Notice how our function simply checks if there is a \"function_call\" kwarg present.\n",
        "\n",
        "Then we create an edge where the origin node is our agent node and our destination node is *either* the action node or the END (finish the graph).\n",
        "\n",
        "It's important to highlight that the dictionary passed in as the third parameter (the mapping) should be created with the possible outputs of our conditional function in mind. In this case `should_continue` outputs either `\"end\"` or `\"continue\"` which are subsequently mapped to the action node or the END node."
      ]
    },
    {
      "cell_type": "code",
      "execution_count": 17,
      "metadata": {
        "id": "1BZgb81VQf9o"
      },
      "outputs": [],
      "source": [
        "def should_continue(state):\n",
        "  last_message = state[\"messages\"][-1]\n",
        "\n",
        "  if \"function_call\" not in last_message.additional_kwargs:\n",
        "    return \"end\"\n",
        "\n",
        "  return \"continue\"\n",
        "\n",
        "workflow.add_conditional_edges(\n",
        "    \"agent\",\n",
        "    should_continue,\n",
        "    {\n",
        "        \"continue\" : \"action\",\n",
        "        \"end\" : END\n",
        "    }\n",
        ")"
      ]
    },
    {
      "cell_type": "markdown",
      "metadata": {
        "id": "-Cvhcf4jp0Ce"
      },
      "source": [
        "Let's visualize what this looks like.\n",
        "\n",
        "![image](https://i.imgur.com/8ZNwKI5.png)"
      ]
    },
    {
      "cell_type": "markdown",
      "metadata": {
        "id": "yKCjWJCkrJb9"
      },
      "source": [
        "Finally, we can add our last edge which will connect our action node to our agent node. This is because we *always* want our action node (which is used to call our tools) to return its output to our agent!"
      ]
    },
    {
      "cell_type": "code",
      "execution_count": 18,
      "metadata": {
        "id": "UvcgbHf1rIXZ"
      },
      "outputs": [],
      "source": [
        "workflow.add_edge(\"action\", \"agent\")"
      ]
    },
    {
      "cell_type": "markdown",
      "metadata": {
        "id": "EiWDwBQtrw7Z"
      },
      "source": [
        "Let's look at the final visualization.\n",
        "\n",
        "![image](https://i.imgur.com/NWO7usO.png)"
      ]
    },
    {
      "cell_type": "markdown",
      "metadata": {
        "id": "KYqDpErlsCsu"
      },
      "source": [
        "All that's left to do now is to compile our workflow - and we're off!"
      ]
    },
    {
      "cell_type": "code",
      "execution_count": 19,
      "metadata": {
        "id": "zt9-KS8DpzNx"
      },
      "outputs": [],
      "source": [
        "app = workflow.compile()"
      ]
    },
    {
      "cell_type": "code",
      "execution_count": 49,
      "metadata": {},
      "outputs": [
        {
          "name": "stdout",
          "output_type": "stream",
          "text": [
            "        +-----------+           \n",
            "        | __start__ |           \n",
            "        +-----------+           \n",
            "               *                \n",
            "               *                \n",
            "               *                \n",
            "          +-------+             \n",
            "          | agent |             \n",
            "          +-------+             \n",
            "          .        ..           \n",
            "        ..           ..         \n",
            "       .               .        \n",
            "+--------+         +---------+  \n",
            "| action |         | __end__ |  \n",
            "+--------+         +---------+  \n"
          ]
        }
      ],
      "source": [
        "app.get_graph().print_ascii()"
      ]
    },
    {
      "cell_type": "markdown",
      "metadata": {},
      "source": [
        "##### HEY BATMAN!!!  WHERE'S YOUR TOOL BELT?"
      ]
    },
    {
      "cell_type": "markdown",
      "metadata": {
        "id": "xhNWIwBL1W4Q"
      },
      "source": [
        "#### ❓ Question #2:\n",
        "\n",
        "Is there any specific limit to how many times we can cycle?  \n",
        "\n",
        "If not, how could we impose a limit to the number of cycles?"
      ]
    },
    {
      "cell_type": "markdown",
      "metadata": {},
      "source": [
        "##### ANSWER:\n",
        "\n",
        "1. Is there any specific limit to how many times we can cycle?\n",
        "- There is no inherent limit to the number of cycles within the LangGraph system.\n",
        "- The system's design allows for potentially infinite loops unless explicitly constrained. This flexibility is part of what makes LangGraph suitable for complex agent workflows that may require multiple cycles to reach a conclusion.\n",
        "\n",
        "2. How could we impose a limit on the number of cycles?\n",
        "\n",
        "The LangGraph system allows for implementing cycle limits through conditions in the state management. Here are two ways to impose such limits:\n",
        "\n",
        "a) You can use a condition within your function to check the number of cycles or messages. For example, in the check_helpfulness function, you can implement a cycle limit by checking the length of the state object:\n",
        "\n",
        "``` python\n",
        "def check_helpfulness(state):\n",
        "    if len(state[\"messages\"]) > 10:\n",
        "        return \"END\"\n",
        "    # ... rest of the function\n",
        "``` \n",
        "\n",
        "This approach checks the number of messages and terminates the cycle if it exceeds 10.\n",
        "\n",
        "b) By adding a condition that checks the number of iterations, you can force the agent to exit if a certain threshold is reached. This ensures that the agent will eventually terminate its process even if it hasn't reached a satisfactory conclusion through its normal decision-making process."
      ]
    },
    {
      "cell_type": "markdown",
      "metadata": {
        "id": "GSCds6zTL5VJ"
      },
      "source": [
        "#### Helper Function to print messages"
      ]
    },
    {
      "cell_type": "code",
      "execution_count": 56,
      "metadata": {
        "id": "xRPF0X5iL8Bh"
      },
      "outputs": [],
      "source": [
        "def print_messages(messages):\n",
        "  next_is_tool = False\n",
        "  initial_query = True\n",
        "  for message in messages[\"messages\"]:\n",
        "    if \"function_call\" in message.additional_kwargs:\n",
        "      print()\n",
        "      print(f'Tool Call - Name: {message.additional_kwargs[\"function_call\"][\"name\"]} + Query: {message.additional_kwargs[\"function_call\"][\"arguments\"]}')\n",
        "      next_is_tool = True\n",
        "      continue\n",
        "    if next_is_tool:\n",
        "      print(f\"Tool Response: {message.content}\")\n",
        "      next_is_tool = False\n",
        "      continue\n",
        "    if initial_query:\n",
        "      print(f\"Initial Query: {message.content}\")\n",
        "      print()\n",
        "      initial_query = False\n",
        "      continue\n",
        "    print()\n",
        "    print(f\"Agent Response: {message.content}\")\n"
      ]
    },
    {
      "cell_type": "markdown",
      "metadata": {
        "id": "VEYcTShCsPaa"
      },
      "source": [
        "## Using Our Graph\n",
        "\n",
        "Now that we've created and compiled our graph - we can call it *just as we'd call any other* `Runnable`!\n",
        "\n",
        "Let's try out a few examples to see how it fairs:"
      ]
    },
    {
      "cell_type": "code",
      "execution_count": 21,
      "metadata": {
        "colab": {
          "base_uri": "https://localhost:8080/"
        },
        "id": "Qn4n37PQRPII",
        "outputId": "90f7d3dc-0fe2-4d1f-8221-9b3bcffc982e"
      },
      "outputs": [
        {
          "name": "stdout",
          "output_type": "stream",
          "text": [
            "Initial Query: What is RAG in the context of Large Language Models? When did it break onto the scene?\n",
            "\n",
            "\n",
            "Agent Response: RAG, or Retrieval-Augmented Generation, is a technique used in the context of Large Language Models (LLMs) to enhance their performance by combining retrieval-based methods with generative models. The core idea is to augment the generative capabilities of LLMs with relevant information retrieved from a large corpus of documents or a knowledge base. This approach helps in generating more accurate and contextually relevant responses, especially for tasks that require specific knowledge or up-to-date information.\n",
            "\n",
            "### Key Components of RAG:\n",
            "1. **Retriever**: This component searches a large corpus to find relevant documents or passages based on the input query.\n",
            "2. **Generator**: This component generates the final response by conditioning on both the input query and the retrieved documents.\n",
            "\n",
            "### How RAG Works:\n",
            "1. **Query Input**: The user provides a query or prompt.\n",
            "2. **Retrieval Step**: The retriever searches a pre-indexed corpus to find the most relevant documents or passages.\n",
            "3. **Generation Step**: The generator uses the retrieved documents along with the original query to generate a coherent and contextually relevant response.\n",
            "\n",
            "### Advantages of RAG:\n",
            "- **Improved Accuracy**: By leveraging external knowledge, RAG can provide more accurate and detailed responses.\n",
            "- **Up-to-date Information**: It can incorporate the latest information from the corpus, making it useful for answering questions about recent events or specialized topics.\n",
            "- **Contextual Relevance**: The retrieval step ensures that the generated response is grounded in relevant context, improving the overall quality of the output.\n",
            "\n",
            "### When Did RAG Break Onto the Scene?\n",
            "RAG was introduced in a research paper by Facebook AI (now Meta AI) in 2020. The paper, titled \"Retrieval-Augmented Generation for Knowledge-Intensive NLP Tasks,\" was presented at the 2020 Conference on Neural Information Processing Systems (NeurIPS). The introduction of RAG marked a significant advancement in the field of natural language processing, particularly for tasks that require integrating external knowledge with generative models.\n",
            "\n",
            "Would you like more detailed information or specific papers on RAG?\n"
          ]
        }
      ],
      "source": [
        "from langchain_core.messages import HumanMessage\n",
        "\n",
        "inputs = {\"messages\" : [HumanMessage(content=\"What is RAG in the context of Large Language Models? When did it break onto the scene?\")]}\n",
        "\n",
        "messages = app.invoke(inputs)\n",
        "\n",
        "print_messages(messages)"
      ]
    },
    {
      "cell_type": "markdown",
      "metadata": {
        "id": "DBHnUtLSscRr"
      },
      "source": [
        "Let's look at what happened:\n",
        "\n",
        "1. Our state object was populated with our request\n",
        "2. The state object was passed into our entry point (agent node) and the agent node added an `AIMessage` to the state object and passed it along the conditional edge\n",
        "3. The conditional edge received the state object, found the \"function_call\" `additional_kwarg`, and sent the state object to the action node\n",
        "4. The action node added the response from the OpenAI function calling endpoint to the state object and passed it along the edge to the agent node\n",
        "5. The agent node added a response to the state object and passed it along the conditional edge\n",
        "6. The conditional edge received the state object, could not find the \"function_call\" `additional_kwarg` and passed the state object to END where we see it output in the cell above!\n",
        "\n",
        "Now let's look at an example that shows a multiple tool usage - all with the same flow!"
      ]
    },
    {
      "cell_type": "code",
      "execution_count": 22,
      "metadata": {
        "colab": {
          "base_uri": "https://localhost:8080/"
        },
        "id": "afv2BuEsV5JG",
        "outputId": "6ae3afec-7da7-4c5d-a3ca-2ed75735c029"
      },
      "outputs": [
        {
          "name": "stdout",
          "output_type": "stream",
          "text": [
            "Initial Query: What is QLoRA in Machine Learning? Are their any technical papers that could help me understand? Once you have that information, can you look up the bio of the first author on the QLoRA paper?\n",
            "\n",
            "\n",
            "Tool Call - Name: arxiv + Query: {\"query\":\"QLoRA\"}\n",
            "Tool Response: Published: 2023-05-23\n",
            "Title: QLoRA: Efficient Finetuning of Quantized LLMs\n",
            "Authors: Tim Dettmers, Artidoro Pagnoni, Ari Holtzman, Luke Zettlemoyer\n",
            "Summary: We present QLoRA, an efficient finetuning approach that reduces memory usage\n",
            "enough to finetune a 65B parameter model on a single 48GB GPU while preserving\n",
            "full 16-bit finetuning task performance. QLoRA backpropagates gradients through\n",
            "a frozen, 4-bit quantized pretrained language model into Low Rank\n",
            "Adapters~(LoRA). Our best model family, which we name Guanaco, outperforms all\n",
            "previous openly released models on the Vicuna benchmark, reaching 99.3% of the\n",
            "performance level of ChatGPT while only requiring 24 hours of finetuning on a\n",
            "single GPU. QLoRA introduces a number of innovations to save memory without\n",
            "sacrificing performance: (a) 4-bit NormalFloat (NF4), a new data type that is\n",
            "information theoretically optimal for normally distributed weights (b) double\n",
            "quantization to reduce the average memory footprint by quantizing the\n",
            "quantization constants, and (c) paged optimziers to manage memory spikes. We\n",
            "use QLoRA to finetune more than 1,000 models, providing a detailed analysis of\n",
            "instruction following and chatbot performance across 8 instruction datasets,\n",
            "multiple model types (LLaMA, T5), and model scales that would be infeasible to\n",
            "run with regular finetuning (e.g. 33B and 65B parameter models). Our results\n",
            "show that QLoRA finetuning on a small high-quality dataset leads to\n",
            "state-of-the-art results, even when using smaller models than the previous\n",
            "SoTA. We provide a detailed analysis of chatbot performance based on both human\n",
            "and GPT-4 evaluations showing that GPT-4 evaluations are a cheap and reasonable\n",
            "alternative to human evaluation. Furthermore, we find that current chatbot\n",
            "benchmarks are not trustworthy to accurately evaluate the performance levels of\n",
            "chatbots. A lemon-picked analysis demonstrates where Guanaco fails compared to\n",
            "ChatGPT. We release all of our models and code, including CUDA kernels for\n",
            "4-bit training.\n",
            "\n",
            "Published: 2024-05-27\n",
            "Title: Accurate LoRA-Finetuning Quantization of LLMs via Information Retention\n",
            "Authors: Haotong Qin, Xudong Ma, Xingyu Zheng, Xiaoyang Li, Yang Zhang, Shouda Liu, Jie Luo, Xianglong Liu, Michele Magno\n",
            "Summary: The LoRA-finetuning quantization of LLMs has been extensively studied to\n",
            "obtain accurate yet compact LLMs for deployment on resource-constrained\n",
            "hardware. However, existing methods cause the quantized LLM to severely degrade\n",
            "and even fail to benefit from the finetuning of LoRA. This paper proposes a\n",
            "novel IR-QLoRA for pushing quantized LLMs with LoRA to be highly accurate\n",
            "through information retention. The proposed IR-QLoRA mainly relies on two\n",
            "technologies derived from the perspective of unified information: (1)\n",
            "statistics-based Information Calibration Quantization allows the quantized\n",
            "parameters of LLM to retain original information accurately; (2)\n",
            "finetuning-based Information Elastic Connection makes LoRA utilizes elastic\n",
            "representation transformation with diverse information. Comprehensive\n",
            "experiments show that IR-QLoRA can significantly improve accuracy across LLaMA\n",
            "and LLaMA2 families under 2-4 bit-widths, e.g., 4- bit LLaMA-7B achieves 1.4%\n",
            "improvement on MMLU compared with the state-of-the-art methods. The significant\n",
            "performance gain requires only a tiny 0.31% additional time consumption,\n",
            "revealing the satisfactory efficiency of our IR-QLoRA. We highlight that\n",
            "IR-QLoRA enjoys excellent versatility, compatible with various frameworks\n",
            "(e.g., NormalFloat and Integer quantization) and brings general accuracy gains.\n",
            "The code is available at https://github.com/htqin/ir-qlora.\n",
            "\n",
            "Published: 2024-06-12\n",
            "Title: Exploring Fact Memorization and Style Imitation in LLMs Using QLoRA: An Experimental Study and Quality Assessment Methods\n",
            "Authors: Eugene Vyborov, Oleksiy Osypenko, Serge Sotnyk\n",
            "Summary: There are various methods for adapting LLMs to different domains. The most\n",
            "common methods are prompting, finetuning, and RAG. In this w\n",
            "\n",
            "Tool Call - Name: duckduckgo_search + Query: {\"query\":\"Tim Dettmers bio\"}\n",
            "Tool Response: Bio: Tim Dettmers's research focuses on making foundation models, such as ChatGPT, accessible to researchers and practitioners by reducing their resource requirements. This involves developing novel compression and networking algorithms and building systems that allow for memory-efficient, fast, and cheap deep learning. ... Bio: Tim Dettmers's research focuses on making foundation models, such as ChatGPT, accessible to researchers and practitioners by reducing their resource requirements. This involves developing novel compression and networking algorithms and building systems that allow for memory-efficient, fast, and cheap deep learning. ... Bio: Tim Dettmers's research focuses on making foundation models, such as ChatGPT, accessible to researchers and practitioners by reducing their resource requirements. This involves developing novel compression and networking algorithms and building systems that allow for memory-efficient, fast, and cheap deep learning. ... Bio: Tim Dettmers's research focuses on making foundation models, such as ChatGPT, accessible to researchers and practitioners by reducing their resource requirements. This involves developing novel compression and networking algorithms and building systems that allow for memory-efficient, fast, and cheap deep learning. ... Bio: Tim Dettmers's research focuses on making foundation models, such as ChatGPT, accessible to researchers and practitioners by reducing their resource requirements. This involves developing novel compression and networking algorithms and building systems that allow for memory-efficient, fast, and cheap deep learning. ...\n",
            "\n",
            "Agent Response: ### QLoRA in Machine Learning\n",
            "\n",
            "**QLoRA** stands for \"Quantized Low-Rank Adaptation.\" It is an efficient finetuning approach designed to reduce memory usage while preserving the performance of large language models (LLMs). The key innovations of QLoRA include:\n",
            "\n",
            "1. **4-bit NormalFloat (NF4)**: A new data type optimized for normally distributed weights.\n",
            "2. **Double Quantization**: Reduces the average memory footprint by quantizing the quantization constants.\n",
            "3. **Paged Optimizers**: Manage memory spikes during training.\n",
            "\n",
            "QLoRA allows for the finetuning of large models, such as a 65 billion parameter model, on a single 48GB GPU. The approach backpropagates gradients through a frozen, 4-bit quantized pretrained language model into Low Rank Adapters (LoRA). The resulting models, such as the Guanaco family, have shown to outperform previous openly released models on benchmarks like Vicuna, achieving 99.3% of the performance level of ChatGPT with significantly reduced resource requirements.\n",
            "\n",
            "### Technical Papers on QLoRA\n",
            "\n",
            "1. **Title**: QLoRA: Efficient Finetuning of Quantized LLMs\n",
            "   - **Authors**: Tim Dettmers, Artidoro Pagnoni, Ari Holtzman, Luke Zettlemoyer\n",
            "   - **Published**: 2023-05-23\n",
            "   - **Summary**: This paper introduces QLoRA and its innovations, providing a detailed analysis of instruction following and chatbot performance across various datasets and model scales.\n",
            "\n",
            "2. **Title**: Accurate LoRA-Finetuning Quantization of LLMs via Information Retention\n",
            "   - **Authors**: Haotong Qin, Xudong Ma, Xingyu Zheng, Xiaoyang Li, Yang Zhang, Shouda Liu, Jie Luo, Xianglong Liu, Michele Magno\n",
            "   - **Published**: 2024-05-27\n",
            "   - **Summary**: This paper proposes IR-QLoRA, which enhances the accuracy of quantized LLMs through information retention techniques.\n",
            "\n",
            "3. **Title**: Exploring Fact Memorization and Style Imitation in LLMs Using QLoRA: An Experimental Study and Quality Assessment Methods\n",
            "   - **Authors**: Eugene Vyborov, Oleksiy Osypenko, Serge Sotnyk\n",
            "   - **Published**: 2024-06-12\n",
            "   - **Summary**: This paper explores the adaptation of LLMs to different domains using QLoRA, focusing on fact memorization and style imitation.\n",
            "\n",
            "### Bio of Tim Dettmers\n",
            "\n",
            "Tim Dettmers is a researcher whose work focuses on making foundation models, such as ChatGPT, accessible to researchers and practitioners by reducing their resource requirements. His research involves developing novel compression and networking algorithms and building systems that allow for memory-efficient, fast, and cost-effective deep learning.\n"
          ]
        }
      ],
      "source": [
        "inputs = {\"messages\" : [HumanMessage(content=\"What is QLoRA in Machine Learning? Are their any technical papers that could help me understand? Once you have that information, can you look up the bio of the first author on the QLoRA paper?\")]}\n",
        "\n",
        "messages = app.invoke(inputs)\n",
        "\n",
        "print_messages(messages)"
      ]
    },
    {
      "cell_type": "markdown",
      "metadata": {
        "id": "CXzDlZVz1Hnf"
      },
      "source": [
        "#### 🏗️ Activity #2:\n",
        "\n",
        "Please write out the steps the agent took to arrive at the correct answer."
      ]
    },
    {
      "cell_type": "markdown",
      "metadata": {},
      "source": [
        "##### ANSWER:  LangSmith has the best summary of this, capturing the interaction between the agent and action nodes.\n",
        "\n",
        "- review the detail here:  https://smith.langchain.com/public/2103299e-0a95-495d-81ff-30b9ad6e2df2/r\n",
        "\n",
        "Following screenshots focus on the calls to the LLM throughout the lifecycle of the instance of the LangGraph call.\n",
        "\n",
        "1. initial request to LLM - first request for tool action\n",
        "![Screenshot 2024-07-09 221433.png](./images/Screenshot-2024-07-09-221433.png)\n",
        "\n",
        "2. second LLM request - request for followup tool action\n",
        "![Screenshot 2024-07-09 221405.png](./images/Screenshot-2024-07-09-221405.png)\n",
        "\n",
        "3. third LLM request - no function call in response, and provides response to initial query\n",
        "![Screenshot 2024-07-09 221457.png](./images/Screenshot-2024-07-09-221457.png)\n",
        "\n",
        "4. the END\n",
        "![Screenshot 2024-07-09 221811.png](./images/Screenshot-2024-07-09-221811.png)"
      ]
    },
    {
      "cell_type": "markdown",
      "metadata": {
        "id": "JQmrzYfrm1Dr"
      },
      "source": [
        "# 🤝 Breakout Room #2"
      ]
    },
    {
      "cell_type": "markdown",
      "metadata": {
        "id": "v7c8-Uyarh1v"
      },
      "source": [
        "## Part 1: LangSmith Evaluator"
      ]
    },
    {
      "cell_type": "markdown",
      "metadata": {
        "id": "pV3XeFOT1Sar"
      },
      "source": [
        "### Pre-processing for LangSmith"
      ]
    },
    {
      "cell_type": "markdown",
      "metadata": {
        "id": "wruQCuzewUuO"
      },
      "source": [
        "To do a little bit more preprocessing, let's wrap our LangGraph agent in a simple chain."
      ]
    },
    {
      "cell_type": "code",
      "execution_count": 23,
      "metadata": {
        "id": "oeXdQgbxwhTv"
      },
      "outputs": [],
      "source": [
        "def convert_inputs(input_object):\n",
        "  return {\"messages\" : [HumanMessage(content=input_object[\"question\"])]}\n",
        "\n",
        "def parse_output(input_state):\n",
        "  return input_state[\"messages\"][-1].content\n",
        "\n",
        "agent_chain = convert_inputs | app | parse_output"
      ]
    },
    {
      "cell_type": "code",
      "execution_count": 24,
      "metadata": {
        "colab": {
          "base_uri": "https://localhost:8080/",
          "height": 139
        },
        "id": "orYxBZXSxJjZ",
        "outputId": "d2b3be9d-1dbb-4109-83e4-673c9b73483e"
      },
      "outputs": [
        {
          "data": {
            "text/plain": [
              "\"RAG stands for Retrieval-Augmented Generation. It is a technique used in natural language processing (NLP) and machine learning to improve the performance of language models by combining retrieval-based methods with generative models. Here's a brief overview of how it works:\\n\\n1. **Retrieval**: In the first step, the system retrieves relevant documents or pieces of information from a large corpus based on the input query. This is typically done using a retrieval model, such as BM25 or a dense retrieval model like DPR (Dense Passage Retrieval).\\n\\n2. **Augmentation**: The retrieved documents are then used to augment the input query. This means that the information from the retrieved documents is combined with the original query to provide more context and relevant information.\\n\\n3. **Generation**: Finally, a generative model, such as a transformer-based language model (e.g., GPT-3, BERT), uses the augmented input to generate a response. The generative model can produce more accurate and contextually relevant answers because it has access to additional information from the retrieval step.\\n\\nRAG is particularly useful in scenarios where the model needs to generate responses based on a large and diverse set of information, such as in open-domain question answering, customer support, and knowledge-based systems. By leveraging both retrieval and generation, RAG can provide more accurate and informative responses compared to using either approach alone.\""
            ]
          },
          "execution_count": 24,
          "metadata": {},
          "output_type": "execute_result"
        }
      ],
      "source": [
        "agent_chain.invoke({\"question\" : \"What is RAG?\"})"
      ]
    },
    {
      "cell_type": "markdown",
      "metadata": {
        "id": "f9UkCIqkpyZu"
      },
      "source": [
        "### Task 1: Creating An Evaluation Dataset\n",
        "\n",
        "Just as we saw last week, we'll want to create a dataset to test our Agent's ability to answer questions.\n",
        "\n",
        "In order to do this - we'll want to provide some questions and some answers. Let's look at how we can create such a dataset below.\n",
        "\n",
        "```python\n",
        "questions = [\n",
        "    \"What optimizer is used in QLoRA?\",\n",
        "    \"What data type was created in the QLoRA paper?\",\n",
        "    \"What is a Retrieval Augmented Generation system?\",\n",
        "    \"Who authored the QLoRA paper?\",\n",
        "    \"What is the most popular deep learning framework?\",\n",
        "    \"What significant improvements does the LoRA system make?\"\n",
        "]\n",
        "\n",
        "answers = [\n",
        "    {\"must_mention\" : [\"paged\", \"optimizer\"]},\n",
        "    {\"must_mention\" : [\"NF4\", \"NormalFloat\"]},\n",
        "    {\"must_mention\" : [\"ground\", \"context\"]},\n",
        "    {\"must_mention\" : [\"Tim\", \"Dettmers\"]},\n",
        "    {\"must_mention\" : [\"PyTorch\", \"TensorFlow\"]},\n",
        "    {\"must_mention\" : [\"reduce\", \"parameters\"]},\n",
        "]\n",
        "```"
      ]
    },
    {
      "cell_type": "markdown",
      "metadata": {
        "id": "VfMXF2KAsQxs"
      },
      "source": [
        "#### 🏗️ Activity #3:\n",
        "\n",
        "Please create a dataset in the above format with at least 5 questions."
      ]
    },
    {
      "cell_type": "code",
      "execution_count": 25,
      "metadata": {
        "id": "CbagRuJop83E"
      },
      "outputs": [],
      "source": [
        "questions = [\n",
        "    \"What optimizer is used in QLoRA?\",\n",
        "    \"What data type was created in the QLoRA paper?\",\n",
        "    \"What is a Retrieval Augmented Generation system?\",\n",
        "    \"Who authored the QLoRA paper?\",\n",
        "    \"What is the most popular deep learning framework?\",\n",
        "    \"What significant improvements does the LoRA system make?\"\n",
        "]\n",
        "\n",
        "answers = [\n",
        "    {\"must_mention\" : [\"paged\", \"optimizer\"]},\n",
        "    {\"must_mention\" : [\"NF4\", \"NormalFloat\"]},\n",
        "    {\"must_mention\" : [\"ground\", \"context\"]},\n",
        "    {\"must_mention\" : [\"Tim\", \"Dettmers\"]},\n",
        "    {\"must_mention\" : [\"PyTorch\", \"TensorFlow\"]},\n",
        "    {\"must_mention\" : [\"reduce\", \"parameters\"]},\n",
        "]"
      ]
    },
    {
      "cell_type": "markdown",
      "metadata": {
        "id": "z7QVFuAmsh7L"
      },
      "source": [
        "Now we can add our dataset to our LangSmith project using the following code which we saw last Thursday!"
      ]
    },
    {
      "cell_type": "code",
      "execution_count": 26,
      "metadata": {
        "id": "RLfrZrgSsn85"
      },
      "outputs": [],
      "source": [
        "from langsmith import Client\n",
        "\n",
        "client = Client()\n",
        "dataset_name = f\"Retrieval Augmented Generation - Evaluation Dataset - {uuid4().hex[0:8]}\"\n",
        "\n",
        "dataset = client.create_dataset(\n",
        "    dataset_name=dataset_name,\n",
        "    description=\"Questions about the QLoRA Paper to Evaluate RAG over the same paper.\"\n",
        ")\n",
        "\n",
        "client.create_examples(\n",
        "    inputs=[{\"question\" : q} for q in questions],\n",
        "    outputs=answers,\n",
        "    dataset_id=dataset.id,\n",
        ")"
      ]
    },
    {
      "cell_type": "markdown",
      "metadata": {
        "id": "ciV73F9Q04w0"
      },
      "source": [
        "#### ❓ Question #3:\n",
        "\n",
        "How are the correct answers associated with the questions?\n",
        "\n",
        "> NOTE: Feel free to indicate if this is problematic or not"
      ]
    },
    {
      "cell_type": "markdown",
      "metadata": {},
      "source": [
        "##### ANSWER:  the questions and answers are associated by their position in two separate lists.\n",
        "\n",
        "The association is implicit, based on the index. The first question corresponds to the first answer, the second question to the second answer, and so on.\n",
        "This method is problematic for several reasons:\n",
        "\n",
        "1. It's error-prone: If the lists get out of sync (e.g., a question is added without a corresponding answer), it could lead to incorrect evaluations.\n",
        "2. It's not self-documenting: Someone reading the code later might not immediately understand how questions and answers are related.\n",
        "3. It's inflexible: Adding or removing questions/answers in the middle of the lists could disrupt all subsequent associations.\n",
        "\n",
        "A more robust approach would be to use a dictionary or a list of tuples to explicitly pair questions with their corresponding answers.\n",
        "\n",
        "NOTE:  a LangSmith dataset has been created with the questions and answers about the QLoRA paper.  This at least provides a means of validation\n",
        "\n",
        "- https://smith.langchain.com/public/fb3e23b9-31c5-49e0-9b88-3f771a75fa36/d"
      ]
    },
    {
      "cell_type": "markdown",
      "metadata": {
        "id": "-lRTXUrTtP9Y"
      },
      "source": [
        "### Task 2: Adding Evaluators\n",
        "\n",
        "Now we can add a custom evaluator to see if our responses contain the expected information.\n",
        "\n",
        "We'll be using a fairly naive exact-match process to determine if our response contains specific strings."
      ]
    },
    {
      "cell_type": "code",
      "execution_count": 27,
      "metadata": {
        "id": "QrAUXMFftlAY"
      },
      "outputs": [],
      "source": [
        "from langsmith.evaluation import EvaluationResult, run_evaluator\n",
        "\n",
        "@run_evaluator\n",
        "def must_mention(run, example) -> EvaluationResult:\n",
        "    prediction = run.outputs.get(\"output\") or \"\"\n",
        "    required = example.outputs.get(\"must_mention\") or []\n",
        "    score = all(phrase in prediction for phrase in required)\n",
        "    return EvaluationResult(key=\"must_mention\", score=score)"
      ]
    },
    {
      "cell_type": "markdown",
      "metadata": {
        "id": "PNtHORUh0jZY"
      },
      "source": [
        "#### ❓ Question #4:\n",
        "\n",
        "What are some ways you could improve this metric as-is?\n",
        "\n",
        "> NOTE: Alternatively you can suggest where gaps exist in this method."
      ]
    },
    {
      "cell_type": "markdown",
      "metadata": {},
      "source": [
        "##### ANSWER:  \n",
        "\n",
        "The current metric is a simple \"must mention\" check, some ways to improve this metric or address its gaps include:\n",
        "\n",
        "- Case sensitivity: The current implementation is case-sensitive. You could make it case-insensitive for more flexible matching.\n",
        "- Partial matching: It currently checks for exact substrings. You could implement fuzzy matching or stemming to account for variations in word forms.\n",
        "- Contextual understanding: The current method doesn't consider the context in which words appear. You could implement a more sophisticated NLP approach to ensure the required phrases are used in the correct context.\n",
        "- Weighting: All required phrases are treated equally. You could implement a weighting system where some phrases are more important than others.\n",
        "- Negation handling: The current method doesn't account for negations. A response containing \"not NF4\" would still be considered correct if \"NF4\" is a required phrase.\n",
        "- Synonyms: It doesn't recognize synonyms or paraphrases. You could implement a synonym recognition system.\n",
        "- Scoring granularity: The current scoring is binary (all or nothing). You could implement a more granular scoring system, perhaps giving partial credit for mentioning some but not all required phrases.\n",
        "\n",
        "\n",
        "reference:  https://docs.smith.langchain.com/how_to_guides/evaluation/evaluate_llm_application"
      ]
    },
    {
      "cell_type": "markdown",
      "metadata": {
        "id": "mZ4DVSXl0BX5"
      },
      "source": [
        "Now that we have created our custom evaluator - let's initialize our `RunEvalConfig` with it, and a few others:\n",
        "\n",
        "- `\"criteria\"` includes the default criteria which, in this case, means \"helpfulness\"\n",
        "- `\"cot_qa\"` includes a criteria that bases whether or not the answer is correct by utilizing a Chain of Thought prompt and the provided context to determine if the response is correct or not."
      ]
    },
    {
      "cell_type": "code",
      "execution_count": 58,
      "metadata": {
        "id": "sL4-XcjytWsu"
      },
      "outputs": [],
      "source": [
        "from langchain.smith import RunEvalConfig, run_on_dataset\n",
        "\n",
        "eval_config = RunEvalConfig(\n",
        "    custom_evaluators=[must_mention],\n",
        "    evaluators=[\n",
        "        \"criteria\",\n",
        "        \"cot_qa\",\n",
        "    ],\n",
        ")"
      ]
    },
    {
      "cell_type": "markdown",
      "metadata": {
        "id": "r1RJr349zhv7"
      },
      "source": [
        "Task 3: Evaluating\n",
        "\n",
        "All that is left to do is evaluate our agent's response!"
      ]
    },
    {
      "cell_type": "code",
      "execution_count": 29,
      "metadata": {
        "colab": {
          "base_uri": "https://localhost:8080/"
        },
        "id": "p5TeCUUkuGld",
        "outputId": "157f1019-4ee4-4994-fe80-7afc2e5fdfb6"
      },
      "outputs": [
        {
          "name": "stdout",
          "output_type": "stream",
          "text": [
            "View the evaluation results for project 'RAG Pipeline - Evaluation - fcc59b0c' at:\n",
            "https://smith.langchain.com/o/a7c25b04-2d2b-5cac-90ab-f8d1cb327556/datasets/84470f1d-1a4d-4e94-b97d-d2f16cb9c43a/compare?selectedSessions=a7681832-e5be-471d-b523-f2fb84bfdf17\n",
            "\n",
            "View all tests for Dataset Retrieval Augmented Generation - Evaluation Dataset - d2ba2462 at:\n",
            "https://smith.langchain.com/o/a7c25b04-2d2b-5cac-90ab-f8d1cb327556/datasets/84470f1d-1a4d-4e94-b97d-d2f16cb9c43a\n",
            "[------------------------------------------------->] 6/6"
          ]
        },
        {
          "data": {
            "text/plain": [
              "{'project_name': 'RAG Pipeline - Evaluation - fcc59b0c',\n",
              " 'results': {'5d3fec3a-d272-4884-8d0b-52d8f1e7c591': {'input': {'question': 'What optimizer is used in QLoRA?'},\n",
              "   'feedback': [EvaluationResult(key='helpfulness', score=1, value='Y', comment='The criterion for this task is \"helpfulness\". \\n\\nThe submission provides a direct answer to the question, stating that the AdamW optimizer is used in QLoRA. \\n\\nIn addition to answering the question, the submission also provides additional information about the AdamW optimizer, explaining that it is a variant of the Adam optimizer that includes weight decay. This information is insightful as it provides context about why this particular optimizer might be used in QLoRA.\\n\\nThe submission also mentions that the AdamW optimizer is well-suited for training large-scale language models and is commonly used in various fine-tuning tasks. This information is appropriate as it relates to the use of the optimizer in QLoRA, a method used for training language models.\\n\\nBased on this analysis, the submission meets the criterion of being helpful, insightful, and appropriate.\\n\\nY', correction=None, evaluator_info={'__run': RunInfo(run_id=UUID('72c52557-3ab4-4bef-b970-e722bfee2d2d'))}, feedback_config=None, source_run_id=None, target_run_id=None),\n",
              "    EvaluationResult(key='COT Contextual Accuracy', score=None, value=None, comment=\"The context does not provide any information about the optimizer used in QLoRA. However, the student's answer states that QLoRA uses the AdamW optimizer. Without any conflicting information in the context, we can't definitively say that the student's answer is incorrect. However, we also can't confirm that it's correct based on the provided context.\\nGRADE: CANNOT BE DETERMINED\", correction=None, evaluator_info={'__run': RunInfo(run_id=UUID('8d3a9f52-e087-4b52-a63b-e9b089c5869c'))}, feedback_config=None, source_run_id=None, target_run_id=None),\n",
              "    EvaluationResult(key='must_mention', score=False, value=None, comment=None, correction=None, evaluator_info={}, feedback_config=None, source_run_id=UUID('41d03c11-9246-44ec-8312-8a328a0d0d49'), target_run_id=None)],\n",
              "   'execution_time': 2.570913,\n",
              "   'run_id': '3f2d8efe-d14f-407e-82aa-68215900163c',\n",
              "   'output': 'QLoRA (Quantized Low-Rank Adaptation) typically uses the AdamW optimizer. AdamW is a variant of the Adam optimizer that includes weight decay, which helps in regularizing the model and preventing overfitting. This optimizer is well-suited for training large-scale language models and is commonly used in various fine-tuning tasks.',\n",
              "   'reference': {'must_mention': ['paged', 'optimizer']}},\n",
              "  'a90bf1f4-feb1-4bae-bf2b-78e2b06dead0': {'input': {'question': 'What data type was created in the QLoRA paper?'},\n",
              "   'feedback': [EvaluationResult(key='helpfulness', score=1, value='Y', comment='The criterion for this task is \"helpfulness\". \\n\\nThe submission provides a clear and concise answer to the question asked. It not only names the data type created in the QLoRA paper, but also provides additional information about its purpose and usage. This additional context makes the answer more helpful and insightful for the reader. \\n\\nThe submission is also appropriate as it directly addresses the question and does not include any irrelevant or inappropriate content. \\n\\nTherefore, the submission meets the criterion of being helpful, insightful, and appropriate.\\n\\nY', correction=None, evaluator_info={'__run': RunInfo(run_id=UUID('a7ded05d-412b-4c71-86cb-44b6260d0879'))}, feedback_config=None, source_run_id=None, target_run_id=None),\n",
              "    EvaluationResult(key='COT Contextual Accuracy', score=1, value='CORRECT', comment=\"The context mentions that the data type created in the QLoRA paper is 'NF4' or 'NormalFloat'. The student's answer also mentions that the data type created in the QLoRA paper is 'NF4' or 'NormalFloat'. Therefore, the student's answer matches the context.\\nGRADE: CORRECT\", correction=None, evaluator_info={'__run': RunInfo(run_id=UUID('a933b07c-fcfd-4920-9888-4a12f932bd10'))}, feedback_config=None, source_run_id=None, target_run_id=None),\n",
              "    EvaluationResult(key='must_mention', score=True, value=None, comment=None, correction=None, evaluator_info={}, feedback_config=None, source_run_id=UUID('6b8faec7-b6a7-4a22-9836-1ee7831c1886'), target_run_id=None)],\n",
              "   'execution_time': 2.901515,\n",
              "   'run_id': 'bbabdd71-11c0-43e7-bbc5-79ea9c880322',\n",
              "   'output': 'The QLoRA (Quantized Low-Rank Adaptation) paper introduced a new data type called `NF4` (4-bit NormalFloat). This data type is designed to be used in the context of quantized low-rank adaptation of large language models, allowing for efficient storage and computation while maintaining model performance.',\n",
              "   'reference': {'must_mention': ['NF4', 'NormalFloat']}},\n",
              "  '529625af-6110-4a89-96c0-69ea8e956600': {'input': {'question': 'What is a Retrieval Augmented Generation system?'},\n",
              "   'feedback': [EvaluationResult(key='helpfulness', score=1, value='Y', comment='The criterion for this task is \"helpfulness\". \\n\\n1. The submission provides a detailed explanation of what a Retrieval Augmented Generation system is, breaking down its components and explaining how they work together. This is helpful for someone trying to understand the concept.\\n\\n2. The submission also provides a step-by-step breakdown of how a RAG system works, from receiving an input query to generating a response. This is insightful and helps to further clarify the concept.\\n\\n3. The submission goes beyond just explaining what a RAG system is and also discusses its benefits and potential applications. This is appropriate and adds value to the explanation.\\n\\n4. The language used in the submission is clear and easy to understand, making the information accessible to a wide range of readers.\\n\\nBased on these points, the submission meets the criterion of being helpful, insightful, and appropriate.\\n\\nY', correction=None, evaluator_info={'__run': RunInfo(run_id=UUID('cbf00b5e-2128-48a7-a17b-1c69f6e9a120'))}, feedback_config=None, source_run_id=None, target_run_id=None),\n",
              "    EvaluationResult(key='COT Contextual Accuracy', score=1, value='CORRECT', comment=\"The student's answer is detailed and comprehensive. It accurately describes what a Retrieval-Augmented Generation (RAG) system is, how it works, its benefits, and its applications. The student explains the two main components of a RAG system: the retrieval-based component and the generation-based component. They also provide a step-by-step breakdown of how a RAG system works, from receiving an input query to generating a response. The student also highlights the benefits of using a RAG system, such as improved relevance, knowledge integration, and contextual understanding. Lastly, the student mentions some applications of RAG systems, including question answering, customer support, and content creation. Therefore, the student's answer is factually accurate and aligns with the context provided.\\nGRADE: CORRECT\", correction=None, evaluator_info={'__run': RunInfo(run_id=UUID('02b7848b-b11e-4783-aa28-5730256db2d3'))}, feedback_config=None, source_run_id=None, target_run_id=None),\n",
              "    EvaluationResult(key='must_mention', score=False, value=None, comment=None, correction=None, evaluator_info={}, feedback_config=None, source_run_id=UUID('ed972072-7ed6-44b6-889f-8f97f17352ed'), target_run_id=None)],\n",
              "   'execution_time': 5.752158,\n",
              "   'run_id': '58fa1d98-b98f-4dc9-b1dc-01d6d05c6e2d',\n",
              "   'output': 'Retrieval-Augmented Generation (RAG) is a type of natural language processing (NLP) system that combines retrieval-based and generation-based approaches to improve the quality and relevance of generated text. Here’s a breakdown of the two components:\\n\\n1. **Retrieval-Based Component**:\\n   - This part of the system retrieves relevant documents or pieces of information from a large corpus or database based on the input query.\\n   - It uses techniques such as TF-IDF, BM25, or more advanced neural retrieval models to find the most relevant documents.\\n\\n2. **Generation-Based Component**:\\n   - This part of the system generates text based on the retrieved documents and the input query.\\n   - It typically uses advanced language models like GPT-3, BERT, or other transformer-based models to generate coherent and contextually appropriate responses.\\n\\n### How RAG Works:\\n1. **Input Query**: The system receives an input query from the user.\\n2. **Retrieval**: The retrieval component searches a large corpus to find documents or passages that are relevant to the query.\\n3. **Augmentation**: The retrieved documents are then used to augment the input query, providing additional context and information.\\n4. **Generation**: The generation component uses the augmented input to generate a response that is informed by the retrieved documents.\\n\\n### Benefits of RAG:\\n- **Improved Relevance**: By leveraging external documents, the system can provide more accurate and relevant responses.\\n- **Knowledge Integration**: It can integrate up-to-date information from a large corpus, making it more knowledgeable.\\n- **Contextual Understanding**: The generation component can produce more contextually appropriate and coherent responses.\\n\\n### Applications:\\n- **Question Answering**: Providing detailed and accurate answers to user queries.\\n- **Customer Support**: Assisting in customer service by retrieving and generating relevant responses.\\n- **Content Creation**: Aiding in the creation of articles, reports, and other content by providing relevant information and context.\\n\\nOverall, RAG systems aim to combine the strengths of both retrieval and generation to create more powerful and effective NLP applications.',\n",
              "   'reference': {'must_mention': ['ground', 'context']}},\n",
              "  '073fe52a-725a-4347-809d-a4d243b205b5': {'input': {'question': 'Who authored the QLoRA paper?'},\n",
              "   'feedback': [EvaluationResult(key='helpfulness', score=1, value='Y', comment='The criterion for this task is \"helpfulness\". \\n\\nThe submission provides an answer to the question asked, which is about the authorship of the QLoRA paper. The response indicates that the paper was developed by members of the University of Washington\\'s UW NLP group. This information is helpful and appropriate as it answers the question directly and provides additional context about the group that authored the paper. \\n\\nThe submission does not provide any misleading or incorrect information, and it is insightful as it provides more than just a simple answer to the question. It also includes the full title of the paper, which adds to its helpfulness.\\n\\nTherefore, the submission meets the criterion of being helpful, insightful, and appropriate.\\n\\nY', correction=None, evaluator_info={'__run': RunInfo(run_id=UUID('9a20653c-4000-48cb-874d-a09e5f86bcab'))}, feedback_config=None, source_run_id=None, target_run_id=None),\n",
              "    EvaluationResult(key='COT Contextual Accuracy', score=0, value='INCORRECT', comment=\"The context provided states that the authors of the QLoRA paper are 'Tim' and 'Dettmers'. The student's answer does not mention these names, instead attributing the paper to members of the University of Washington's UW NLP group. Without any additional information linking 'Tim' and 'Dettmers' to this group, the student's answer cannot be verified as correct based on the provided context.\\nGRADE: INCORRECT\", correction=None, evaluator_info={'__run': RunInfo(run_id=UUID('5d4905a9-1bf1-4795-9f7e-1964caaba5ca'))}, feedback_config=None, source_run_id=None, target_run_id=None),\n",
              "    EvaluationResult(key='must_mention', score=False, value=None, comment=None, correction=None, evaluator_info={}, feedback_config=None, source_run_id=UUID('94b9f104-cbc7-471b-a119-e43d992e66f7'), target_run_id=None)],\n",
              "   'execution_time': 4.962142,\n",
              "   'run_id': '5a9d91f3-4f83-4a70-ae17-207715f96252',\n",
              "   'output': 'The QLoRA paper, titled \"QLoRA: Efficient Finetuning of Quantized LLMs,\" was developed by members of the University of Washington\\'s UW NLP group.',\n",
              "   'reference': {'must_mention': ['Tim', 'Dettmers']}},\n",
              "  '7b808a24-bee4-44f0-969a-56ecc5619253': {'input': {'question': 'What is the most popular deep learning framework?'},\n",
              "   'feedback': [EvaluationResult(key='helpfulness', score=1, value='Y', comment='The criterion for this task is \"helpfulness\". \\n\\nThe submission provides a detailed answer to the question, listing the three most popular deep learning frameworks as of 2023. It not only names the frameworks but also provides additional information about each one, such as who developed them, their key features, and why they are popular. This information is relevant and insightful, as it gives the reader a better understanding of each framework and its use cases. \\n\\nThe submission is also appropriate, as it directly answers the question and stays on topic. It does not include any irrelevant or inappropriate content. \\n\\nTherefore, the submission meets the criterion of being helpful, insightful, and appropriate.\\n\\nY', correction=None, evaluator_info={'__run': RunInfo(run_id=UUID('be81d6f0-057d-47b7-b00a-42a2dfe1e497'))}, feedback_config=None, source_run_id=None, target_run_id=None),\n",
              "    EvaluationResult(key='COT Contextual Accuracy', score=1, value='CORRECT', comment=\"The student's answer lists TensorFlow and PyTorch as popular deep learning frameworks, which matches the context provided. The student also mentions Keras, which is not mentioned in the context, but this does not contradict the context as the context does not state that only TensorFlow and PyTorch are popular. The student's answer is factually accurate and does not conflict with the context.\\nGRADE: CORRECT\", correction=None, evaluator_info={'__run': RunInfo(run_id=UUID('494b86c3-6a7d-4f17-afc1-9e1c026b320b'))}, feedback_config=None, source_run_id=None, target_run_id=None),\n",
              "    EvaluationResult(key='must_mention', score=True, value=None, comment=None, correction=None, evaluator_info={}, feedback_config=None, source_run_id=UUID('a64a7f02-3739-4eb9-aa7d-9d9fc111b2b5'), target_run_id=None)],\n",
              "   'execution_time': 5.277572,\n",
              "   'run_id': 'f8e302fd-d803-4948-a7e0-467100ef2e9f',\n",
              "   'output': \"As of 2023, the most popular deep learning frameworks are:\\n\\n1. **TensorFlow**: Developed by Google, TensorFlow is one of the most widely used open-source libraries for numerical computation and deep learning. It has a strong community and is used by major corporations like Airbnb and Intel.\\n\\n2. **PyTorch**: Developed by Facebook's AI Research lab, PyTorch is highly favored in the research community for its ease of use, flexibility, and strong support for GPU acceleration. It is known for its dynamic computation graph and is widely used for state-of-the-art (SOTA) models.\\n\\n3. **Keras**: Initially developed by François Chollet, Keras is a high-level neural network API written in Python. It is user-friendly and runs on top of TensorFlow, Theano, and CNTK, making it a popular choice for beginners and rapid prototyping.\\n\\nThese frameworks are highly regarded for their capabilities, community support, and extensive use in both industry and research.\",\n",
              "   'reference': {'must_mention': ['PyTorch', 'TensorFlow']}},\n",
              "  'c0a69a56-6806-4b73-bc2b-36b8fb7b4a44': {'input': {'question': 'What significant improvements does the LoRA system make?'},\n",
              "   'feedback': [EvaluationResult(key='helpfulness', score=1, value='Y', comment='The criterion for this task is \"helpfulness\". The submission needs to be helpful, insightful, and appropriate.\\n\\nLooking at the submission, it provides a detailed explanation of the improvements that the LoRA system brings. It lists seven significant improvements, each with a clear and concise explanation. This makes the submission helpful as it provides the information that was asked for in the input.\\n\\nThe submission is also insightful. It not only lists the improvements but also explains why these improvements are significant. For example, it explains how parameter efficiency leads to faster training and how improved generalization can lead to better performance on unseen data. This gives the reader a deeper understanding of the benefits of the LoRA system.\\n\\nFinally, the submission is appropriate. It directly answers the question asked in the input and stays on topic throughout. It uses technical language that is suitable for the subject matter and provides a comprehensive answer to the question.\\n\\nBased on this analysis, the submission meets the criterion of being helpful, insightful, and appropriate.\\n\\nY', correction=None, evaluator_info={'__run': RunInfo(run_id=UUID('3c060ee2-6aa5-4ac2-b264-01688605aee1'))}, feedback_config=None, source_run_id=None, target_run_id=None),\n",
              "    EvaluationResult(key='COT Contextual Accuracy', score=1, value='CORRECT', comment=\"The context provided is 'reduce' and 'parameters'. The student's answer mentions that LoRA significantly reduces the number of trainable parameters required for fine-tuning, which aligns with the context provided. The student's answer also provides additional information about the benefits of LoRA, but none of this information contradicts the context or the question. Therefore, the student's answer is factually accurate.\\nGRADE: CORRECT\", correction=None, evaluator_info={'__run': RunInfo(run_id=UUID('61a34a81-d7fd-4931-a6dd-9a40a549c15e'))}, feedback_config=None, source_run_id=None, target_run_id=None),\n",
              "    EvaluationResult(key='must_mention', score=True, value=None, comment=None, correction=None, evaluator_info={}, feedback_config=None, source_run_id=UUID('c18cd408-e092-420d-aa76-ece2cdcab311'), target_run_id=None)],\n",
              "   'execution_time': 8.762561,\n",
              "   'run_id': 'e1f4499d-c232-4943-8788-7e1eb4ffe63c',\n",
              "   'output': 'LoRA, or Low-Rank Adaptation, is a technique used in the field of machine learning, particularly in the context of fine-tuning large language models. Here are some significant improvements that LoRA brings:\\n\\n1. **Parameter Efficiency**: LoRA significantly reduces the number of trainable parameters required for fine-tuning. Instead of updating all the parameters of a large pre-trained model, LoRA introduces a small number of additional parameters that capture the necessary adaptations. This makes the fine-tuning process more efficient and less resource-intensive.\\n\\n2. **Memory Efficiency**: By reducing the number of parameters that need to be updated, LoRA also reduces the memory footprint during training. This is particularly beneficial when working with very large models that would otherwise require substantial computational resources.\\n\\n3. **Faster Training**: With fewer parameters to update, the training process becomes faster. This allows for quicker iterations and experimentation, which is valuable in research and development settings.\\n\\n4. **Improved Generalization**: LoRA can help in achieving better generalization by focusing on low-rank adaptations. This can lead to models that perform better on unseen data, as the fine-tuning process is more targeted and less prone to overfitting.\\n\\n5. **Modularity**: LoRA allows for modular adaptations, meaning that different low-rank adaptations can be combined or swapped in and out as needed. This modularity can be useful for creating specialized models for different tasks without needing to retrain the entire model from scratch.\\n\\n6. **Scalability**: LoRA is scalable to very large models, making it a practical approach for fine-tuning state-of-the-art language models that have billions of parameters.\\n\\n7. **Cost-Effectiveness**: By reducing the computational and memory requirements, LoRA makes the fine-tuning process more cost-effective. This is particularly important for organizations with limited resources.\\n\\nOverall, LoRA provides a more efficient and effective way to fine-tune large language models, making it a valuable technique in the field of machine learning.',\n",
              "   'reference': {'must_mention': ['reduce', 'parameters']}}},\n",
              " 'aggregate_metrics': None}"
            ]
          },
          "execution_count": 29,
          "metadata": {},
          "output_type": "execute_result"
        }
      ],
      "source": [
        "client.run_on_dataset(\n",
        "    dataset_name=dataset_name,\n",
        "    llm_or_chain_factory=agent_chain,\n",
        "    evaluation=eval_config,\n",
        "    verbose=True,\n",
        "    project_name=f\"RAG Pipeline - Evaluation - {uuid4().hex[0:8]}\",\n",
        "    project_metadata={\"version\": \"1.0.0\"},\n",
        ")"
      ]
    },
    {
      "cell_type": "markdown",
      "metadata": {
        "id": "jhTNe4kWrplB"
      },
      "source": [
        "## Part 2: LangGraph with Helpfulness:"
      ]
    },
    {
      "cell_type": "markdown",
      "metadata": {
        "id": "w1wKRddbIY_S"
      },
      "source": [
        "### Task 3: Adding Helpfulness Check and \"Loop\" Limits\n",
        "\n",
        "Now that we've done evaluation - let's see if we can add an extra step where we review the content we've generated to confirm if it fully answers the user's query!\n",
        "\n",
        "We're going to make a few key adjustments to account for this:\n",
        "\n",
        "1. We're going to add an artificial limit on how many \"loops\" the agent can go through - this will help us to avoid the potential situation where we never exit the loop.\n",
        "2. We'll add a custom node and conditional edge to determine if the response was helpful enough."
      ]
    },
    {
      "cell_type": "markdown",
      "metadata": {
        "id": "npTYJ8ayR5B3"
      },
      "source": [
        "First, let's define our state again - we can check the length of the state object, so we don't need additional state for this."
      ]
    },
    {
      "cell_type": "code",
      "execution_count": 30,
      "metadata": {
        "id": "-LQ84YhyJG0w"
      },
      "outputs": [],
      "source": [
        "class AgentState(TypedDict):\n",
        "  messages: Annotated[list, add_messages]"
      ]
    },
    {
      "cell_type": "markdown",
      "metadata": {
        "id": "gC8t-4FISCEh"
      },
      "source": [
        "We're going to add a custom helpfulness check here!"
      ]
    },
    {
      "cell_type": "code",
      "execution_count": 32,
      "metadata": {
        "id": "ZV_PxI5zNY7f"
      },
      "outputs": [],
      "source": [
        "from langchain_core.prompts import PromptTemplate\n",
        "from langchain_core.output_parsers import StrOutputParser\n",
        "\n",
        "def check_helpfulness(state):\n",
        "  initial_query = state[\"messages\"][0]\n",
        "  final_response = state[\"messages\"][-1]\n",
        "\n",
        "  if len(state[\"messages\"]) > 10:\n",
        "    return \"END\"\n",
        "\n",
        "  prompt_template = \"\"\"\\\n",
        "  Given an initial query and a final response, determine if the final response is extremely helpful or not. Please indicate helpfulness with a 'Y' and unhelpfulness as an 'N'.\n",
        "\n",
        "  Initial Query:\n",
        "  {initial_query}\n",
        "\n",
        "  Final Response:\n",
        "  {final_response}\"\"\"\n",
        "\n",
        "  prompt_template = PromptTemplate.from_template(prompt_template)\n",
        "\n",
        "  helpfulness_check_model = ChatOpenAI(model=\"gpt-4o\")\n",
        "\n",
        "  helpfulness_chain = prompt_template | helpfulness_check_model | StrOutputParser()\n",
        "\n",
        "  helpfulness_response = helpfulness_chain.invoke({\"initial_query\" : initial_query.content, \"final_response\" : final_response.content})\n",
        "\n",
        "  if \"Y\" in helpfulness_response:\n",
        "    print(\"Helpful!\")\n",
        "    return \"end\"\n",
        "  else:\n",
        "    print(\"Not helpful!\")\n",
        "    return \"continue\"\n",
        "\n",
        "def dummy_node(state):\n",
        "  return"
      ]
    },
    {
      "cell_type": "markdown",
      "metadata": {
        "id": "Fz1u9Vf4SHxJ"
      },
      "source": [
        "#### 🏗️ Activity #4:\n",
        "\n",
        "Please write what is happening in our `check_helpfulness` function!"
      ]
    },
    {
      "cell_type": "markdown",
      "metadata": {
        "id": "sD7EV0HqSQcb"
      },
      "source": [
        "Now we can set our graph up! This process will be almost entirely the same - with the inclusion of one additional node/conditional edge!"
      ]
    },
    {
      "cell_type": "markdown",
      "metadata": {
        "id": "oajBwLkFVi1N"
      },
      "source": [
        "#### 🏗️ Activity #5:\n",
        "\n",
        "Please write markdown for the following cells to explain what each is doing."
      ]
    },
    {
      "cell_type": "markdown",
      "metadata": {
        "id": "M6rN7feNVn9f"
      },
      "source": [
        "##### add nodes to the graph"
      ]
    },
    {
      "cell_type": "code",
      "execution_count": 33,
      "metadata": {
        "id": "6r6XXA5FJbVf"
      },
      "outputs": [],
      "source": [
        "graph_with_helpfulness_check = StateGraph(AgentState)\n",
        "\n",
        "graph_with_helpfulness_check.add_node(\"agent\", call_model)\n",
        "graph_with_helpfulness_check.add_node(\"action\", call_tool)\n",
        "graph_with_helpfulness_check.add_node(\"passthrough\", dummy_node)"
      ]
    },
    {
      "cell_type": "markdown",
      "metadata": {
        "id": "XZ22o2mWVrfp"
      },
      "source": [
        "##### set entry point for the graph"
      ]
    },
    {
      "cell_type": "code",
      "execution_count": 34,
      "metadata": {
        "id": "HNWHwWxuRiLY"
      },
      "outputs": [],
      "source": [
        "graph_with_helpfulness_check.set_entry_point(\"agent\")"
      ]
    },
    {
      "cell_type": "markdown",
      "metadata": {
        "id": "6BhnBW2YVsJO"
      },
      "source": [
        "##### add conditional edges to the graph that define conditions for state transtions between nodes"
      ]
    },
    {
      "cell_type": "code",
      "execution_count": 35,
      "metadata": {
        "id": "aVTKnWMbP_8T"
      },
      "outputs": [],
      "source": [
        "graph_with_helpfulness_check.add_conditional_edges(\n",
        "    \"agent\",\n",
        "    should_continue,\n",
        "    {\n",
        "        \"continue\" : \"action\",\n",
        "        \"end\" : \"passthrough\"\n",
        "    }\n",
        ")\n",
        "\n",
        "graph_with_helpfulness_check.add_conditional_edges(\n",
        "    \"passthrough\",\n",
        "    check_helpfulness,\n",
        "    {\n",
        "        \"continue\" : \"agent\",\n",
        "        \"end\" : END\n",
        "    }\n",
        ")"
      ]
    },
    {
      "cell_type": "markdown",
      "metadata": {
        "id": "ZGDLEWOIVtK0"
      },
      "source": [
        "##### add edge between action and agent nodes"
      ]
    },
    {
      "cell_type": "code",
      "execution_count": 36,
      "metadata": {
        "id": "cbDK2MbuREgU"
      },
      "outputs": [],
      "source": [
        "graph_with_helpfulness_check.add_edge(\"action\", \"agent\")"
      ]
    },
    {
      "cell_type": "markdown",
      "metadata": {
        "id": "rSI8AOaEVvT-"
      },
      "source": [
        "##### make the graph executable.  Let's go!"
      ]
    },
    {
      "cell_type": "code",
      "execution_count": 37,
      "metadata": {
        "id": "oQldl8ERQ8lf"
      },
      "outputs": [],
      "source": [
        "agent_with_helpfulness_check = graph_with_helpfulness_check.compile()"
      ]
    },
    {
      "cell_type": "code",
      "execution_count": 47,
      "metadata": {},
      "outputs": [
        {
          "name": "stdout",
          "output_type": "stream",
          "text": [
            "         +-----------+              \n",
            "         | __start__ |              \n",
            "         +-----------+              \n",
            "                *                   \n",
            "                *                   \n",
            "                *                   \n",
            "           +-------+                \n",
            "           | agent |                \n",
            "           +-------+.               \n",
            "          ..         ..             \n",
            "        ..             ..           \n",
            "       .                 .          \n",
            "+--------+         +-------------+  \n",
            "| action |         | passthrough |  \n",
            "+--------+         +-------------+  \n",
            "                          .         \n",
            "                          .         \n",
            "                          .         \n",
            "                     +---------+    \n",
            "                     | __end__ |    \n",
            "                     +---------+    \n"
          ]
        }
      ],
      "source": [
        "agent_with_helpfulness_check.get_graph().print_ascii()"
      ]
    },
    {
      "cell_type": "markdown",
      "metadata": {
        "id": "F67FGCMRVwGz"
      },
      "source": [
        "##### Run the LangGraph graph given a sample human message -- and print out the messages..."
      ]
    },
    {
      "cell_type": "code",
      "execution_count": 38,
      "metadata": {
        "colab": {
          "base_uri": "https://localhost:8080/"
        },
        "id": "B3oo8E-PRK1T",
        "outputId": "72096ca6-e78e-475a-dde5-fe076c5b776d"
      },
      "outputs": [
        {
          "name": "stdout",
          "output_type": "stream",
          "text": [
            "Helpful!\n",
            "Initial Query: Related to machine learning, what is LoRA? Also, who is Tim Dettmers? Also, what is Attention?\n",
            "\n",
            "\n",
            "Agent Response: Let's break down each of these terms and individuals:\n",
            "\n",
            "### LoRA (Low-Rank Adaptation)\n",
            "LoRA, or Low-Rank Adaptation, is a technique used in machine learning to adapt pre-trained models to new tasks with minimal computational resources. The idea is to decompose the weight matrices of neural networks into low-rank matrices, which can be fine-tuned more efficiently. This approach is particularly useful in scenarios where computational resources are limited, as it reduces the number of parameters that need to be updated during training.\n",
            "\n",
            "### Tim Dettmers\n",
            "Tim Dettmers is a researcher known for his work in the field of machine learning, particularly in the areas of efficient training and inference of large-scale neural networks. He has contributed to the development of techniques that make it feasible to train large models on consumer-grade hardware. His research often focuses on optimizing the computational aspects of deep learning to make it more accessible and efficient.\n",
            "\n",
            "### Attention\n",
            "Attention is a mechanism in neural networks that allows the model to focus on specific parts of the input data when making predictions. It was introduced to improve the performance of models in tasks like machine translation, where understanding the context of each word is crucial. The attention mechanism assigns different weights to different parts of the input, enabling the model to \"attend\" to the most relevant information. This concept is a cornerstone of Transformer models, which have become the state-of-the-art in many natural language processing tasks.\n",
            "\n",
            "Would you like more detailed information on any of these topics?\n"
          ]
        }
      ],
      "source": [
        "inputs = {\"messages\" : [HumanMessage(content=\"Related to machine learning, what is LoRA? Also, who is Tim Dettmers? Also, what is Attention?\")]}\n",
        "\n",
        "messages = agent_with_helpfulness_check.invoke(inputs)\n",
        "\n",
        "print_messages(messages)"
      ]
    },
    {
      "cell_type": "markdown",
      "metadata": {
        "id": "yVmZPs6lnpsM"
      },
      "source": [
        "### Task 4: LangGraph for the \"Patterns\" of GenAI\n",
        "\n",
        "Let's ask our system about the 4 patterns of Generative AI:\n",
        "\n",
        "1. Prompt Engineering\n",
        "2. RAG\n",
        "3. Fine-tuning\n",
        "4. Agents"
      ]
    },
    {
      "cell_type": "code",
      "execution_count": 41,
      "metadata": {
        "id": "ZoLl7GlXoae-"
      },
      "outputs": [],
      "source": [
        "patterns = [\"prompt engineering\", \"RAG\", \"fine-tuning\", \"LLM-based agents\", \"what is string?\"]"
      ]
    },
    {
      "cell_type": "code",
      "execution_count": 42,
      "metadata": {
        "colab": {
          "base_uri": "https://localhost:8080/"
        },
        "id": "Zkh0YJuCp3Zl",
        "outputId": "1c29765b-42fc-449f-dce4-62dcb747a03b"
      },
      "outputs": [
        {
          "name": "stdout",
          "output_type": "stream",
          "text": [
            "Helpful!\n",
            "Initial Query: What is prompt engineering and when did it break onto the scene??\n",
            "\n",
            "\n",
            "Agent Response: Prompt engineering is a technique used primarily in the field of artificial intelligence (AI) and natural language processing (NLP). It involves crafting specific inputs (prompts) to guide the behavior and output of AI models, particularly large language models like GPT-3, GPT-4, and others. The goal is to elicit desired responses from the model by carefully designing the input text.\n",
            "\n",
            "### Key Aspects of Prompt Engineering:\n",
            "1. **Input Design**: Creating prompts that are clear, specific, and tailored to the task at hand.\n",
            "2. **Iterative Refinement**: Continuously refining prompts based on the model's responses to improve accuracy and relevance.\n",
            "3. **Contextual Awareness**: Ensuring that the prompt provides enough context for the model to understand the task.\n",
            "4. **Task-Specific Prompts**: Designing prompts that are specific to the task, whether it's text generation, question answering, summarization, translation, etc.\n",
            "\n",
            "### Historical Context:\n",
            "Prompt engineering became particularly prominent with the advent of large-scale language models like OpenAI's GPT-3, which was released in June 2020. The ability of these models to perform a wide range of tasks based on the input prompt highlighted the importance of prompt design. Researchers and practitioners quickly realized that the quality of the prompt could significantly influence the model's performance.\n",
            "\n",
            "### Timeline:\n",
            "- **Pre-2020**: Early NLP models required extensive training on specific tasks, and the concept of prompt engineering was not widely recognized.\n",
            "- **June 2020**: OpenAI released GPT-3, a powerful language model capable of performing various tasks based on prompts. This release brought prompt engineering into the spotlight.\n",
            "- **Post-2020**: The field of prompt engineering grew rapidly as more researchers and developers began experimenting with different prompt designs to optimize model performance.\n",
            "\n",
            "In summary, prompt engineering is a crucial technique in the use of modern AI language models, gaining significant attention and development following the release of GPT-3 in 2020.\n",
            "\n",
            "\n",
            "\n",
            "Helpful!\n",
            "Initial Query: What is RAG and when did it break onto the scene??\n",
            "\n",
            "\n",
            "Agent Response: RAG stands for Retrieval-Augmented Generation. It is a framework that combines the strengths of retrieval-based and generation-based models to improve the performance of natural language processing tasks, particularly in the context of question answering and information retrieval.\n",
            "\n",
            "### Key Components of RAG:\n",
            "1. **Retriever**: This component is responsible for fetching relevant documents or passages from a large corpus based on the input query.\n",
            "2. **Generator**: This component generates a coherent and contextually appropriate response using the retrieved documents.\n",
            "\n",
            "### How RAG Works:\n",
            "1. **Query Input**: A user inputs a query.\n",
            "2. **Document Retrieval**: The retriever fetches relevant documents or passages from a pre-indexed corpus.\n",
            "3. **Response Generation**: The generator uses the retrieved documents to generate a response that is both relevant and contextually appropriate.\n",
            "\n",
            "### Advantages of RAG:\n",
            "- **Improved Accuracy**: By leveraging external documents, RAG can provide more accurate and contextually relevant answers.\n",
            "- **Scalability**: It can handle large corpora of documents, making it suitable for applications requiring extensive knowledge bases.\n",
            "- **Flexibility**: It can be fine-tuned for specific domains or tasks, enhancing its versatility.\n",
            "\n",
            "### When Did RAG Break Onto the Scene?\n",
            "RAG was introduced by Facebook AI Research (FAIR) in a paper titled \"Retrieval-Augmented Generation for Knowledge-Intensive NLP Tasks,\" which was published in 2020. The paper demonstrated the effectiveness of RAG in various knowledge-intensive tasks, such as open-domain question answering and fact verification.\n",
            "\n",
            "Would you like more detailed information or specific aspects of RAG?\n",
            "\n",
            "\n",
            "\n",
            "Helpful!\n",
            "Initial Query: What is fine-tuning and when did it break onto the scene??\n",
            "\n",
            "\n",
            "Agent Response: Fine-tuning is a process in machine learning where a pre-trained model is further trained on a new, often smaller, dataset to adapt it to a specific task. This approach leverages the knowledge the model has already acquired during its initial training on a large dataset, making it more efficient and effective for specialized tasks.\n",
            "\n",
            "### Key Aspects of Fine-Tuning:\n",
            "1. **Pre-trained Model**: A model that has already been trained on a large and diverse dataset.\n",
            "2. **Target Task**: A specific task or dataset that the model needs to adapt to.\n",
            "3. **Transfer Learning**: The concept of transferring knowledge from one domain (the pre-trained model) to another (the target task).\n",
            "\n",
            "### Benefits of Fine-Tuning:\n",
            "- **Efficiency**: Requires less data and computational resources compared to training a model from scratch.\n",
            "- **Performance**: Often achieves better performance on specific tasks due to the pre-trained model's generalized knowledge.\n",
            "\n",
            "### Historical Context:\n",
            "Fine-tuning became particularly prominent with the advent of deep learning and the development of large-scale neural networks. Some key milestones include:\n",
            "\n",
            "- **2012**: The success of AlexNet in the ImageNet competition demonstrated the power of deep learning and pre-trained models.\n",
            "- **2014**: The introduction of transfer learning techniques in natural language processing (NLP) with models like Word2Vec and GloVe.\n",
            "- **2018**: The release of BERT (Bidirectional Encoder Representations from Transformers) by Google, which showcased the effectiveness of fine-tuning in NLP tasks. BERT was pre-trained on a large corpus and then fine-tuned for specific tasks, setting new benchmarks in various NLP benchmarks.\n",
            "\n",
            "Fine-tuning has since become a standard practice in both computer vision and NLP, among other fields, due to its efficiency and effectiveness.\n",
            "\n",
            "\n",
            "\n",
            "Helpful!\n",
            "Initial Query: What is LLM-based agents and when did it break onto the scene??\n",
            "\n",
            "\n",
            "Agent Response: LLM-based agents refer to systems or applications that leverage Large Language Models (LLMs) to perform a variety of tasks. These tasks can include natural language understanding, text generation, translation, summarization, question answering, and more. LLMs, such as OpenAI's GPT-3, are trained on vast amounts of text data and can generate human-like text based on the input they receive.\n",
            "\n",
            "### Key Characteristics of LLM-based Agents:\n",
            "1. **Natural Language Processing (NLP):** They excel in understanding and generating human language.\n",
            "2. **Versatility:** They can be used in a wide range of applications, from chatbots to content creation tools.\n",
            "3. **Contextual Understanding:** They can maintain context over longer conversations or documents.\n",
            "4. **Learning from Data:** They improve as they are exposed to more data and fine-tuning.\n",
            "\n",
            "### Timeline and Breakthroughs:\n",
            "- **Pre-2018:** Early NLP models like Word2Vec, GloVe, and initial versions of recurrent neural networks (RNNs) and long short-term memory networks (LSTMs) were used for language tasks.\n",
            "- **2018:** The introduction of the Transformer architecture by Vaswani et al. revolutionized NLP. This architecture became the foundation for many subsequent models.\n",
            "- **2018:** OpenAI released GPT (Generative Pre-trained Transformer), which demonstrated the potential of large-scale pre-training followed by fine-tuning.\n",
            "- **2019:** OpenAI released GPT-2, which was significantly larger and more powerful than its predecessor. It gained attention for its ability to generate coherent and contextually relevant text.\n",
            "- **2020:** OpenAI released GPT-3, which further pushed the boundaries with 175 billion parameters. GPT-3's capabilities in generating human-like text and performing a wide range of tasks brought LLM-based agents into the mainstream.\n",
            "- **2021 and Beyond:** Continued advancements in LLMs, including fine-tuning techniques, prompt engineering, and the development of specialized models for specific tasks, have further solidified the role of LLM-based agents in various industries.\n",
            "\n",
            "### Applications:\n",
            "- **Customer Support:** Chatbots and virtual assistants that can handle customer queries.\n",
            "- **Content Creation:** Tools for generating articles, reports, and creative writing.\n",
            "- **Education:** Personalized tutoring and educational content generation.\n",
            "- **Healthcare:** Assisting in medical documentation and providing information.\n",
            "- **Research:** Summarizing scientific papers and generating hypotheses.\n",
            "\n",
            "The breakthrough of LLM-based agents into the mainstream can be largely attributed to the release of GPT-3 in 2020, which showcased the immense potential of these models in practical applications.\n",
            "\n",
            "\n",
            "\n",
            "Helpful!\n",
            "Initial Query: What is what is string? and when did it break onto the scene??\n",
            "\n",
            "\n",
            "Agent Response: A \"string\" can refer to different concepts depending on the context:\n",
            "\n",
            "1. **In Computer Science**:\n",
            "   - A string is a sequence of characters, typically used to represent text. For example, \"Hello, World!\" is a string. Strings are fundamental data types in most programming languages and are used for storing and manipulating text.\n",
            "\n",
            "2. **In Physics (String Theory)**:\n",
            "   - String theory is a theoretical framework in which the point-like particles of particle physics are replaced by one-dimensional objects known as strings. These strings can vibrate at different frequencies, and their different vibrational modes correspond to different particles. String theory aims to reconcile general relativity and quantum mechanics, potentially providing a unified description of all fundamental forces and particles.\n",
            "\n",
            "### When Did String Theory Break Onto the Scene?\n",
            "\n",
            "String theory first emerged in the late 1960s and early 1970s. The initial development was aimed at describing the strong nuclear force. However, it was later realized that string theory had the potential to describe all fundamental forces, including gravity. The theory gained significant attention in the mid-1980s with the so-called \"First Superstring Revolution,\" which saw the discovery of five consistent superstring theories. The \"Second Superstring Revolution\" in the mid-1990s, led by the discovery of dualities and M-theory, further solidified its importance in theoretical physics.\n",
            "\n",
            "Would you like more detailed information on either of these topics?\n",
            "\n",
            "\n",
            "\n"
          ]
        }
      ],
      "source": [
        "for pattern in patterns:\n",
        "  what_is_string = f\"What is {pattern} and when did it break onto the scene??\"\n",
        "  inputs = {\"messages\" : [HumanMessage(content=what_is_string)]}\n",
        "  messages = agent_with_helpfulness_check.invoke(inputs)\n",
        "  print_messages(messages)\n",
        "  print(\"\\n\\n\")"
      ]
    },
    {
      "cell_type": "code",
      "execution_count": null,
      "metadata": {},
      "outputs": [],
      "source": []
    }
  ],
  "metadata": {
    "colab": {
      "provenance": [],
      "toc_visible": true
    },
    "kernelspec": {
      "display_name": "Python 3",
      "name": "python3"
    },
    "language_info": {
      "codemirror_mode": {
        "name": "ipython",
        "version": 3
      },
      "file_extension": ".py",
      "mimetype": "text/x-python",
      "name": "python",
      "nbconvert_exporter": "python",
      "pygments_lexer": "ipython3",
      "version": "3.10.13"
    }
  },
  "nbformat": 4,
  "nbformat_minor": 0
}
