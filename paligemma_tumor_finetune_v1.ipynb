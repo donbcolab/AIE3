{
  "nbformat": 4,
  "nbformat_minor": 0,
  "metadata": {
    "colab": {
      "provenance": [],
      "machine_shape": "hm",
      "gpuType": "A100",
      "authorship_tag": "ABX9TyPseo8VcB+4qp30mTHnanZ5",
      "include_colab_link": true
    },
    "kernelspec": {
      "name": "python3",
      "display_name": "Python 3"
    },
    "language_info": {
      "name": "python"
    },
    "accelerator": "GPU"
  },
  "cells": [
    {
      "cell_type": "markdown",
      "metadata": {
        "id": "view-in-github",
        "colab_type": "text"
      },
      "source": [
        "<a href=\"https://colab.research.google.com/github/donbcolab/AIE3/blob/main/paligemma_tumor_finetune_v1.ipynb\" target=\"_parent\"><img src=\"https://colab.research.google.com/assets/colab-badge.svg\" alt=\"Open In Colab\"/></a>"
      ]
    },
    {
      "cell_type": "code",
      "execution_count": null,
      "metadata": {
        "colab": {
          "base_uri": "https://localhost:8080/"
        },
        "id": "A_JFo4KLHKiN",
        "outputId": "0fa9ead0-eab8-40af-f067-c9b213ad9885"
      },
      "outputs": [
        {
          "output_type": "stream",
          "name": "stdout",
          "text": [
            "  Installing build dependencies ... \u001b[?25l\u001b[?25hdone\n",
            "  Getting requirements to build wheel ... \u001b[?25l\u001b[?25hdone\n",
            "  Preparing metadata (pyproject.toml) ... \u001b[?25l\u001b[?25hdone\n",
            "\u001b[2K     \u001b[90m━━━━━━━━━━━━━━━━━━━━━━━━━━━━━━━━━━━━━━━━\u001b[0m \u001b[32m119.8/119.8 MB\u001b[0m \u001b[31m13.6 MB/s\u001b[0m eta \u001b[36m0:00:00\u001b[0m\n",
            "\u001b[2K     \u001b[90m━━━━━━━━━━━━━━━━━━━━━━━━━━━━━━━━━━━━━━━━\u001b[0m \u001b[32m547.8/547.8 kB\u001b[0m \u001b[31m50.7 MB/s\u001b[0m eta \u001b[36m0:00:00\u001b[0m\n",
            "\u001b[2K     \u001b[90m━━━━━━━━━━━━━━━━━━━━━━━━━━━━━━━━━━━━━━━━\u001b[0m \u001b[32m314.1/314.1 kB\u001b[0m \u001b[31m35.7 MB/s\u001b[0m eta \u001b[36m0:00:00\u001b[0m\n",
            "\u001b[2K     \u001b[90m━━━━━━━━━━━━━━━━━━━━━━━━━━━━━━━━━━━━━━━━\u001b[0m \u001b[32m251.6/251.6 kB\u001b[0m \u001b[31m31.7 MB/s\u001b[0m eta \u001b[36m0:00:00\u001b[0m\n",
            "\u001b[2K     \u001b[90m━━━━━━━━━━━━━━━━━━━━━━━━━━━━━━━━━━━━━━━━\u001b[0m \u001b[32m4.4/4.4 MB\u001b[0m \u001b[31m98.1 MB/s\u001b[0m eta \u001b[36m0:00:00\u001b[0m\n",
            "\u001b[2K     \u001b[90m━━━━━━━━━━━━━━━━━━━━━━━━━━━━━━━━━━━━━━━━\u001b[0m \u001b[32m779.1/779.1 MB\u001b[0m \u001b[31m1.8 MB/s\u001b[0m eta \u001b[36m0:00:00\u001b[0m\n",
            "\u001b[2K     \u001b[90m━━━━━━━━━━━━━━━━━━━━━━━━━━━━━━━━━━━━━━━━\u001b[0m \u001b[32m7.0/7.0 MB\u001b[0m \u001b[31m106.9 MB/s\u001b[0m eta \u001b[36m0:00:00\u001b[0m\n",
            "\u001b[2K     \u001b[90m━━━━━━━━━━━━━━━━━━━━━━━━━━━━━━━━━━━━━━━━\u001b[0m \u001b[32m40.8/40.8 MB\u001b[0m \u001b[31m40.9 MB/s\u001b[0m eta \u001b[36m0:00:00\u001b[0m\n",
            "\u001b[2K     \u001b[90m━━━━━━━━━━━━━━━━━━━━━━━━━━━━━━━━━━━━━━━━\u001b[0m \u001b[32m116.3/116.3 kB\u001b[0m \u001b[31m18.7 MB/s\u001b[0m eta \u001b[36m0:00:00\u001b[0m\n",
            "\u001b[2K     \u001b[90m━━━━━━━━━━━━━━━━━━━━━━━━━━━━━━━━━━━━━━━━\u001b[0m \u001b[32m64.9/64.9 kB\u001b[0m \u001b[31m9.1 MB/s\u001b[0m eta \u001b[36m0:00:00\u001b[0m\n",
            "\u001b[2K     \u001b[90m━━━━━━━━━━━━━━━━━━━━━━━━━━━━━━━━━━━━━━━━\u001b[0m \u001b[32m194.1/194.1 kB\u001b[0m \u001b[31m31.6 MB/s\u001b[0m eta \u001b[36m0:00:00\u001b[0m\n",
            "\u001b[2K     \u001b[90m━━━━━━━━━━━━━━━━━━━━━━━━━━━━━━━━━━━━━━━━\u001b[0m \u001b[32m134.8/134.8 kB\u001b[0m \u001b[31m19.9 MB/s\u001b[0m eta \u001b[36m0:00:00\u001b[0m\n",
            "\u001b[2K     \u001b[90m━━━━━━━━━━━━━━━━━━━━━━━━━━━━━━━━━━━━━━━━\u001b[0m \u001b[32m168.1/168.1 MB\u001b[0m \u001b[31m3.0 MB/s\u001b[0m eta \u001b[36m0:00:00\u001b[0m\n",
            "\u001b[2K     \u001b[90m━━━━━━━━━━━━━━━━━━━━━━━━━━━━━━━━━━━━━━━━\u001b[0m \u001b[32m21.3/21.3 MB\u001b[0m \u001b[31m71.0 MB/s\u001b[0m eta \u001b[36m0:00:00\u001b[0m\n",
            "\u001b[?25h  Building wheel for transformers (pyproject.toml) ... \u001b[?25l\u001b[?25hdone\n"
          ]
        }
      ],
      "source": [
        "! pip install -q -U git+https://github.com/huggingface/transformers.git bitsandbytes datasets accelerate peft hf_transfer torch torchvision"
      ]
    },
    {
      "cell_type": "code",
      "source": [
        "import torch\n",
        "from transformers import AutoProcessor, PaliGemmaForConditionalGeneration, BitsAndBytesConfig, TrainingArguments, Trainer\n",
        "from peft import get_peft_model, LoraConfig\n",
        "from transformers import AutoProcessor\n",
        "from datasets import load_dataset, DatasetDict, Image\n",
        "from google.colab import userdata\n",
        "import os\n",
        "\n",
        "# Constants\n",
        "base_model_name = \"google/paligemma-3b-pt-224\"\n",
        "adapter_version = \"paligemma-tumor-detection-ft\"\n",
        "adapter_model_name = f\"dwb2023/{adapter_version}\"\n",
        "max_seq_length = 512\n",
        "output_dir = adapter_version\n",
        "\n",
        "# HF Token\n",
        "HF_TOKEN = userdata.get('HF_TOKEN')\n",
        "os.environ[\"HF_HUB_ENABLE_HF_TRANSFER\"] = \"1\"\n",
        "\n",
        "# Set device\n",
        "device = torch.device(\"cuda\" if torch.cuda.is_available() else \"cpu\")\n",
        "\n",
        "# Load Dataset\n",
        "dataset = load_dataset(\"dwb2023/brain-tumor-image-dataset-semantic-segmentation\")\n",
        "\n",
        "# Preprocess Dataset\n",
        "processor = AutoProcessor.from_pretrained(base_model_name)\n",
        "tumor_dataset = dataset\n",
        "\n",
        "# Split Dataset\n",
        "train_test_split = tumor_dataset['train'].train_test_split(test_size=0.2)\n",
        "test_val_split = train_test_split['test'].train_test_split(test_size=0.5)"
      ],
      "metadata": {
        "id": "BZPPBS4mHMlE"
      },
      "execution_count": null,
      "outputs": []
    },
    {
      "cell_type": "code",
      "source": [
        "# Create Dataset Dictionary\n",
        "tumor_ds_dict = DatasetDict({\n",
        "    'train': train_test_split['train'],\n",
        "    'validation': test_val_split['train'],\n",
        "    'test': test_val_split['test']\n",
        "})"
      ],
      "metadata": {
        "id": "5pUfO0F3Hk0P"
      },
      "execution_count": null,
      "outputs": []
    },
    {
      "cell_type": "code",
      "source": [
        "# Cast image column AFTER splitting the dataset\n",
        "ds_train = tumor_ds_dict[\"train\"].cast_column(\"image\", Image(decode=True))\n",
        "ds_eval = tumor_ds_dict[\"validation\"].cast_column(\"image\", Image(decode=True))"
      ],
      "metadata": {
        "id": "r1DQHvyYMWmi"
      },
      "execution_count": null,
      "outputs": []
    },
    {
      "cell_type": "code",
      "source": [
        "# Collate Function (optimized)\n",
        "device = \"cuda\"\n",
        "\n",
        "def collate_fn(examples):\n",
        "    texts = [\"Detect the location of the brain tumor using a bounding box: \" for _ in range(len(examples))]\n",
        "    labels = [str(example['bbox']) for example in examples]  # Convert bbox to string\n",
        "\n",
        "    # Image conversion on CPU\n",
        "    images = [example[\"image\"].convert(\"RGB\") for example in examples]\n",
        "\n",
        "    # Image conversion on CPU\n",
        "    images = [example[\"image\"].convert(\"RGB\") for example in examples]\n",
        "\n",
        "    tokens = processor(text=texts, images=images, suffix=labels,\n",
        "                       return_tensors=\"pt\", padding=\"longest\", max_length=max_seq_length)\n",
        "\n",
        "    # Convert to bfloat16 before moving to GPU\n",
        "    tokens = tokens.to(torch.bfloat16).to(device)\n",
        "    return tokens"
      ],
      "metadata": {
        "id": "9fDJbLokLhU3"
      },
      "execution_count": null,
      "outputs": []
    },
    {
      "cell_type": "code",
      "source": [
        "bnb_config = BitsAndBytesConfig(\n",
        "        load_in_4bit=True,\n",
        "        bnb_4bit_quant_type=\"nf4\",\n",
        "        bnb_4bit_compute_type=torch.bfloat16\n",
        ")\n",
        "\n",
        "lora_config = LoraConfig(\n",
        "    r=8,\n",
        "    target_modules=[\"q_proj\", \"o_proj\", \"k_proj\", \"v_proj\", \"gate_proj\", \"up_proj\", \"down_proj\"],\n",
        "    task_type=\"CAUSAL_LM\",\n",
        ")\n",
        "model = PaliGemmaForConditionalGeneration.from_pretrained(base_model_name, quantization_config=bnb_config, device_map={\"\":0})\n",
        "model = get_peft_model(model, lora_config)\n",
        "model.print_trainable_parameters()"
      ],
      "metadata": {
        "id": "3OSQLrryHciV"
      },
      "execution_count": null,
      "outputs": []
    },
    {
      "cell_type": "code",
      "source": [
        "# Determine the dataset size\n",
        "num_train_samples = len(ds_train)\n",
        "print(f\"Number of training samples: {num_train_samples}\")\n",
        "num_epochs = 100\n",
        "batch_size = 2\n",
        "gradient_accumulation_steps = 8\n",
        "\n",
        "# Calculate total training steps\n",
        "steps_per_epoch = num_train_samples // (batch_size * gradient_accumulation_steps)\n",
        "total_training_steps = steps_per_epoch * num_epochs\n",
        "\n",
        "# Set warmup steps to 10% of total training steps\n",
        "warmup_steps = int(0.1 * total_training_steps)\n",
        "\n",
        "\n",
        "args=TrainingArguments(\n",
        "    output_dir=output_dir,\n",
        "    num_train_epochs=num_epochs,\n",
        "    remove_unused_columns=False,\n",
        "    per_device_train_batch_size=batch_size,\n",
        "    gradient_accumulation_steps=gradient_accumulation_steps,\n",
        "    warmup_steps=warmup_steps,\n",
        "    learning_rate=2e-5,\n",
        "    weight_decay=1e-6,\n",
        "    adam_beta2=0.999,\n",
        "    logging_steps=50,\n",
        "    optim=\"adamw_hf\",\n",
        "    save_strategy=\"epoch\",\n",
        "    push_to_hub=True,\n",
        "    save_total_limit=1,\n",
        "    bf16=True,\n",
        "    report_to=[\"tensorboard\"],\n",
        "    dataloader_pin_memory=False,\n",
        "    load_best_model_at_end=True,  # Required for EarlyStoppingCallback\n",
        "    evaluation_strategy=\"epoch\",  # Set to epoch for periodic evaluation\n",
        ")"
      ],
      "metadata": {
        "id": "BdQIaCnZHZfo"
      },
      "execution_count": null,
      "outputs": []
    },
    {
      "cell_type": "code",
      "source": [
        "from transformers import Trainer, EarlyStoppingCallback\n",
        "\n",
        "# Define EarlyStoppingCallback\n",
        "early_stopping = EarlyStoppingCallback(\n",
        "  early_stopping_patience=3,\n",
        "  early_stopping_threshold=0.01,\n",
        ")\n",
        "\n",
        "# Define Trainer with EarlyStoppingCallback\n",
        "trainer = Trainer(\n",
        "  model=model,\n",
        "  train_dataset=ds_train,\n",
        "  eval_dataset=ds_eval,\n",
        "  data_collator=collate_fn,\n",
        "  args=args,\n",
        "  callbacks=[early_stopping]\n",
        ")"
      ],
      "metadata": {
        "id": "MmwwGYVyNz05"
      },
      "execution_count": null,
      "outputs": []
    },
    {
      "cell_type": "code",
      "source": [
        "# Train model\n",
        "trainer.train()"
      ],
      "metadata": {
        "id": "yMuHm8zqHXCd"
      },
      "execution_count": null,
      "outputs": []
    },
    {
      "cell_type": "code",
      "source": [
        "# Evaluate Model\n",
        "metrics = trainer.evaluate()\n",
        "print(metrics)"
      ],
      "metadata": {
        "id": "gI46lXGqN4MP"
      },
      "execution_count": null,
      "outputs": []
    }
  ]
}