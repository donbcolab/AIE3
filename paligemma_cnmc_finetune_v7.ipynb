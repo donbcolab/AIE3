{
  "nbformat": 4,
  "nbformat_minor": 0,
  "metadata": {
    "colab": {
      "provenance": [],
      "gpuType": "A100",
      "machine_shape": "hm",
      "include_colab_link": true
    },
    "kernelspec": {
      "name": "python3",
      "display_name": "Python 3"
    },
    "language_info": {
      "name": "python"
    },
    "accelerator": "GPU"
  },
  "cells": [
    {
      "cell_type": "markdown",
      "metadata": {
        "id": "view-in-github",
        "colab_type": "text"
      },
      "source": [
        "<a href=\"https://colab.research.google.com/github/donbcolab/AIE3/blob/main/paligemma_cnmc_finetune_v7.ipynb\" target=\"_parent\"><img src=\"https://colab.research.google.com/assets/colab-badge.svg\" alt=\"Open In Colab\"/></a>"
      ]
    },
    {
      "cell_type": "markdown",
      "source": [
        "# Paligemma Fine Tuning using CNMC dataset"
      ],
      "metadata": {
        "id": "4kmXOfka4QbW"
      }
    },
    {
      "cell_type": "markdown",
      "source": [
        "### Setting Up"
      ],
      "metadata": {
        "id": "dWhsAldJ5jlk"
      }
    },
    {
      "cell_type": "code",
      "source": [
        "base_model_name = \"google/paligemma-3b-pt-224\"\n",
        "adapter_version = \"paligemma-cnmc-ft\"\n",
        "adapter_model_name = f\"dwb2023/{adapter_version}\""
      ],
      "metadata": {
        "id": "psjJyRljxst0"
      },
      "execution_count": null,
      "outputs": []
    },
    {
      "cell_type": "code",
      "source": [
        "!pip install -q -U git+https://github.com/huggingface/transformers.git datasets accelerate bitsandbytes peft hf_transfer"
      ],
      "metadata": {
        "id": "_hYu_1WI7CkD"
      },
      "execution_count": null,
      "outputs": []
    },
    {
      "cell_type": "code",
      "source": [
        "import os\n",
        "from google.colab import userdata\n",
        "\n",
        "HF_TOKEN = userdata.get('HF_TOKEN')\n",
        "os.environ[\"HF_HUB_ENABLE_HF_TRANSFER\"] = \"1\""
      ],
      "metadata": {
        "id": "Q-QfT2EX60-L"
      },
      "execution_count": null,
      "outputs": []
    },
    {
      "cell_type": "markdown",
      "source": [
        "## Load Dataset"
      ],
      "metadata": {
        "id": "oIgO4nYbmDOZ"
      }
    },
    {
      "cell_type": "code",
      "source": [
        "from datasets import load_dataset, DatasetDict, Image\n",
        "\n",
        "# Load CNMC Dataset\n",
        "ds = load_dataset(\"dwb2023/cnmc-leukemia-2019\", split=\"train\")#.cast_column(\"image\", Image(decode=True))"
      ],
      "metadata": {
        "id": "pHy1qkRumDzB"
      },
      "execution_count": null,
      "outputs": []
    },
    {
      "cell_type": "code",
      "source": [
        "ds[0]"
      ],
      "metadata": {
        "id": "5SQNL1uTIzSK"
      },
      "execution_count": null,
      "outputs": []
    },
    {
      "cell_type": "code",
      "source": [
        "# Filter records to only include those from fold 0\n",
        "ds_fold_0 = ds.filter(lambda example: example['fold'] == 0)\n",
        "\n",
        "# Define the percentage you want to retrieve (e.g., 10%)\n",
        "percentage = 0.10\n",
        "\n",
        "# Use train_test_split to get the subset\n",
        "cnmc_ds = ds_fold_0.train_test_split(test_size=percentage)[\"test\"]\n",
        "\n",
        "# Columns to remove\n",
        "cols_remove = [\"subject_id\", \"image_number\", \"fold\", \"original_image_name\", \"relative_file_path\"]\n",
        "cnmc_ds = cnmc_ds.remove_columns(cols_remove)"
      ],
      "metadata": {
        "id": "7cucMO3SnTwx"
      },
      "execution_count": null,
      "outputs": []
    },
    {
      "cell_type": "code",
      "source": [
        "# create train test split with test_size=0.2\n",
        "train_ds = cnmc_ds.train_test_split(test_size=0.2)\n",
        "\n",
        "# create test val split\n",
        "test_val_ds = train_ds[\"test\"].train_test_split(test_size=0.5)\n",
        "\n",
        "cnmc_ds_dict = DatasetDict({\n",
        "    \"train\" : train_ds[\"train\"],\n",
        "    \"test\" : test_val_ds[\"test\"],\n",
        "    \"validation\" : test_val_ds[\"train\"]\n",
        "})\n",
        "\n",
        "cnmc_ds_dict"
      ],
      "metadata": {
        "id": "lC2eFaOanTnF"
      },
      "execution_count": null,
      "outputs": []
    },
    {
      "cell_type": "markdown",
      "source": [
        "## Collate Data"
      ],
      "metadata": {
        "id": "RYbla1qe5EOl"
      }
    },
    {
      "cell_type": "code",
      "source": [
        "from transformers import AutoProcessor\n",
        "\n",
        "processor = AutoProcessor.from_pretrained(base_model_name)"
      ],
      "metadata": {
        "id": "lZ5IYoVuU9om"
      },
      "execution_count": null,
      "outputs": []
    },
    {
      "cell_type": "code",
      "source": [
        "max_seq_length = 128\n",
        "output_dir = adapter_version"
      ],
      "metadata": {
        "id": "mhylanQzUWf6"
      },
      "execution_count": null,
      "outputs": []
    },
    {
      "cell_type": "code",
      "source": [
        "import torch\n",
        "device = \"cuda\"\n",
        "\n",
        "def collate_fn(examples):\n",
        "  texts = [\"Are these cells healthy or cancerous?\" for _ in range(len(examples))]\n",
        "  labels = [example['label'] for example in examples]\n",
        "  images = [example[\"image\"].convert(\"RGB\") for example in examples]\n",
        "  tokens = processor(text=texts, images=images, suffix=labels,\n",
        "                  return_tensors=\"pt\", padding=\"longest\")\n",
        "\n",
        "  tokens = tokens.to(torch.bfloat16).to(device)\n",
        "  return tokens"
      ],
      "metadata": {
        "id": "7997sRvmHyhb"
      },
      "execution_count": null,
      "outputs": []
    },
    {
      "cell_type": "markdown",
      "source": [
        "## Load and Quatize the base Model (bitsandbytes)"
      ],
      "metadata": {
        "id": "wPnTFsnC4-QY"
      }
    },
    {
      "cell_type": "code",
      "source": [
        "import torch\n",
        "\n",
        "from transformers import PaliGemmaForConditionalGeneration, BitsAndBytesConfig\n",
        "from peft import get_peft_model, LoraConfig\n",
        "\n",
        "bnb_config = BitsAndBytesConfig(\n",
        "        load_in_4bit=True,\n",
        "        bnb_4bit_quant_type=\"nf4\",\n",
        "        bnb_4bit_compute_type=torch.bfloat16\n",
        ")\n",
        "\n",
        "lora_config = LoraConfig(\n",
        "    r=8,\n",
        "    target_modules=[\"q_proj\", \"o_proj\", \"k_proj\", \"v_proj\", \"gate_proj\", \"up_proj\", \"down_proj\"],\n",
        "    task_type=\"CAUSAL_LM\",\n",
        ")\n",
        "model = PaliGemmaForConditionalGeneration.from_pretrained(base_model_name, quantization_config=bnb_config, device_map={\"\":0})\n",
        "model = get_peft_model(model, lora_config)\n",
        "model.print_trainable_parameters()\n",
        "#trainable params: 11,298,816 || all params: 2,934,634,224 || trainable%: 0.38501616002417344\n"
      ],
      "metadata": {
        "id": "pAO9CUR_8bIH"
      },
      "execution_count": null,
      "outputs": []
    },
    {
      "cell_type": "markdown",
      "source": [
        "## Train the Adapter Model (trl)"
      ],
      "metadata": {
        "id": "Fs6tCiff5Po0"
      }
    },
    {
      "cell_type": "code",
      "source": [
        "model"
      ],
      "metadata": {
        "id": "4SeBOCrW3PwS"
      },
      "execution_count": null,
      "outputs": []
    },
    {
      "cell_type": "code",
      "source": [
        "model.config"
      ],
      "metadata": {
        "id": "PR0Rhb8F7SjR"
      },
      "execution_count": null,
      "outputs": []
    },
    {
      "cell_type": "code",
      "source": [
        "from transformers import TrainingArguments\n",
        "\n",
        "args = TrainingArguments(\n",
        "    output_dir=adapter_version,\n",
        "    num_train_epochs=20,  # Reduced to 1 for quicker demonstration\n",
        "    remove_unused_columns=False,\n",
        "    per_device_train_batch_size=16,\n",
        "    gradient_accumulation_steps=4,  # Reduced to speed up training\n",
        "    warmup_steps=2,\n",
        "    learning_rate=2e-5,\n",
        "    weight_decay=1e-6,\n",
        "    adam_beta2=0.999,\n",
        "    logging_steps=100,  # More frequent logging\n",
        "    optim=\"adamw_hf\",\n",
        "    save_strategy=\"epoch\",\n",
        "    push_to_hub=True,\n",
        "    bf16=True,\n",
        "    report_to=[\"tensorboard\"],\n",
        "    dataloader_pin_memory=False,\n",
        "    load_best_model_at_end=True,  # Required for EarlyStoppingCallback\n",
        "    evaluation_strategy=\"epoch\",  # Set to epoch for periodic evaluation\n",
        ")\n"
      ],
      "metadata": {
        "id": "BSNzVCDt3X3e"
      },
      "execution_count": null,
      "outputs": []
    },
    {
      "cell_type": "code",
      "source": [
        "ds_train = cnmc_ds_dict[\"train\"].cast_column(\"image\", Image(decode=True))\n",
        "ds_eval = cnmc_ds_dict[\"validation\"].cast_column(\"image\", Image(decode=True))"
      ],
      "metadata": {
        "id": "V52ONxxVNQ78"
      },
      "execution_count": null,
      "outputs": []
    },
    {
      "cell_type": "code",
      "source": [
        "ds_train[0]"
      ],
      "metadata": {
        "id": "x7CZWeHjNnDO"
      },
      "execution_count": null,
      "outputs": []
    },
    {
      "cell_type": "code",
      "source": [
        "ds_eval[0]"
      ],
      "metadata": {
        "id": "YcToyDzTNrib"
      },
      "execution_count": null,
      "outputs": []
    },
    {
      "cell_type": "code",
      "source": [
        "from transformers import Trainer, EarlyStoppingCallback\n",
        "\n",
        "# Define EarlyStoppingCallback\n",
        "early_stopping = EarlyStoppingCallback(\n",
        "    early_stopping_patience=1,\n",
        "    early_stopping_threshold=0.01,\n",
        ")\n",
        "\n",
        "# Define Trainer with EarlyStoppingCallback\n",
        "trainer = Trainer(\n",
        "    model=model,\n",
        "    args=args,\n",
        "    train_dataset=ds_train,\n",
        "    eval_dataset=ds_eval,\n",
        "    data_collator=collate_fn,\n",
        "    callbacks=[early_stopping]\n",
        ")\n"
      ],
      "metadata": {
        "id": "ifh4vjpeSjXM"
      },
      "execution_count": null,
      "outputs": []
    },
    {
      "cell_type": "code",
      "source": [
        "# Start fine-tuning\n",
        "trainer.train()"
      ],
      "metadata": {
        "id": "8JVin19w3apT"
      },
      "execution_count": null,
      "outputs": []
    },
    {
      "cell_type": "code",
      "source": [],
      "metadata": {
        "id": "WHUNKlSTpuAk"
      },
      "execution_count": null,
      "outputs": []
    }
  ]
}