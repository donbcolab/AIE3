{
  "cells": [
    {
      "cell_type": "markdown",
      "metadata": {
        "id": "view-in-github",
        "colab_type": "text"
      },
      "source": [
        "<a href=\"https://colab.research.google.com/github/donbcolab/AIE3/blob/main/cnmc_leukemia_2019_brain_tumor_hf_datasets.ipynb\" target=\"_parent\"><img src=\"https://colab.research.google.com/assets/colab-badge.svg\" alt=\"Open In Colab\"/></a>"
      ]
    },
    {
      "cell_type": "markdown",
      "metadata": {
        "id": "uuBoZd6_Kw7s"
      },
      "source": [
        "# Brain Tumor Image Dataset - Semantic Segmentation\n",
        "\n",
        "- HF DataSet Loader\n",
        "\n"
      ]
    },
    {
      "cell_type": "markdown",
      "metadata": {
        "id": "AhhJ8h1uKw7t"
      },
      "source": [
        "## Set up and Initial Checks"
      ]
    },
    {
      "cell_type": "markdown",
      "metadata": {
        "id": "dpEWz1J1Kw7t"
      },
      "source": [
        "### Import Necessary Libraries and Define Constants"
      ]
    },
    {
      "cell_type": "code",
      "source": [
        "from google.colab import drive\n",
        "drive.mount('/content/drive')"
      ],
      "metadata": {
        "id": "OQLXzGadLOnZ"
      },
      "execution_count": null,
      "outputs": []
    },
    {
      "cell_type": "code",
      "source": [
        "!pip install -qU pyarrow==14.0.1 requests==2.31.0"
      ],
      "metadata": {
        "id": "_ko8sN4vVrxH"
      },
      "execution_count": null,
      "outputs": []
    },
    {
      "cell_type": "code",
      "source": [
        "!pip install -qU datasets==2.11.0"
      ],
      "metadata": {
        "id": "Hgjmz2RkVxVU"
      },
      "execution_count": null,
      "outputs": []
    },
    {
      "cell_type": "code",
      "source": [
        "import os\n",
        "import json\n",
        "import pandas as pd\n",
        "from datasets import Dataset, Features, ClassLabel, Value, Sequence, Image"
      ],
      "metadata": {
        "id": "22AUgBXjT3fs"
      },
      "execution_count": null,
      "outputs": []
    },
    {
      "cell_type": "code",
      "source": [
        "HF_DATASET_NAME = 'brain-tumor-image-dataset-semantic-segmentation'\n",
        "SOURCE_JSON = \"/content/drive/MyDrive/kaggle/datasets/brain-tumor-image-dataset-semantic-segmentation/train/_annotations.coco.json\"\n",
        "SOURCE_IMAGE_DIR = \"/content/drive/MyDrive/kaggle/datasets/brain-tumor-image-dataset-semantic-segmentation/train\"\n"
      ],
      "metadata": {
        "id": "Wmu5BpQJbwqX"
      },
      "execution_count": null,
      "outputs": []
    },
    {
      "cell_type": "markdown",
      "metadata": {
        "id": "_FsovZqvKw7u"
      },
      "source": [
        "### Initial Verification"
      ]
    },
    {
      "cell_type": "code",
      "source": [
        "features = Features({\n",
        "    'file_name': Value(dtype='string'),\n",
        "    'image': Image(decode=True),\n",
        "    'id': Value(dtype='int64'),\n",
        "    'category_id': ClassLabel(names=['tumor', 'normal', 'other']),  # Add 'other' or adjust as needed\n",
        "    'bbox': Sequence(feature=Value(dtype='float32'), length=4),\n",
        "    'segmentation': Sequence(feature=Sequence(feature=Value(dtype='float32'), length=-1), length=-1),\n",
        "    'area': Value(dtype='float32'),\n",
        "    'iscrowd': Value(dtype='int64'),\n",
        "    'height': Value(dtype='int64'),\n",
        "    'width': Value(dtype='int64'),\n",
        "    'date_captured': Value(dtype='string'),\n",
        "    'license': Value(dtype='int64')\n",
        "})"
      ],
      "metadata": {
        "id": "a00QTeM8ZGAn"
      },
      "execution_count": null,
      "outputs": []
    },
    {
      "cell_type": "code",
      "execution_count": null,
      "metadata": {
        "id": "MZL8oddLKw7u"
      },
      "outputs": [],
      "source": [
        "def verify_source_data():\n",
        "    if not os.path.exists(SOURCE_JSON):\n",
        "        raise FileNotFoundError(f\"JSON file not found: {SOURCE_JSON}\")\n",
        "\n",
        "    with open(SOURCE_JSON, 'r') as f:\n",
        "        data = json.load(f)\n",
        "\n",
        "    print(f\"JSON file contains {len(data['images'])} images and {len(data['annotations'])} annotations\")\n",
        "    print(\"Sample of images:\", data['images'][:2])\n",
        "    print(\"Sample of annotations:\", data['annotations'][:2])"
      ]
    },
    {
      "cell_type": "code",
      "source": [
        "from tqdm.auto import tqdm\n",
        "\n",
        "def load_data_to_df():\n",
        "    with open(SOURCE_JSON, 'r') as f:\n",
        "        data = json.load(f)\n",
        "\n",
        "    images = pd.DataFrame(data['images'])\n",
        "    annotations = pd.DataFrame(data['annotations'])\n",
        "\n",
        "    df = pd.merge(images, annotations, left_on='id', right_on='image_id', suffixes=('', '_ann'))\n",
        "\n",
        "    # Drop duplicate columns and rename as needed\n",
        "    df = df.drop(columns=['id_ann', 'image_id'])\n",
        "\n",
        "    # Add the full image path\n",
        "    tqdm.pandas(desc=\"Processing image paths\")\n",
        "    df['image'] = df['file_name'].progress_apply(lambda x: os.path.join(SOURCE_IMAGE_DIR, x))\n",
        "\n",
        "    # Ensure all required columns are present\n",
        "    for column in features.keys():\n",
        "        if column not in df.columns:\n",
        "            df[column] = None\n",
        "\n",
        "    return df"
      ],
      "metadata": {
        "id": "iCYaNVX3dN4e"
      },
      "execution_count": null,
      "outputs": []
    },
    {
      "cell_type": "code",
      "source": [
        "import cv2\n",
        "from tqdm.auto import tqdm\n",
        "\n",
        "def create_hf_dataset(df, hf_dataset_name):\n",
        "    # Convert 'image' column to image data\n",
        "    def load_image(image_path):\n",
        "        img = cv2.imread(image_path)\n",
        "        if img is not None:\n",
        "            return cv2.imencode('.jpg', img)[1].tobytes()\n",
        "        return None\n",
        "\n",
        "    tqdm.pandas(desc=\"Loading images\")\n",
        "    df['image'] = df['image'].progress_apply(load_image)\n",
        "\n",
        "    dataset = Dataset.from_pandas(df, features=features)\n",
        "    dataset.push_to_hub(hf_dataset_name)\n",
        "    print(f\"Dataset {hf_dataset_name} created and pushed to hub successfully.\")"
      ],
      "metadata": {
        "id": "VkLvwAuFmZkh"
      },
      "execution_count": null,
      "outputs": []
    },
    {
      "cell_type": "code",
      "source": [
        "from tqdm.auto import tqdm\n",
        "\n",
        "# Execute the process\n",
        "verify_source_data()\n",
        "df = load_data_to_df()\n",
        "\n",
        "# Add overall progress bar\n",
        "with tqdm(total=3, desc=\"Creating dataset\") as pbar:\n",
        "    create_hf_dataset(df, HF_DATASET_NAME)\n",
        "    pbar.update(1)\n",
        "\n",
        "    # You can add more steps here if needed\n",
        "    pbar.update(1)\n",
        "\n",
        "    pbar.update(1)"
      ],
      "metadata": {
        "id": "pdF4aJRz92bi"
      },
      "execution_count": null,
      "outputs": []
    }
  ],
  "metadata": {
    "kernelspec": {
      "display_name": "Python 3",
      "name": "python3"
    },
    "language_info": {
      "codemirror_mode": {
        "name": "ipython",
        "version": 3
      },
      "file_extension": ".py",
      "mimetype": "text/x-python",
      "name": "python",
      "nbconvert_exporter": "python",
      "pygments_lexer": "ipython3",
      "version": "3.10.13"
    },
    "colab": {
      "provenance": [],
      "machine_shape": "hm",
      "include_colab_link": true
    }
  },
  "nbformat": 4,
  "nbformat_minor": 0
}