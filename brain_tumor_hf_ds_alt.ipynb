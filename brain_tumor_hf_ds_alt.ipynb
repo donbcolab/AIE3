{
  "cells": [
    {
      "cell_type": "markdown",
      "metadata": {
        "id": "view-in-github",
        "colab_type": "text"
      },
      "source": [
        "<a href=\"https://colab.research.google.com/github/donbcolab/AIE3/blob/main/brain_tumor_hf_ds_alt.ipynb\" target=\"_parent\"><img src=\"https://colab.research.google.com/assets/colab-badge.svg\" alt=\"Open In Colab\"/></a>"
      ]
    },
    {
      "cell_type": "markdown",
      "metadata": {
        "id": "uuBoZd6_Kw7s"
      },
      "source": [
        "# Brain Tumor Image Dataset - Hugging Face Dataset Creation\n",
        "\n",
        "This notebook processes a brain tumor image dataset with COCO-format annotations and creates a Hugging Face Dataset."
      ]
    },
    {
      "cell_type": "markdown",
      "source": [
        "Key learnings and decisions while creating this brain tumor image dataset for Hugging Face.\n",
        "\n",
        "1. Data Structure:\n",
        "   - The dataset contains brain tumor images with COCO-format annotations.\n",
        "   - Annotations include bounding boxes and polygon segmentations.\n",
        "   - Categories are structured as: ID 0 (Tumor), ID 1 (0), ID 2 (1), with 1 and 2 being subcategories of Tumor.\n",
        "\n",
        "2. Segmentation Characteristics:\n",
        "   - Segmentations are not rectangular but complex polygons.\n",
        "   - 100% of segmentations are near their bounding boxes.\n",
        "   - 100% of sampled annotations have valid polygon segmentations.\n",
        "\n",
        "3. Key Adjustments:\n",
        "   - We adjusted the 'features' definition to accommodate complex polygon segmentations.\n",
        "   - The ClassLabel for 'category_id' was updated to ['Tumor', '0', '1'] to match the actual data structure.\n",
        "\n",
        "4. Data Loading Considerations:\n",
        "   - Image data is stored as bytes after being read with OpenCV.\n",
        "   - Segmentation data needs to be carefully handled to maintain its list-of-lists structure.\n",
        "\n",
        "5. Verification Steps:\n",
        "   - We implemented functions to verify polygon validity and dataset structure.\n",
        "   - These checks are crucial before pushing the dataset to the Hugging Face Hub.\n",
        "\n",
        "6. Performance and Efficiency:\n",
        "   - We used tqdm for progress tracking during image loading, which is helpful for large datasets.\n",
        "   - The dataset creation process involves reading and encoding many images, which can be time-consuming.\n",
        "\n",
        "7. Hugging Face Dataset Structure:\n",
        "   - The dataset is created using the Hugging Face Datasets library, which has specific requirements for data types and structures.\n",
        "   - We needed to ensure that all data types in the pandas DataFrame matched the defined features.\n",
        "\n",
        "8. Potential Future Work:\n",
        "   - The current implementation doesn't push to the Hugging Face Hub automatically. This step should be done manually after thorough verification.\n",
        "   - Depending on the specific use case, additional preprocessing or data augmentation steps might be necessary."
      ],
      "metadata": {
        "id": "1A7rmeq2T-1I"
      }
    },
    {
      "cell_type": "markdown",
      "metadata": {
        "id": "AhhJ8h1uKw7t"
      },
      "source": [
        "## 1. Setup and Imports\n",
        "\n",
        "This section imports necessary libraries and sets up the environment.\n"
      ]
    },
    {
      "cell_type": "code",
      "source": [
        "from google.colab import drive\n",
        "drive.mount('/content/drive')"
      ],
      "metadata": {
        "id": "OQLXzGadLOnZ",
        "outputId": "8f663b1c-699c-4c0a-e75d-a31506d25da5",
        "colab": {
          "base_uri": "https://localhost:8080/"
        }
      },
      "execution_count": 1,
      "outputs": [
        {
          "output_type": "stream",
          "name": "stdout",
          "text": [
            "Mounted at /content/drive\n"
          ]
        }
      ]
    },
    {
      "cell_type": "code",
      "source": [
        "!pip install -qU pyarrow==14.0.1 requests==2.31.0"
      ],
      "metadata": {
        "id": "_ko8sN4vVrxH",
        "colab": {
          "base_uri": "https://localhost:8080/"
        },
        "outputId": "b6b2ec83-2328-49f2-f1d8-9d37ef481374"
      },
      "execution_count": 2,
      "outputs": [
        {
          "output_type": "stream",
          "name": "stdout",
          "text": [
            "\u001b[2K     \u001b[90m━━━━━━━━━━━━━━━━━━━━━━━━━━━━━━━━━━━━━━━━\u001b[0m \u001b[32m38.0/38.0 MB\u001b[0m \u001b[31m42.5 MB/s\u001b[0m eta \u001b[36m0:00:00\u001b[0m\n",
            "\u001b[?25h"
          ]
        }
      ]
    },
    {
      "cell_type": "code",
      "source": [
        "!pip install -qU datasets==2.11.0"
      ],
      "metadata": {
        "id": "Hgjmz2RkVxVU",
        "colab": {
          "base_uri": "https://localhost:8080/"
        },
        "outputId": "61853a35-e4b0-4c14-82d4-55c3059ac5e9"
      },
      "execution_count": 3,
      "outputs": [
        {
          "output_type": "stream",
          "name": "stdout",
          "text": [
            "\u001b[?25l     \u001b[90m━━━━━━━━━━━━━━━━━━━━━━━━━━━━━━━━━━━━━━━━\u001b[0m \u001b[32m0.0/468.7 kB\u001b[0m \u001b[31m?\u001b[0m eta \u001b[36m-:--:--\u001b[0m\r\u001b[2K     \u001b[91m━━━━━━━━━━━━━━━━━━━━━━━━━━━━━━━━━━━━━━━\u001b[0m\u001b[90m╺\u001b[0m \u001b[32m460.8/468.7 kB\u001b[0m \u001b[31m15.0 MB/s\u001b[0m eta \u001b[36m0:00:01\u001b[0m\r\u001b[2K     \u001b[90m━━━━━━━━━━━━━━━━━━━━━━━━━━━━━━━━━━━━━━━━\u001b[0m \u001b[32m468.7/468.7 kB\u001b[0m \u001b[31m11.7 MB/s\u001b[0m eta \u001b[36m0:00:00\u001b[0m\n",
            "\u001b[2K     \u001b[90m━━━━━━━━━━━━━━━━━━━━━━━━━━━━━━━━━━━━━━━━\u001b[0m \u001b[32m110.5/110.5 kB\u001b[0m \u001b[31m9.3 MB/s\u001b[0m eta \u001b[36m0:00:00\u001b[0m\n",
            "\u001b[2K     \u001b[90m━━━━━━━━━━━━━━━━━━━━━━━━━━━━━━━━━━━━━━━━\u001b[0m \u001b[32m194.1/194.1 kB\u001b[0m \u001b[31m12.6 MB/s\u001b[0m eta \u001b[36m0:00:00\u001b[0m\n",
            "\u001b[2K     \u001b[90m━━━━━━━━━━━━━━━━━━━━━━━━━━━━━━━━━━━━━━━━\u001b[0m \u001b[32m134.8/134.8 kB\u001b[0m \u001b[31m11.4 MB/s\u001b[0m eta \u001b[36m0:00:00\u001b[0m\n",
            "\u001b[2K     \u001b[90m━━━━━━━━━━━━━━━━━━━━━━━━━━━━━━━━━━━━━━━━\u001b[0m \u001b[32m134.8/134.8 kB\u001b[0m \u001b[31m5.1 MB/s\u001b[0m eta \u001b[36m0:00:00\u001b[0m\n",
            "\u001b[2K     \u001b[90m━━━━━━━━━━━━━━━━━━━━━━━━━━━━━━━━━━━━━━━━\u001b[0m \u001b[32m134.3/134.3 kB\u001b[0m \u001b[31m11.9 MB/s\u001b[0m eta \u001b[36m0:00:00\u001b[0m\n",
            "\u001b[?25h"
          ]
        }
      ]
    },
    {
      "cell_type": "code",
      "source": [
        "import os\n",
        "import json\n",
        "import pandas as pd\n",
        "from datasets import Dataset, Features, ClassLabel, Value, Sequence, Image\n",
        "from tqdm.auto import tqdm\n",
        "import cv2"
      ],
      "metadata": {
        "id": "22AUgBXjT3fs"
      },
      "execution_count": 4,
      "outputs": []
    },
    {
      "cell_type": "markdown",
      "source": [
        "## 2. Constants and Configuration\n",
        "Define constants and configurations used throughout the notebook.\n"
      ],
      "metadata": {
        "id": "I7X6iGqZVBa3"
      }
    },
    {
      "cell_type": "code",
      "source": [
        "HF_DATASET_NAME = 'brain-tumor-image-dataset-semantic-segmentation-alt'\n",
        "SOURCE_JSON = \"/content/drive/MyDrive/kaggle/datasets/brain-tumor-image-dataset-semantic-segmentation/train/_annotations.coco.json\"\n",
        "SOURCE_IMAGE_DIR = \"/content/drive/MyDrive/kaggle/datasets/brain-tumor-image-dataset-semantic-segmentation/train\"\n"
      ],
      "metadata": {
        "id": "Wmu5BpQJbwqX"
      },
      "execution_count": 5,
      "outputs": []
    },
    {
      "cell_type": "markdown",
      "metadata": {
        "id": "_FsovZqvKw7u"
      },
      "source": [
        "## 3. Feature Definition\n",
        "Define the structure of the Hugging Face Dataset."
      ]
    },
    {
      "cell_type": "code",
      "source": [
        "features = Features({\n",
        "    'file_name': Value(dtype='string'),\n",
        "    'image': Image(),  # Change this from Value(dtype='string') to Image()\n",
        "    'id': Value(dtype='int64'),\n",
        "    'category_id': ClassLabel(names=['Tumor', '0', '1']),\n",
        "    'bbox': Sequence(feature=Value(dtype='float32'), length=4),\n",
        "    'segmentation': Sequence(Sequence(Value(dtype='float32'))),\n",
        "    'area': Value(dtype='float32'),\n",
        "    'iscrowd': Value(dtype='int64'),\n",
        "    'height': Value(dtype='int64'),\n",
        "    'width': Value(dtype='int64'),\n",
        "    'date_captured': Value(dtype='string'),\n",
        "    'license': Value(dtype='int64')\n",
        "})"
      ],
      "metadata": {
        "id": "a00QTeM8ZGAn"
      },
      "execution_count": 6,
      "outputs": []
    },
    {
      "cell_type": "markdown",
      "source": [
        "## 4. Data Loading and Preprocessing\n",
        "Functions to load and preprocess the COCO-format data."
      ],
      "metadata": {
        "id": "uvw_7Nn2VXbc"
      }
    },
    {
      "cell_type": "code",
      "execution_count": 7,
      "metadata": {
        "id": "MZL8oddLKw7u"
      },
      "outputs": [],
      "source": [
        "def verify_source_data():\n",
        "    with open(SOURCE_JSON, 'r') as f:\n",
        "        data = json.load(f)\n",
        "\n",
        "    print(\"Categories:\")\n",
        "    for category in data['categories']:\n",
        "        print(f\"ID: {category['id']}, Name: {category['name']}, Supercategory: {category['supercategory']}\")\n",
        "\n",
        "    category_counts = pd.DataFrame(data['annotations'])['category_id'].value_counts().sort_index()\n",
        "    print(\"\\nCategory distribution in annotations:\")\n",
        "    print(category_counts)\n",
        "\n",
        "    # Check for images with multiple bounding boxes\n",
        "    image_bbox_counts = pd.DataFrame(data['annotations'])['image_id'].value_counts()\n",
        "    print(f\"\\nImages with multiple bounding boxes: {(image_bbox_counts > 1).sum()}\")\n",
        "    print(f\"Max bounding boxes in an image: {image_bbox_counts.max()}\")"
      ]
    },
    {
      "cell_type": "code",
      "source": [
        "def load_data_to_df():\n",
        "    with open(SOURCE_JSON, 'r') as f:\n",
        "        data = json.load(f)\n",
        "\n",
        "    images = pd.DataFrame(data['images'])\n",
        "    annotations = pd.DataFrame(data['annotations'])\n",
        "\n",
        "    df = pd.merge(images, annotations, left_on='id', right_on='image_id', suffixes=('', '_ann'))\n",
        "\n",
        "    # Drop duplicate columns\n",
        "    df = df.drop(columns=['id_ann', 'image_id'])\n",
        "\n",
        "    # Store relative paths instead of full paths\n",
        "    df['image'] = df['file_name']\n",
        "\n",
        "    # Ensure all required columns are present\n",
        "    for column in features.keys():\n",
        "        if column not in df.columns:\n",
        "            df[column] = None\n",
        "\n",
        "    return df"
      ],
      "metadata": {
        "id": "iCYaNVX3dN4e"
      },
      "execution_count": 8,
      "outputs": []
    },
    {
      "cell_type": "markdown",
      "source": [
        "## 5. Dataset Creation\n",
        "Function to create the Hugging Face Dataset from the preprocessed data."
      ],
      "metadata": {
        "id": "BQ9sogWWV7KH"
      }
    },
    {
      "cell_type": "code",
      "source": [
        "from PIL import Image as PILImage\n",
        "\n",
        "def create_hf_dataset(df, hf_dataset_name):\n",
        "    def load_image(image_path):\n",
        "        img_path = os.path.join(SOURCE_IMAGE_DIR, image_path)\n",
        "        with open(img_path, 'rb') as f:\n",
        "            return f.read()\n",
        "\n",
        "    # Load images\n",
        "    tqdm.pandas(desc=\"Loading images\")\n",
        "    df['image'] = df['image'].progress_apply(load_image)\n",
        "\n",
        "    # Ensure datatypes match the features\n",
        "    df['bbox'] = df['bbox'].apply(lambda x: [float(i) for i in x])\n",
        "    df['segmentation'] = df['segmentation'].apply(lambda x: [[float(i) for i in poly] for poly in x])\n",
        "    df['area'] = df['area'].astype('float32')\n",
        "\n",
        "    # Create the dataset\n",
        "    dataset = Dataset.from_pandas(df, features=features)\n",
        "\n",
        "    print(f\"Dataset created successfully with {len(dataset)} examples.\")\n",
        "    return dataset"
      ],
      "metadata": {
        "id": "VkLvwAuFmZkh"
      },
      "execution_count": 9,
      "outputs": []
    },
    {
      "cell_type": "markdown",
      "source": [
        "## 6. Verification Functions\n",
        "Functions to verify the integrity and structure of the data and created dataset."
      ],
      "metadata": {
        "id": "C4jcZp4kWNhj"
      }
    },
    {
      "cell_type": "code",
      "source": [
        "import json\n",
        "from collections import Counter\n",
        "\n",
        "with open(SOURCE_JSON, 'r') as f:\n",
        "    coco_data = json.load(f)\n",
        "\n",
        "category_ids = [ann['category_id'] for ann in coco_data['annotations']]\n",
        "id_counts = Counter(category_ids)\n",
        "\n",
        "categories = {cat['id']: cat['name'] for cat in coco_data['categories']}\n",
        "\n",
        "print(\"Category ID counts:\", id_counts)\n",
        "print(\"Category mappings:\", categories)\n",
        "\n",
        "# Automated verification\n",
        "expected_categories = {0: 'Tumor', 1: '0', 2: '1'}\n",
        "assert categories == expected_categories, f\"Category mismatch. Expected {expected_categories}, got {categories}\"\n",
        "assert set(id_counts.keys()) == {1, 2}, f\"Unexpected category IDs found: {set(id_counts.keys())}\""
      ],
      "metadata": {
        "id": "vY56XeTb6qZc",
        "outputId": "4e5dce03-3d22-4478-d1e1-2662c7488516",
        "colab": {
          "base_uri": "https://localhost:8080/"
        }
      },
      "execution_count": 10,
      "outputs": [
        {
          "output_type": "stream",
          "name": "stdout",
          "text": [
            "Category ID counts: Counter({1: 771, 2: 731})\n",
            "Category mappings: {0: 'Tumor', 1: '0', 2: '1'}\n"
          ]
        }
      ]
    },
    {
      "cell_type": "code",
      "source": [
        "def is_valid_polygon(segmentation):\n",
        "    # Check if it's a list of lists\n",
        "    if not isinstance(segmentation, list) or not all(isinstance(poly, list) for poly in segmentation):\n",
        "        return False\n",
        "\n",
        "    # Check if each polygon has at least 6 coordinates (3 points)\n",
        "    if not all(len(poly) >= 6 and len(poly) % 2 == 0 for poly in segmentation):\n",
        "        return False\n",
        "\n",
        "    return True\n",
        "\n",
        "sample_annotations = coco_data['annotations'][:100]\n",
        "valid_count = sum(is_valid_polygon(ann['segmentation']) for ann in sample_annotations)\n",
        "valid_percentage = (valid_count / len(sample_annotations)) * 100\n",
        "print(f\"{valid_percentage:.2f}% of sampled annotations have valid polygon segmentations\")"
      ],
      "metadata": {
        "id": "AjQKcEaSMHGZ",
        "outputId": "7f5b2420-c769-4f51-adc1-2922e6adce82",
        "colab": {
          "base_uri": "https://localhost:8080/"
        }
      },
      "execution_count": 11,
      "outputs": [
        {
          "output_type": "stream",
          "name": "stdout",
          "text": [
            "100.00% of sampled annotations have valid polygon segmentations\n"
          ]
        }
      ]
    },
    {
      "cell_type": "code",
      "source": [
        "def verify_dataset(dataset):\n",
        "    print(f\"Dataset contains {len(dataset)} examples.\")\n",
        "    print(\"Sample of the first example:\")\n",
        "    print(dataset[0])\n",
        "\n",
        "    # Check if all required fields are present\n",
        "    required_fields = ['file_name', 'image', 'id', 'category_id', 'bbox', 'segmentation', 'area']\n",
        "    for field in required_fields:\n",
        "        if field not in dataset[0]:\n",
        "            print(f\"Warning: '{field}' is missing from the dataset.\")\n",
        "\n",
        "    # Verify image data\n",
        "    if isinstance(dataset[0]['image'], str):\n",
        "        print(\"Image data is stored as file paths.\")\n",
        "    else:\n",
        "        print(\"Warning: Image data is not stored as file paths.\")\n",
        "\n",
        "    # Verify segmentation data\n",
        "    if isinstance(dataset[0]['segmentation'], list) and isinstance(dataset[0]['segmentation'][0], list):\n",
        "        print(\"Segmentation data is stored as a list of lists.\")\n",
        "    else:\n",
        "        print(\"Warning: Segmentation data is not stored as a list of lists.\")\n",
        "\n",
        "    print(\"Dataset verification complete.\")"
      ],
      "metadata": {
        "id": "DzgHdUtqOLlJ"
      },
      "execution_count": 12,
      "outputs": []
    },
    {
      "cell_type": "markdown",
      "source": [
        "## 7. Main Execution\n",
        "The main workflow to create and verify the dataset."
      ],
      "metadata": {
        "id": "D38qHafRW1lu"
      }
    },
    {
      "cell_type": "code",
      "source": [
        "# 7. Main Execution\n",
        "\n",
        "# Load and prepare the data\n",
        "df = load_data_to_df()\n",
        "\n",
        "# Create the dataset\n",
        "dataset = create_hf_dataset(df, HF_DATASET_NAME)\n",
        "\n",
        "# Verify the dataset\n",
        "verify_dataset(dataset)\n",
        "\n",
        "# Save the dataset to disk in Parquet format\n",
        "dataset.save_to_disk(HF_DATASET_NAME, file_format=\"parquet\")\n",
        "\n",
        "# Optional: Push to Hugging Face Hub\n",
        "# Uncomment the following line when ready to upload\n",
        "# dataset.push_to_hub(HF_DATASET_NAME)"
      ],
      "metadata": {
        "id": "pdF4aJRz92bi",
        "outputId": "8a5afb87-0624-477e-aa0b-1c2e4b849890",
        "colab": {
          "base_uri": "https://localhost:8080/"
        }
      },
      "execution_count": 14,
      "outputs": [
        {
          "output_type": "stream",
          "name": "stdout",
          "text": [
            "Dataset created successfully with 1502 examples.\n",
            "Dataset contains 1502 examples.\n",
            "Sample of the first example:\n",
            "{'file_name': '2256_jpg.rf.3afd7903eaf3f3c5aa8da4bbb928bc19.jpg', 'image': '2256_jpg.rf.3afd7903eaf3f3c5aa8da4bbb928bc19.jpg', 'id': 0, 'category_id': 1, 'bbox': [145.0, 239.0, 168.75, 162.5], 'segmentation': [[313.75, 238.75, 145.0, 238.75, 145.0, 401.25, 313.75, 401.25, 313.75, 238.75]], 'area': 27421.875, 'iscrowd': 0, 'height': 640, 'width': 640, 'date_captured': '2023-08-19T04:37:54+00:00', 'license': 1}\n",
            "Image data is stored as file paths.\n",
            "Segmentation data is stored as a list of lists.\n",
            "Dataset verification complete.\n"
          ]
        }
      ]
    },
    {
      "cell_type": "markdown",
      "source": [
        "## 8. (Optional) Upload to Hugging Face Hub\n",
        "Uncomment this section when ready to upload the dataset to the Hugging Face Hub."
      ],
      "metadata": {
        "id": "u-UcN5SKTwA3"
      }
    },
    {
      "cell_type": "code",
      "source": [
        "dataset.push_to_hub(HF_DATASET_NAME)"
      ],
      "metadata": {
        "id": "5XnrOC47XAN3",
        "outputId": "de90b39d-32c0-49f6-fb64-01a4bc98974f",
        "colab": {
          "base_uri": "https://localhost:8080/",
          "height": 81,
          "referenced_widgets": [
            "8ca9b03dab5844938c5e5d85a1d21f1c",
            "fb89bc02733743efb9d52e21b701c7b3",
            "3d00d5dfa99346cebc9aa23aecc3f811",
            "90236cf9686a4b3b84383f8c5e8d8430",
            "04aecfef3b06404e8ae0d9e52489df58",
            "ec649a1d7bde4bdd9af9de155fa5127c",
            "a4557bfb85d841f585c3c6f2d84b011e",
            "7c32606d8ec64e4f90d2995624d4c71c",
            "5eb651e6eb2441f9ba1d81d76674050c",
            "345809e7171041949c268612942af1fc",
            "04b260ade98a447abf0337fe2962e728",
            "dd893b7846344631894ad5ebb93f41fa",
            "a56fc40558ff423eb290e4d658dab5a4",
            "6968280572c04ed5a9398a865a8472e8",
            "906a20c2aa424db0862161a581a620b0",
            "987feaf1a36047f2b72852da1a2efc46",
            "834b3b5551a048a692868fc8b95b7fcf",
            "6a6b1eec1f9e4f4981180fa4cc5a12b6",
            "1fb7250108ac4748af057881d58d2848",
            "c59f676c6fa1458bba9a15ba923e874d",
            "92d32441053f4e85ba0c1c385170eb37",
            "7a44e84c83334b75b694f80d4dcb4fcb"
          ]
        }
      },
      "execution_count": 15,
      "outputs": [
        {
          "output_type": "display_data",
          "data": {
            "text/plain": [
              "Pushing dataset shards to the dataset hub:   0%|          | 0/1 [00:00<?, ?it/s]"
            ],
            "application/vnd.jupyter.widget-view+json": {
              "version_major": 2,
              "version_minor": 0,
              "model_id": "8ca9b03dab5844938c5e5d85a1d21f1c"
            }
          },
          "metadata": {}
        },
        {
          "output_type": "display_data",
          "data": {
            "text/plain": [
              "Creating parquet from Arrow format:   0%|          | 0/2 [00:00<?, ?ba/s]"
            ],
            "application/vnd.jupyter.widget-view+json": {
              "version_major": 2,
              "version_minor": 0,
              "model_id": "dd893b7846344631894ad5ebb93f41fa"
            }
          },
          "metadata": {}
        }
      ]
    },
    {
      "cell_type": "code",
      "source": [
        "display(df)"
      ],
      "metadata": {
        "id": "PodhNCpXQFM5"
      },
      "execution_count": null,
      "outputs": []
    },
    {
      "cell_type": "code",
      "source": [],
      "metadata": {
        "id": "vWdSrp_qQi9E"
      },
      "execution_count": null,
      "outputs": []
    }
  ],
  "metadata": {
    "kernelspec": {
      "display_name": "Python 3",
      "name": "python3"
    },
    "language_info": {
      "codemirror_mode": {
        "name": "ipython",
        "version": 3
      },
      "file_extension": ".py",
      "mimetype": "text/x-python",
      "name": "python",
      "nbconvert_exporter": "python",
      "pygments_lexer": "ipython3",
      "version": "3.10.13"
    },
    "colab": {
      "provenance": [],
      "machine_shape": "hm",
      "include_colab_link": true
    },
    "widgets": {
      "application/vnd.jupyter.widget-state+json": {
        "8ca9b03dab5844938c5e5d85a1d21f1c": {
          "model_module": "@jupyter-widgets/controls",
          "model_name": "HBoxModel",
          "model_module_version": "1.5.0",
          "state": {
            "_dom_classes": [],
            "_model_module": "@jupyter-widgets/controls",
            "_model_module_version": "1.5.0",
            "_model_name": "HBoxModel",
            "_view_count": null,
            "_view_module": "@jupyter-widgets/controls",
            "_view_module_version": "1.5.0",
            "_view_name": "HBoxView",
            "box_style": "",
            "children": [
              "IPY_MODEL_fb89bc02733743efb9d52e21b701c7b3",
              "IPY_MODEL_3d00d5dfa99346cebc9aa23aecc3f811",
              "IPY_MODEL_90236cf9686a4b3b84383f8c5e8d8430"
            ],
            "layout": "IPY_MODEL_04aecfef3b06404e8ae0d9e52489df58"
          }
        },
        "fb89bc02733743efb9d52e21b701c7b3": {
          "model_module": "@jupyter-widgets/controls",
          "model_name": "HTMLModel",
          "model_module_version": "1.5.0",
          "state": {
            "_dom_classes": [],
            "_model_module": "@jupyter-widgets/controls",
            "_model_module_version": "1.5.0",
            "_model_name": "HTMLModel",
            "_view_count": null,
            "_view_module": "@jupyter-widgets/controls",
            "_view_module_version": "1.5.0",
            "_view_name": "HTMLView",
            "description": "",
            "description_tooltip": null,
            "layout": "IPY_MODEL_ec649a1d7bde4bdd9af9de155fa5127c",
            "placeholder": "​",
            "style": "IPY_MODEL_a4557bfb85d841f585c3c6f2d84b011e",
            "value": "Pushing dataset shards to the dataset hub: 100%"
          }
        },
        "3d00d5dfa99346cebc9aa23aecc3f811": {
          "model_module": "@jupyter-widgets/controls",
          "model_name": "FloatProgressModel",
          "model_module_version": "1.5.0",
          "state": {
            "_dom_classes": [],
            "_model_module": "@jupyter-widgets/controls",
            "_model_module_version": "1.5.0",
            "_model_name": "FloatProgressModel",
            "_view_count": null,
            "_view_module": "@jupyter-widgets/controls",
            "_view_module_version": "1.5.0",
            "_view_name": "ProgressView",
            "bar_style": "success",
            "description": "",
            "description_tooltip": null,
            "layout": "IPY_MODEL_7c32606d8ec64e4f90d2995624d4c71c",
            "max": 1,
            "min": 0,
            "orientation": "horizontal",
            "style": "IPY_MODEL_5eb651e6eb2441f9ba1d81d76674050c",
            "value": 1
          }
        },
        "90236cf9686a4b3b84383f8c5e8d8430": {
          "model_module": "@jupyter-widgets/controls",
          "model_name": "HTMLModel",
          "model_module_version": "1.5.0",
          "state": {
            "_dom_classes": [],
            "_model_module": "@jupyter-widgets/controls",
            "_model_module_version": "1.5.0",
            "_model_name": "HTMLModel",
            "_view_count": null,
            "_view_module": "@jupyter-widgets/controls",
            "_view_module_version": "1.5.0",
            "_view_name": "HTMLView",
            "description": "",
            "description_tooltip": null,
            "layout": "IPY_MODEL_345809e7171041949c268612942af1fc",
            "placeholder": "​",
            "style": "IPY_MODEL_04b260ade98a447abf0337fe2962e728",
            "value": " 1/1 [00:01&lt;00:00,  1.09s/it]"
          }
        },
        "04aecfef3b06404e8ae0d9e52489df58": {
          "model_module": "@jupyter-widgets/base",
          "model_name": "LayoutModel",
          "model_module_version": "1.2.0",
          "state": {
            "_model_module": "@jupyter-widgets/base",
            "_model_module_version": "1.2.0",
            "_model_name": "LayoutModel",
            "_view_count": null,
            "_view_module": "@jupyter-widgets/base",
            "_view_module_version": "1.2.0",
            "_view_name": "LayoutView",
            "align_content": null,
            "align_items": null,
            "align_self": null,
            "border": null,
            "bottom": null,
            "display": null,
            "flex": null,
            "flex_flow": null,
            "grid_area": null,
            "grid_auto_columns": null,
            "grid_auto_flow": null,
            "grid_auto_rows": null,
            "grid_column": null,
            "grid_gap": null,
            "grid_row": null,
            "grid_template_areas": null,
            "grid_template_columns": null,
            "grid_template_rows": null,
            "height": null,
            "justify_content": null,
            "justify_items": null,
            "left": null,
            "margin": null,
            "max_height": null,
            "max_width": null,
            "min_height": null,
            "min_width": null,
            "object_fit": null,
            "object_position": null,
            "order": null,
            "overflow": null,
            "overflow_x": null,
            "overflow_y": null,
            "padding": null,
            "right": null,
            "top": null,
            "visibility": null,
            "width": null
          }
        },
        "ec649a1d7bde4bdd9af9de155fa5127c": {
          "model_module": "@jupyter-widgets/base",
          "model_name": "LayoutModel",
          "model_module_version": "1.2.0",
          "state": {
            "_model_module": "@jupyter-widgets/base",
            "_model_module_version": "1.2.0",
            "_model_name": "LayoutModel",
            "_view_count": null,
            "_view_module": "@jupyter-widgets/base",
            "_view_module_version": "1.2.0",
            "_view_name": "LayoutView",
            "align_content": null,
            "align_items": null,
            "align_self": null,
            "border": null,
            "bottom": null,
            "display": null,
            "flex": null,
            "flex_flow": null,
            "grid_area": null,
            "grid_auto_columns": null,
            "grid_auto_flow": null,
            "grid_auto_rows": null,
            "grid_column": null,
            "grid_gap": null,
            "grid_row": null,
            "grid_template_areas": null,
            "grid_template_columns": null,
            "grid_template_rows": null,
            "height": null,
            "justify_content": null,
            "justify_items": null,
            "left": null,
            "margin": null,
            "max_height": null,
            "max_width": null,
            "min_height": null,
            "min_width": null,
            "object_fit": null,
            "object_position": null,
            "order": null,
            "overflow": null,
            "overflow_x": null,
            "overflow_y": null,
            "padding": null,
            "right": null,
            "top": null,
            "visibility": null,
            "width": null
          }
        },
        "a4557bfb85d841f585c3c6f2d84b011e": {
          "model_module": "@jupyter-widgets/controls",
          "model_name": "DescriptionStyleModel",
          "model_module_version": "1.5.0",
          "state": {
            "_model_module": "@jupyter-widgets/controls",
            "_model_module_version": "1.5.0",
            "_model_name": "DescriptionStyleModel",
            "_view_count": null,
            "_view_module": "@jupyter-widgets/base",
            "_view_module_version": "1.2.0",
            "_view_name": "StyleView",
            "description_width": ""
          }
        },
        "7c32606d8ec64e4f90d2995624d4c71c": {
          "model_module": "@jupyter-widgets/base",
          "model_name": "LayoutModel",
          "model_module_version": "1.2.0",
          "state": {
            "_model_module": "@jupyter-widgets/base",
            "_model_module_version": "1.2.0",
            "_model_name": "LayoutModel",
            "_view_count": null,
            "_view_module": "@jupyter-widgets/base",
            "_view_module_version": "1.2.0",
            "_view_name": "LayoutView",
            "align_content": null,
            "align_items": null,
            "align_self": null,
            "border": null,
            "bottom": null,
            "display": null,
            "flex": null,
            "flex_flow": null,
            "grid_area": null,
            "grid_auto_columns": null,
            "grid_auto_flow": null,
            "grid_auto_rows": null,
            "grid_column": null,
            "grid_gap": null,
            "grid_row": null,
            "grid_template_areas": null,
            "grid_template_columns": null,
            "grid_template_rows": null,
            "height": null,
            "justify_content": null,
            "justify_items": null,
            "left": null,
            "margin": null,
            "max_height": null,
            "max_width": null,
            "min_height": null,
            "min_width": null,
            "object_fit": null,
            "object_position": null,
            "order": null,
            "overflow": null,
            "overflow_x": null,
            "overflow_y": null,
            "padding": null,
            "right": null,
            "top": null,
            "visibility": null,
            "width": null
          }
        },
        "5eb651e6eb2441f9ba1d81d76674050c": {
          "model_module": "@jupyter-widgets/controls",
          "model_name": "ProgressStyleModel",
          "model_module_version": "1.5.0",
          "state": {
            "_model_module": "@jupyter-widgets/controls",
            "_model_module_version": "1.5.0",
            "_model_name": "ProgressStyleModel",
            "_view_count": null,
            "_view_module": "@jupyter-widgets/base",
            "_view_module_version": "1.2.0",
            "_view_name": "StyleView",
            "bar_color": null,
            "description_width": ""
          }
        },
        "345809e7171041949c268612942af1fc": {
          "model_module": "@jupyter-widgets/base",
          "model_name": "LayoutModel",
          "model_module_version": "1.2.0",
          "state": {
            "_model_module": "@jupyter-widgets/base",
            "_model_module_version": "1.2.0",
            "_model_name": "LayoutModel",
            "_view_count": null,
            "_view_module": "@jupyter-widgets/base",
            "_view_module_version": "1.2.0",
            "_view_name": "LayoutView",
            "align_content": null,
            "align_items": null,
            "align_self": null,
            "border": null,
            "bottom": null,
            "display": null,
            "flex": null,
            "flex_flow": null,
            "grid_area": null,
            "grid_auto_columns": null,
            "grid_auto_flow": null,
            "grid_auto_rows": null,
            "grid_column": null,
            "grid_gap": null,
            "grid_row": null,
            "grid_template_areas": null,
            "grid_template_columns": null,
            "grid_template_rows": null,
            "height": null,
            "justify_content": null,
            "justify_items": null,
            "left": null,
            "margin": null,
            "max_height": null,
            "max_width": null,
            "min_height": null,
            "min_width": null,
            "object_fit": null,
            "object_position": null,
            "order": null,
            "overflow": null,
            "overflow_x": null,
            "overflow_y": null,
            "padding": null,
            "right": null,
            "top": null,
            "visibility": null,
            "width": null
          }
        },
        "04b260ade98a447abf0337fe2962e728": {
          "model_module": "@jupyter-widgets/controls",
          "model_name": "DescriptionStyleModel",
          "model_module_version": "1.5.0",
          "state": {
            "_model_module": "@jupyter-widgets/controls",
            "_model_module_version": "1.5.0",
            "_model_name": "DescriptionStyleModel",
            "_view_count": null,
            "_view_module": "@jupyter-widgets/base",
            "_view_module_version": "1.2.0",
            "_view_name": "StyleView",
            "description_width": ""
          }
        },
        "dd893b7846344631894ad5ebb93f41fa": {
          "model_module": "@jupyter-widgets/controls",
          "model_name": "HBoxModel",
          "model_module_version": "1.5.0",
          "state": {
            "_dom_classes": [],
            "_model_module": "@jupyter-widgets/controls",
            "_model_module_version": "1.5.0",
            "_model_name": "HBoxModel",
            "_view_count": null,
            "_view_module": "@jupyter-widgets/controls",
            "_view_module_version": "1.5.0",
            "_view_name": "HBoxView",
            "box_style": "",
            "children": [
              "IPY_MODEL_a56fc40558ff423eb290e4d658dab5a4",
              "IPY_MODEL_6968280572c04ed5a9398a865a8472e8",
              "IPY_MODEL_906a20c2aa424db0862161a581a620b0"
            ],
            "layout": "IPY_MODEL_987feaf1a36047f2b72852da1a2efc46"
          }
        },
        "a56fc40558ff423eb290e4d658dab5a4": {
          "model_module": "@jupyter-widgets/controls",
          "model_name": "HTMLModel",
          "model_module_version": "1.5.0",
          "state": {
            "_dom_classes": [],
            "_model_module": "@jupyter-widgets/controls",
            "_model_module_version": "1.5.0",
            "_model_name": "HTMLModel",
            "_view_count": null,
            "_view_module": "@jupyter-widgets/controls",
            "_view_module_version": "1.5.0",
            "_view_name": "HTMLView",
            "description": "",
            "description_tooltip": null,
            "layout": "IPY_MODEL_834b3b5551a048a692868fc8b95b7fcf",
            "placeholder": "​",
            "style": "IPY_MODEL_6a6b1eec1f9e4f4981180fa4cc5a12b6",
            "value": "Creating parquet from Arrow format: 100%"
          }
        },
        "6968280572c04ed5a9398a865a8472e8": {
          "model_module": "@jupyter-widgets/controls",
          "model_name": "FloatProgressModel",
          "model_module_version": "1.5.0",
          "state": {
            "_dom_classes": [],
            "_model_module": "@jupyter-widgets/controls",
            "_model_module_version": "1.5.0",
            "_model_name": "FloatProgressModel",
            "_view_count": null,
            "_view_module": "@jupyter-widgets/controls",
            "_view_module_version": "1.5.0",
            "_view_name": "ProgressView",
            "bar_style": "success",
            "description": "",
            "description_tooltip": null,
            "layout": "IPY_MODEL_1fb7250108ac4748af057881d58d2848",
            "max": 2,
            "min": 0,
            "orientation": "horizontal",
            "style": "IPY_MODEL_c59f676c6fa1458bba9a15ba923e874d",
            "value": 2
          }
        },
        "906a20c2aa424db0862161a581a620b0": {
          "model_module": "@jupyter-widgets/controls",
          "model_name": "HTMLModel",
          "model_module_version": "1.5.0",
          "state": {
            "_dom_classes": [],
            "_model_module": "@jupyter-widgets/controls",
            "_model_module_version": "1.5.0",
            "_model_name": "HTMLModel",
            "_view_count": null,
            "_view_module": "@jupyter-widgets/controls",
            "_view_module_version": "1.5.0",
            "_view_name": "HTMLView",
            "description": "",
            "description_tooltip": null,
            "layout": "IPY_MODEL_92d32441053f4e85ba0c1c385170eb37",
            "placeholder": "​",
            "style": "IPY_MODEL_7a44e84c83334b75b694f80d4dcb4fcb",
            "value": " 2/2 [00:00&lt;00:00, 126.08ba/s]"
          }
        },
        "987feaf1a36047f2b72852da1a2efc46": {
          "model_module": "@jupyter-widgets/base",
          "model_name": "LayoutModel",
          "model_module_version": "1.2.0",
          "state": {
            "_model_module": "@jupyter-widgets/base",
            "_model_module_version": "1.2.0",
            "_model_name": "LayoutModel",
            "_view_count": null,
            "_view_module": "@jupyter-widgets/base",
            "_view_module_version": "1.2.0",
            "_view_name": "LayoutView",
            "align_content": null,
            "align_items": null,
            "align_self": null,
            "border": null,
            "bottom": null,
            "display": null,
            "flex": null,
            "flex_flow": null,
            "grid_area": null,
            "grid_auto_columns": null,
            "grid_auto_flow": null,
            "grid_auto_rows": null,
            "grid_column": null,
            "grid_gap": null,
            "grid_row": null,
            "grid_template_areas": null,
            "grid_template_columns": null,
            "grid_template_rows": null,
            "height": null,
            "justify_content": null,
            "justify_items": null,
            "left": null,
            "margin": null,
            "max_height": null,
            "max_width": null,
            "min_height": null,
            "min_width": null,
            "object_fit": null,
            "object_position": null,
            "order": null,
            "overflow": null,
            "overflow_x": null,
            "overflow_y": null,
            "padding": null,
            "right": null,
            "top": null,
            "visibility": null,
            "width": null
          }
        },
        "834b3b5551a048a692868fc8b95b7fcf": {
          "model_module": "@jupyter-widgets/base",
          "model_name": "LayoutModel",
          "model_module_version": "1.2.0",
          "state": {
            "_model_module": "@jupyter-widgets/base",
            "_model_module_version": "1.2.0",
            "_model_name": "LayoutModel",
            "_view_count": null,
            "_view_module": "@jupyter-widgets/base",
            "_view_module_version": "1.2.0",
            "_view_name": "LayoutView",
            "align_content": null,
            "align_items": null,
            "align_self": null,
            "border": null,
            "bottom": null,
            "display": null,
            "flex": null,
            "flex_flow": null,
            "grid_area": null,
            "grid_auto_columns": null,
            "grid_auto_flow": null,
            "grid_auto_rows": null,
            "grid_column": null,
            "grid_gap": null,
            "grid_row": null,
            "grid_template_areas": null,
            "grid_template_columns": null,
            "grid_template_rows": null,
            "height": null,
            "justify_content": null,
            "justify_items": null,
            "left": null,
            "margin": null,
            "max_height": null,
            "max_width": null,
            "min_height": null,
            "min_width": null,
            "object_fit": null,
            "object_position": null,
            "order": null,
            "overflow": null,
            "overflow_x": null,
            "overflow_y": null,
            "padding": null,
            "right": null,
            "top": null,
            "visibility": null,
            "width": null
          }
        },
        "6a6b1eec1f9e4f4981180fa4cc5a12b6": {
          "model_module": "@jupyter-widgets/controls",
          "model_name": "DescriptionStyleModel",
          "model_module_version": "1.5.0",
          "state": {
            "_model_module": "@jupyter-widgets/controls",
            "_model_module_version": "1.5.0",
            "_model_name": "DescriptionStyleModel",
            "_view_count": null,
            "_view_module": "@jupyter-widgets/base",
            "_view_module_version": "1.2.0",
            "_view_name": "StyleView",
            "description_width": ""
          }
        },
        "1fb7250108ac4748af057881d58d2848": {
          "model_module": "@jupyter-widgets/base",
          "model_name": "LayoutModel",
          "model_module_version": "1.2.0",
          "state": {
            "_model_module": "@jupyter-widgets/base",
            "_model_module_version": "1.2.0",
            "_model_name": "LayoutModel",
            "_view_count": null,
            "_view_module": "@jupyter-widgets/base",
            "_view_module_version": "1.2.0",
            "_view_name": "LayoutView",
            "align_content": null,
            "align_items": null,
            "align_self": null,
            "border": null,
            "bottom": null,
            "display": null,
            "flex": null,
            "flex_flow": null,
            "grid_area": null,
            "grid_auto_columns": null,
            "grid_auto_flow": null,
            "grid_auto_rows": null,
            "grid_column": null,
            "grid_gap": null,
            "grid_row": null,
            "grid_template_areas": null,
            "grid_template_columns": null,
            "grid_template_rows": null,
            "height": null,
            "justify_content": null,
            "justify_items": null,
            "left": null,
            "margin": null,
            "max_height": null,
            "max_width": null,
            "min_height": null,
            "min_width": null,
            "object_fit": null,
            "object_position": null,
            "order": null,
            "overflow": null,
            "overflow_x": null,
            "overflow_y": null,
            "padding": null,
            "right": null,
            "top": null,
            "visibility": null,
            "width": null
          }
        },
        "c59f676c6fa1458bba9a15ba923e874d": {
          "model_module": "@jupyter-widgets/controls",
          "model_name": "ProgressStyleModel",
          "model_module_version": "1.5.0",
          "state": {
            "_model_module": "@jupyter-widgets/controls",
            "_model_module_version": "1.5.0",
            "_model_name": "ProgressStyleModel",
            "_view_count": null,
            "_view_module": "@jupyter-widgets/base",
            "_view_module_version": "1.2.0",
            "_view_name": "StyleView",
            "bar_color": null,
            "description_width": ""
          }
        },
        "92d32441053f4e85ba0c1c385170eb37": {
          "model_module": "@jupyter-widgets/base",
          "model_name": "LayoutModel",
          "model_module_version": "1.2.0",
          "state": {
            "_model_module": "@jupyter-widgets/base",
            "_model_module_version": "1.2.0",
            "_model_name": "LayoutModel",
            "_view_count": null,
            "_view_module": "@jupyter-widgets/base",
            "_view_module_version": "1.2.0",
            "_view_name": "LayoutView",
            "align_content": null,
            "align_items": null,
            "align_self": null,
            "border": null,
            "bottom": null,
            "display": null,
            "flex": null,
            "flex_flow": null,
            "grid_area": null,
            "grid_auto_columns": null,
            "grid_auto_flow": null,
            "grid_auto_rows": null,
            "grid_column": null,
            "grid_gap": null,
            "grid_row": null,
            "grid_template_areas": null,
            "grid_template_columns": null,
            "grid_template_rows": null,
            "height": null,
            "justify_content": null,
            "justify_items": null,
            "left": null,
            "margin": null,
            "max_height": null,
            "max_width": null,
            "min_height": null,
            "min_width": null,
            "object_fit": null,
            "object_position": null,
            "order": null,
            "overflow": null,
            "overflow_x": null,
            "overflow_y": null,
            "padding": null,
            "right": null,
            "top": null,
            "visibility": null,
            "width": null
          }
        },
        "7a44e84c83334b75b694f80d4dcb4fcb": {
          "model_module": "@jupyter-widgets/controls",
          "model_name": "DescriptionStyleModel",
          "model_module_version": "1.5.0",
          "state": {
            "_model_module": "@jupyter-widgets/controls",
            "_model_module_version": "1.5.0",
            "_model_name": "DescriptionStyleModel",
            "_view_count": null,
            "_view_module": "@jupyter-widgets/base",
            "_view_module_version": "1.2.0",
            "_view_name": "StyleView",
            "description_width": ""
          }
        }
      }
    }
  },
  "nbformat": 4,
  "nbformat_minor": 0
}