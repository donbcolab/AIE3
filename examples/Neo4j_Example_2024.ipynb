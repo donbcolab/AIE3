{
  "cells": [
    {
      "cell_type": "markdown",
      "metadata": {
        "id": "ExRNpA47oGdT"
      },
      "source": [
        "# Neo4j Graph 2024\n",
        "\n",
        "- Updated to use the official `neo4j` Python driver and maintain compatibility with `ipycytoscape`.\n",
        "- The examples in this notebook access the [COVID-19-Net](https://github.com/covid-19-net/covid-19-community) Knowledge Graph.\n",
        "\n",
        "**CITATION**:  Credit goes to the original author Peter W. Rose (pwrose@ucsd.edu) for his great work"
      ]
    },
    {
      "cell_type": "code",
      "execution_count": null,
      "metadata": {
        "id": "LV6WkojNoGdU"
      },
      "outputs": [],
      "source": [
        "!pip install -qU neo4j ipycytoscape ipywidgets"
      ]
    },
    {
      "cell_type": "code",
      "execution_count": null,
      "metadata": {
        "id": "YdETPzKroGdV"
      },
      "outputs": [],
      "source": [
        "import random\n",
        "import ipycytoscape\n",
        "from neo4j import GraphDatabase"
      ]
    },
    {
      "cell_type": "markdown",
      "metadata": {
        "id": "W13o8Q3_oGdV"
      },
      "source": [
        "## Neo4j Connection Info"
      ]
    },
    {
      "cell_type": "code",
      "execution_count": null,
      "metadata": {
        "id": "aCtApveioGdV"
      },
      "outputs": [],
      "source": [
        "URI = \"bolt://132.249.238.185:7687\"\n",
        "AUTH = (\"reader\", \"demo\")"
      ]
    },
    {
      "cell_type": "markdown",
      "metadata": {
        "id": "eHL_O4QEoGdV"
      },
      "source": [
        "## Node and edge styles"
      ]
    },
    {
      "cell_type": "markdown",
      "metadata": {
        "id": "Se_WKbnsoGdV"
      },
      "source": [
        "### Nodes"
      ]
    },
    {
      "cell_type": "code",
      "execution_count": null,
      "metadata": {
        "id": "FucCTUuIoGdV"
      },
      "outputs": [],
      "source": [
        "node_centered = {\n",
        "    'selector': 'node',\n",
        "    'style': {\n",
        "        'font-size': '10',\n",
        "        'label': 'data(name)',\n",
        "        'height': '60',\n",
        "        'width': '80',\n",
        "        'text-max-width': '80',\n",
        "        'text-wrap': 'wrap',\n",
        "        'text-valign': 'center',\n",
        "        'background-color': 'blue',\n",
        "        'background-opacity': 0.6\n",
        "    }\n",
        "}"
      ]
    },
    {
      "cell_type": "markdown",
      "metadata": {
        "id": "o5BkrWEvoGdV"
      },
      "source": [
        "### Edges"
      ]
    },
    {
      "cell_type": "code",
      "execution_count": null,
      "metadata": {
        "id": "tv9mHQZ4oGdV"
      },
      "outputs": [],
      "source": [
        "edge_directed = {\n",
        "    'selector': 'edge',\n",
        "    'style': {\n",
        "        'line-color': '#9dbaea',\n",
        "        'target-arrow-shape': 'triangle',\n",
        "        'target-arrow-color': '#9dbaea',\n",
        "        'curve-style': 'bezier'\n",
        "    }\n",
        "}\n",
        "\n",
        "edge_directed_named = {\n",
        "    'selector': 'edge',\n",
        "    'style': {\n",
        "        'font-size': '8',\n",
        "        'label': 'data(label)',\n",
        "        'line-color': '#9dbaea',\n",
        "        'text-rotation': 'autorotate',\n",
        "        'target-arrow-shape': 'triangle',\n",
        "        'target-arrow-color': '#9dbaea',\n",
        "        'curve-style': 'bezier'\n",
        "    }\n",
        "}\n",
        "\n",
        "edge_undirected = {\n",
        "    'selector': 'edge',\n",
        "    'style': {\n",
        "        'line-color': '#9dbaea'\n",
        "    }\n",
        "}"
      ]
    },
    {
      "cell_type": "markdown",
      "metadata": {
        "id": "wWTwsvd4oGdW"
      },
      "source": [
        "### Node Colors\n",
        "\n",
        "- Generate a random color palette."
      ]
    },
    {
      "cell_type": "code",
      "execution_count": null,
      "metadata": {
        "id": "hLrpZiOGoGdW"
      },
      "outputs": [],
      "source": [
        "def random_color_palette(n_colors, seed=3):\n",
        "    \"\"\"\n",
        "    Creates a random color palette of n_colors.\n",
        "    \"\"\"\n",
        "    random.seed(seed)\n",
        "    return ['#' + ''.join([random.choice('0123456789ABCDEF') for _ in range(6)]) for _ in range(n_colors)]"
      ]
    },
    {
      "cell_type": "markdown",
      "metadata": {
        "id": "p9gZwzSxoGdW"
      },
      "source": [
        "## Helper Functions"
      ]
    },
    {
      "cell_type": "markdown",
      "metadata": {
        "id": "QFZlFdhKoGdW"
      },
      "source": [
        "### Query and Convert Results to Subgraph"
      ]
    },
    {
      "cell_type": "code",
      "execution_count": null,
      "metadata": {
        "id": "m5juV4OQoGdW"
      },
      "outputs": [],
      "source": [
        "def query_to_subgraph(driver, query):\n",
        "    \"\"\"\n",
        "    Executes a query and converts the results into a dictionary format\n",
        "    compatible with ipycytoscape.\n",
        "    \"\"\"\n",
        "    nodes = {}\n",
        "    edges = []\n",
        "\n",
        "    with driver.session() as session:\n",
        "        result = session.run(query)\n",
        "        for record in result:\n",
        "            path = record[\"p\"]  # Assumes the query returns a path 'p'\n",
        "            for node in path.nodes:\n",
        "                if node.element_id not in nodes:\n",
        "                    tooltip_data = \",\\n\".join(f\"{key}: {value}\" for key, value in node.items())\n",
        "                    nodes[node.element_id] = {\n",
        "                        \"data\": {\n",
        "                            \"id\": node.element_id,\n",
        "                            \"name\": node.get(\"name\", \"Unnamed Node\"),\n",
        "                            \"label\": list(node.labels)[0] if node.labels else \"Unknown\",\n",
        "                            \"tooltip\": tooltip_data,\n",
        "                        }\n",
        "                    }\n",
        "            for rel in path.relationships:\n",
        "                tooltip_data = \",\\n\".join(f\"{key}: {value}\" for key, value in rel.items())\n",
        "                edges.append({\n",
        "                    \"data\": {\n",
        "                        \"source\": rel.start_node.element_id,\n",
        "                        \"target\": rel.end_node.element_id,\n",
        "                        \"label\": rel.type,\n",
        "                        \"tooltip\": tooltip_data,\n",
        "                    }\n",
        "                })\n",
        "\n",
        "    return {\"nodes\": list(nodes.values()), \"edges\": edges}"
      ]
    },
    {
      "cell_type": "markdown",
      "metadata": {
        "id": "VbsacRvFoGdW"
      },
      "source": [
        "### Fetch Neo4j Data and Visualize"
      ]
    },
    {
      "cell_type": "code",
      "execution_count": null,
      "metadata": {
        "id": "55IJ-4yioGdW"
      },
      "outputs": [],
      "source": [
        "def fetch_and_visualize(query, layout=\"dagre\", edge_style=edge_directed, node_colors_seed=3):\n",
        "    \"\"\"\n",
        "    Executes a Neo4j query, converts the results to a subgraph, and visualizes it with ipycytoscape.\n",
        "    \"\"\"\n",
        "    driver = GraphDatabase.driver(URI, auth=AUTH)\n",
        "    try:\n",
        "        subgraph = query_to_subgraph(driver, query)\n",
        "\n",
        "        widget = ipycytoscape.CytoscapeWidget()\n",
        "        widget.graph.add_graph_from_json(subgraph)\n",
        "\n",
        "        # Set styles\n",
        "        style = [node_centered, edge_style]\n",
        "\n",
        "        # Extract unique labels for node-specific colors\n",
        "        labels = list({node[\"data\"][\"label\"] for node in subgraph[\"nodes\"]})\n",
        "        labels.sort()\n",
        "\n",
        "        colors = random_color_palette(len(labels), seed=node_colors_seed)\n",
        "\n",
        "        for label, color in zip(labels, colors):\n",
        "            style.append({'selector': f'node[label = \"{label}\"]', 'style': {'background-color': color}})\n",
        "\n",
        "        widget.set_style(style)\n",
        "        widget.set_layout(name=layout, padding=0)\n",
        "        widget.set_tooltip_source('tooltip')  # Set the tooltip source\n",
        "\n",
        "        return widget\n",
        "    finally:\n",
        "        driver.close()"
      ]
    },
    {
      "cell_type": "markdown",
      "metadata": {
        "id": "fXs4Dp6moGdW"
      },
      "source": [
        "## Examples"
      ]
    },
    {
      "cell_type": "markdown",
      "metadata": {
        "id": "AiAR7O7FoGdW"
      },
      "source": [
        "### Example 1: Cities with the Name \"San Francisco\""
      ]
    },
    {
      "cell_type": "code",
      "execution_count": null,
      "metadata": {
        "id": "MF5a1GxDoGdW"
      },
      "outputs": [],
      "source": [
        "query1 = \"\"\"\n",
        "MATCH p=(:City{name:'San Francisco'})-[:IN*]->(:World) RETURN p\n",
        "\"\"\"\n",
        "widget1 = fetch_and_visualize(query1, layout=\"dagre\", edge_style=edge_directed)"
      ]
    },
    {
      "cell_type": "code",
      "execution_count": null,
      "metadata": {
        "id": "BjzX09XxoGdW"
      },
      "outputs": [],
      "source": [
        "widget1"
      ]
    },
    {
      "cell_type": "markdown",
      "metadata": {
        "id": "hrxZQjxcoGdW"
      },
      "source": [
        "### Example 2: Proteins Interacting with SARS-CoV-2 Spike Protein"
      ]
    },
    {
      "cell_type": "code",
      "execution_count": null,
      "metadata": {
        "id": "NkBTVL_AoGdW"
      },
      "outputs": [],
      "source": [
        "query2 = \"\"\"\n",
        "MATCH p=(:Protein{name: 'Spike glycoprotein', taxonomyId: 'taxonomy:2697049'})-[:INTERACTS_WITH]-(:Protein) RETURN p\n",
        "\"\"\"\n",
        "widget2 = fetch_and_visualize(query2, layout=\"concentric\", edge_style=edge_undirected)"
      ]
    },
    {
      "cell_type": "code",
      "execution_count": null,
      "metadata": {
        "id": "OSPFWJoGoGdX"
      },
      "outputs": [],
      "source": [
        "widget2"
      ]
    },
    {
      "cell_type": "markdown",
      "metadata": {
        "id": "Q9fhpnynoGdX"
      },
      "source": [
        "### Example 3: Explore the Data Sources"
      ]
    },
    {
      "cell_type": "code",
      "execution_count": null,
      "metadata": {
        "id": "GTcvsn_hoGdX"
      },
      "outputs": [],
      "source": [
        "query3 = \"\"\"\n",
        "MATCH p=(:MetaNode)-[:ETL_FROM]->(:DataSource) RETURN p\n",
        "\"\"\"\n",
        "widget3 = fetch_and_visualize(query3, layout=\"klay\", edge_style=edge_directed)"
      ]
    },
    {
      "cell_type": "code",
      "execution_count": null,
      "metadata": {
        "id": "8E4cjKU6oGdX"
      },
      "outputs": [],
      "source": [
        "widget3"
      ]
    },
    {
      "cell_type": "markdown",
      "metadata": {
        "id": "KYuGBuEMoGdX"
      },
      "source": [
        "### Example 4: Metagraph of Nodes and Relationships"
      ]
    },
    {
      "cell_type": "code",
      "execution_count": null,
      "metadata": {
        "id": "Ln2G3bryoGdX"
      },
      "outputs": [],
      "source": [
        "query4 = \"\"\"\n",
        "MATCH p=(a:MetaNode)-[:META_RELATIONSHIP]->(b:MetaNode)\n",
        "WHERE a.name <> 'Location' AND b.name <> 'Location'\n",
        "RETURN p\n",
        "\"\"\"\n",
        "widget4 = fetch_and_visualize(\n",
        "    query4,\n",
        "    layout=\"cola\",\n",
        "    edge_style=edge_directed_named,\n",
        "    node_colors_seed=42\n",
        ")"
      ]
    },
    {
      "cell_type": "code",
      "execution_count": null,
      "metadata": {
        "id": "ElvbgRqSoGdX"
      },
      "outputs": [],
      "source": [
        "widget4"
      ]
    }
  ],
  "metadata": {
    "kernelspec": {
      "display_name": ".venv",
      "language": "python",
      "name": "python3"
    },
    "language_info": {
      "codemirror_mode": {
        "name": "ipython",
        "version": 3
      },
      "file_extension": ".py",
      "mimetype": "text/x-python",
      "name": "python",
      "nbconvert_exporter": "python",
      "pygments_lexer": "ipython3",
      "version": "3.10.13"
    },
    "colab": {
      "provenance": []
    }
  },
  "nbformat": 4,
  "nbformat_minor": 0
}