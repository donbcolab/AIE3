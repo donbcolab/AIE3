{
  "nbformat": 4,
  "nbformat_minor": 0,
  "metadata": {
    "colab": {
      "provenance": [],
      "gpuType": "A100",
      "machine_shape": "hm",
      "include_colab_link": true
    },
    "kernelspec": {
      "name": "python3",
      "display_name": "Python 3"
    },
    "language_info": {
      "name": "python"
    },
    "accelerator": "GPU"
  },
  "cells": [
    {
      "cell_type": "markdown",
      "metadata": {
        "id": "view-in-github",
        "colab_type": "text"
      },
      "source": [
        "<a href=\"https://colab.research.google.com/github/donbcolab/AIE3/blob/main/paligemma_cnmc_finetune_v10.ipynb\" target=\"_parent\"><img src=\"https://colab.research.google.com/assets/colab-badge.svg\" alt=\"Open In Colab\"/></a>"
      ]
    },
    {
      "cell_type": "markdown",
      "source": [
        "# Paligemma Fine Tuning using CNMC dataset v10"
      ],
      "metadata": {
        "id": "4kmXOfka4QbW"
      }
    },
    {
      "cell_type": "markdown",
      "source": [
        "### Setting Up"
      ],
      "metadata": {
        "id": "dWhsAldJ5jlk"
      }
    },
    {
      "cell_type": "code",
      "source": [
        "# Constants\n",
        "base_model_name = \"google/paligemma-3b-pt-224\"\n",
        "adapter_version = \"paligemma-cnmc-ft\"\n",
        "adapter_model_name = f\"dwb2023/{adapter_version}\"\n",
        "max_seq_length = 128\n",
        "output_dir = adapter_version"
      ],
      "metadata": {
        "id": "psjJyRljxst0"
      },
      "execution_count": 1,
      "outputs": []
    },
    {
      "cell_type": "code",
      "source": [
        "!pip install -q -U git+https://github.com/huggingface/transformers.git bitsandbytes datasets accelerate peft hf_transfer"
      ],
      "metadata": {
        "id": "_hYu_1WI7CkD",
        "colab": {
          "base_uri": "https://localhost:8080/"
        },
        "outputId": "899e7c19-1b43-4d7d-cdb0-b6528a3a29fd"
      },
      "execution_count": 2,
      "outputs": [
        {
          "output_type": "stream",
          "name": "stdout",
          "text": [
            "  Installing build dependencies ... \u001b[?25l\u001b[?25hdone\n",
            "  Getting requirements to build wheel ... \u001b[?25l\u001b[?25hdone\n",
            "  Preparing metadata (pyproject.toml) ... \u001b[?25l\u001b[?25hdone\n",
            "\u001b[2K     \u001b[90m━━━━━━━━━━━━━━━━━━━━━━━━━━━━━━━━━━━━━━━━\u001b[0m \u001b[32m119.8/119.8 MB\u001b[0m \u001b[31m14.3 MB/s\u001b[0m eta \u001b[36m0:00:00\u001b[0m\n",
            "\u001b[2K     \u001b[90m━━━━━━━━━━━━━━━━━━━━━━━━━━━━━━━━━━━━━━━━\u001b[0m \u001b[32m547.8/547.8 kB\u001b[0m \u001b[31m54.0 MB/s\u001b[0m eta \u001b[36m0:00:00\u001b[0m\n",
            "\u001b[2K     \u001b[90m━━━━━━━━━━━━━━━━━━━━━━━━━━━━━━━━━━━━━━━━\u001b[0m \u001b[32m309.4/309.4 kB\u001b[0m \u001b[31m39.7 MB/s\u001b[0m eta \u001b[36m0:00:00\u001b[0m\n",
            "\u001b[2K     \u001b[90m━━━━━━━━━━━━━━━━━━━━━━━━━━━━━━━━━━━━━━━━\u001b[0m \u001b[32m251.6/251.6 kB\u001b[0m \u001b[31m34.5 MB/s\u001b[0m eta \u001b[36m0:00:00\u001b[0m\n",
            "\u001b[2K     \u001b[90m━━━━━━━━━━━━━━━━━━━━━━━━━━━━━━━━━━━━━━━━\u001b[0m \u001b[32m4.4/4.4 MB\u001b[0m \u001b[31m100.0 MB/s\u001b[0m eta \u001b[36m0:00:00\u001b[0m\n",
            "\u001b[2K     \u001b[90m━━━━━━━━━━━━━━━━━━━━━━━━━━━━━━━━━━━━━━━━\u001b[0m \u001b[32m40.8/40.8 MB\u001b[0m \u001b[31m40.1 MB/s\u001b[0m eta \u001b[36m0:00:00\u001b[0m\n",
            "\u001b[2K     \u001b[90m━━━━━━━━━━━━━━━━━━━━━━━━━━━━━━━━━━━━━━━━\u001b[0m \u001b[32m116.3/116.3 kB\u001b[0m \u001b[31m18.1 MB/s\u001b[0m eta \u001b[36m0:00:00\u001b[0m\n",
            "\u001b[2K     \u001b[90m━━━━━━━━━━━━━━━━━━━━━━━━━━━━━━━━━━━━━━━━\u001b[0m \u001b[32m64.9/64.9 kB\u001b[0m \u001b[31m10.4 MB/s\u001b[0m eta \u001b[36m0:00:00\u001b[0m\n",
            "\u001b[2K     \u001b[90m━━━━━━━━━━━━━━━━━━━━━━━━━━━━━━━━━━━━━━━━\u001b[0m \u001b[32m194.1/194.1 kB\u001b[0m \u001b[31m28.1 MB/s\u001b[0m eta \u001b[36m0:00:00\u001b[0m\n",
            "\u001b[2K     \u001b[90m━━━━━━━━━━━━━━━━━━━━━━━━━━━━━━━━━━━━━━━━\u001b[0m \u001b[32m134.8/134.8 kB\u001b[0m \u001b[31m21.9 MB/s\u001b[0m eta \u001b[36m0:00:00\u001b[0m\n",
            "\u001b[2K     \u001b[90m━━━━━━━━━━━━━━━━━━━━━━━━━━━━━━━━━━━━━━━━\u001b[0m \u001b[32m21.3/21.3 MB\u001b[0m \u001b[31m73.1 MB/s\u001b[0m eta \u001b[36m0:00:00\u001b[0m\n",
            "\u001b[?25h  Building wheel for transformers (pyproject.toml) ... \u001b[?25l\u001b[?25hdone\n",
            "\u001b[31mERROR: pip's dependency resolver does not currently take into account all the packages that are installed. This behaviour is the source of the following dependency conflicts.\n",
            "cudf-cu12 24.4.1 requires pyarrow<15.0.0a0,>=14.0.1, but you have pyarrow 16.1.0 which is incompatible.\n",
            "google-colab 1.0.0 requires requests==2.31.0, but you have requests 2.32.3 which is incompatible.\n",
            "ibis-framework 8.0.0 requires pyarrow<16,>=2, but you have pyarrow 16.1.0 which is incompatible.\u001b[0m\u001b[31m\n",
            "\u001b[0m"
          ]
        }
      ]
    },
    {
      "cell_type": "code",
      "source": [
        "import torch\n",
        "from transformers import PaliGemmaForConditionalGeneration, BitsAndBytesConfig, TrainingArguments, Trainer\n",
        "from peft import get_peft_model, LoraConfig\n",
        "from transformers import AutoProcessor\n",
        "from datasets import load_dataset, DatasetDict, Image\n",
        "from google.colab import userdata\n",
        "import os\n",
        "\n",
        "# Constants\n",
        "base_model_name = \"google/paligemma-3b-pt-224\"\n",
        "adapter_version = \"paligemma-cnmc-ft\"\n",
        "adapter_model_name = f\"dwb2023/{adapter_version}\"\n",
        "max_seq_length = 128\n",
        "output_dir = adapter_version\n",
        "\n",
        "# HF Token\n",
        "HF_TOKEN = userdata.get('HF_TOKEN')\n",
        "os.environ[\"HF_HUB_ENABLE_HF_TRANSFER\"] = \"1\""
      ],
      "metadata": {
        "id": "ENhHX1owtJ50"
      },
      "execution_count": null,
      "outputs": []
    },
    {
      "cell_type": "code",
      "source": [
        "# Load Dataset and Processor\n",
        "ds = load_dataset(\"dwb2023/cnmc-leukemia-2019\", split=\"train\")\n",
        "processor = AutoProcessor.from_pretrained(base_model_name)\n",
        "\n",
        "# Filter records to only include those from fold 0\n",
        "ds_fold_0 = ds.filter(lambda example: example['fold'] == 0)\n",
        "\n",
        "# Define the percentage you want to retrieve (e.g., 10%)\n",
        "percentage = 0.10\n",
        "\n",
        "# Use train_test_split to get the subset\n",
        "cnmc_ds = ds_fold_0.train_test_split(test_size=percentage)[\"test\"]\n",
        "\n",
        "# Columns to remove\n",
        "cols_remove = [\"subject_id\", \"image_number\", \"fold\", \"original_image_name\", \"relative_file_path\"]\n",
        "cnmc_ds = cnmc_ds.remove_columns(cols_remove)\n",
        "\n",
        "# Create train-test split\n",
        "train_ds = cnmc_ds.train_test_split(test_size=0.2)\n",
        "\n",
        "# Create test-val split\n",
        "test_val_ds = train_ds[\"test\"].train_test_split(test_size=0.5)\n",
        "\n",
        "cnmc_ds_dict = DatasetDict({\n",
        "    \"train\": train_ds[\"train\"],\n",
        "    \"test\": test_val_ds[\"test\"],\n",
        "    \"validation\": test_val_ds[\"train\"]\n",
        "})\n",
        "\n",
        "# Cast image column AFTER splitting the dataset\n",
        "ds_train = cnmc_ds_dict[\"train\"].cast_column(\"image\", Image(decode=True))\n",
        "ds_eval = cnmc_ds_dict[\"validation\"].cast_column(\"image\", Image(decode=True))"
      ],
      "metadata": {
        "id": "J_W5c6KjuCfY"
      },
      "execution_count": null,
      "outputs": []
    },
    {
      "cell_type": "code",
      "source": [
        "# Collate Function (optimized)\n",
        "device = \"cuda\"\n",
        "\n",
        "def collate_fn(examples):\n",
        "    texts = [\"Are these cells healthy or cancerous?\" for _ in range(len(examples))]\n",
        "    labels = [example['label'] for example in examples]\n",
        "\n",
        "    # Image conversion on CPU\n",
        "    images = [example[\"image\"].convert(\"RGB\") for example in examples]\n",
        "\n",
        "    tokens = processor(text=texts, images=images, suffix=labels,\n",
        "                       return_tensors=\"pt\", padding=\"longest\", max_length=max_seq_length)\n",
        "\n",
        "    # Convert to bfloat16 before moving to GPU\n",
        "    tokens = tokens.to(torch.bfloat16).to(device)\n",
        "    return tokens"
      ],
      "metadata": {
        "id": "S9eoz_vrt09h"
      },
      "execution_count": null,
      "outputs": []
    },
    {
      "cell_type": "code",
      "source": [
        "# Model Loading and Quantization\n",
        "bnb_config = BitsAndBytesConfig(\n",
        "    load_in_4bit=True,\n",
        "    bnb_4bit_quant_type=\"nf4\",\n",
        "    bnb_4bit_compute_dtype=torch.bfloat16  # Use bfloat16 to save memory\n",
        ")\n",
        "\n",
        "lora_config = LoraConfig(\n",
        "    r=8,\n",
        "    target_modules=[\"q_proj\", \"o_proj\", \"k_proj\", \"v_proj\", \"gate_proj\", \"up_proj\", \"down_proj\"],\n",
        "    task_type=\"CAUSAL_LM\",\n",
        ")\n",
        "\n",
        "model = PaliGemmaForConditionalGeneration.from_pretrained(\n",
        "    base_model_name,\n",
        "    quantization_config=bnb_config,\n",
        "    device_map={\"\": 0}  # Load directly to the specified device\n",
        ")\n",
        "\n",
        "model = get_peft_model(model, lora_config)\n",
        "model.print_trainable_parameters()\n",
        "\n",
        "# Ensure all parameters require gradients\n",
        "for param in model.parameters():\n",
        "    param.requires_grad = True\n",
        "\n",
        "# Disable cache for gradient checkpointing\n",
        "model.config.use_cache = False\n",
        "\n",
        "# Enable gradient checkpointing for memory optimization\n",
        "model.gradient_checkpointing_enable()"
      ],
      "metadata": {
        "id": "FonnEUeTtnLZ"
      },
      "execution_count": null,
      "outputs": []
    },
    {
      "cell_type": "code",
      "source": [
        "# Training Arguments\n",
        "\n",
        "args = TrainingArguments(\n",
        "    output_dir=output_dir,\n",
        "    num_train_epochs=2,\n",
        "    remove_unused_columns=False,\n",
        "    per_device_train_batch_size=4,  # Reduced batch size\n",
        "    gradient_accumulation_steps=4,  # Adjusted gradient accumulation\n",
        "    warmup_steps=2,\n",
        "    learning_rate=2e-5,\n",
        "    weight_decay=1e-6,\n",
        "    adam_beta2=0.999,\n",
        "    logging_steps=100,\n",
        "    optim=\"adamw_hf\",\n",
        "    save_strategy=\"steps\",\n",
        "    save_steps=1000,\n",
        "    push_to_hub=True,\n",
        "    save_total_limit=1,\n",
        "    bf16=True,\n",
        "    report_to=[\"tensorboard\"],\n",
        "    dataloader_pin_memory=False\n",
        ")"
      ],
      "metadata": {
        "id": "wh5Jl3yftXd9",
        "outputId": "f6420155-e95f-4030-ab57-95c9188a6bd0",
        "colab": {
          "base_uri": "https://localhost:8080/",
          "height": 217
        }
      },
      "execution_count": 3,
      "outputs": [
        {
          "output_type": "error",
          "ename": "NameError",
          "evalue": "name 'TrainingArguments' is not defined",
          "traceback": [
            "\u001b[0;31m---------------------------------------------------------------------------\u001b[0m",
            "\u001b[0;31mNameError\u001b[0m                                 Traceback (most recent call last)",
            "\u001b[0;32m<ipython-input-3-e64ee72d4a72>\u001b[0m in \u001b[0;36m<cell line: 1>\u001b[0;34m()\u001b[0m\n\u001b[0;32m----> 1\u001b[0;31m args = TrainingArguments(\n\u001b[0m\u001b[1;32m      2\u001b[0m     \u001b[0moutput_dir\u001b[0m\u001b[0;34m=\u001b[0m\u001b[0moutput_dir\u001b[0m\u001b[0;34m,\u001b[0m\u001b[0;34m\u001b[0m\u001b[0;34m\u001b[0m\u001b[0m\n\u001b[1;32m      3\u001b[0m     \u001b[0mnum_train_epochs\u001b[0m\u001b[0;34m=\u001b[0m\u001b[0;36m2\u001b[0m\u001b[0;34m,\u001b[0m\u001b[0;34m\u001b[0m\u001b[0;34m\u001b[0m\u001b[0m\n\u001b[1;32m      4\u001b[0m     \u001b[0mremove_unused_columns\u001b[0m\u001b[0;34m=\u001b[0m\u001b[0;32mFalse\u001b[0m\u001b[0;34m,\u001b[0m\u001b[0;34m\u001b[0m\u001b[0;34m\u001b[0m\u001b[0m\n\u001b[1;32m      5\u001b[0m     \u001b[0mper_device_train_batch_size\u001b[0m\u001b[0;34m=\u001b[0m\u001b[0;36m4\u001b[0m\u001b[0;34m,\u001b[0m  \u001b[0;31m# Reduced batch size\u001b[0m\u001b[0;34m\u001b[0m\u001b[0;34m\u001b[0m\u001b[0m\n",
            "\u001b[0;31mNameError\u001b[0m: name 'TrainingArguments' is not defined"
          ]
        }
      ]
    },
    {
      "cell_type": "code",
      "source": [
        "# Clear CUDA cache to free up memory\n",
        "torch.cuda.empty_cache()"
      ],
      "metadata": {
        "id": "K8hmwPoLtUD5"
      },
      "execution_count": null,
      "outputs": []
    },
    {
      "cell_type": "code",
      "source": [
        "# Trainer setup and training\n",
        "trainer = Trainer(\n",
        "    model=model,\n",
        "    train_dataset=ds_train,\n",
        "    eval_dataset=ds_eval,\n",
        "    data_collator=collate_fn,\n",
        "    args=args\n",
        ")"
      ],
      "metadata": {
        "id": "8f9af3XttJx1"
      },
      "execution_count": null,
      "outputs": []
    },
    {
      "cell_type": "code",
      "source": [
        "trainer.train()"
      ],
      "metadata": {
        "id": "FHhZlNfvtJtA"
      },
      "execution_count": null,
      "outputs": []
    },
    {
      "cell_type": "code",
      "source": [
        "trainer.push_to_hub(f\"dwb2023/{output_dir}\")"
      ],
      "metadata": {
        "id": "jLyERaHLtJi9"
      },
      "execution_count": null,
      "outputs": []
    }
  ]
}