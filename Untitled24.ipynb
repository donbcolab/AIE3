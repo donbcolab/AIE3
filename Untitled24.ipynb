{
  "nbformat": 4,
  "nbformat_minor": 0,
  "metadata": {
    "colab": {
      "provenance": [],
      "machine_shape": "hm",
      "gpuType": "L4",
      "authorship_tag": "ABX9TyPSyrNdfAT3Wr2ZkEic/DvX",
      "include_colab_link": true
    },
    "kernelspec": {
      "name": "python3",
      "display_name": "Python 3"
    },
    "language_info": {
      "name": "python"
    },
    "accelerator": "GPU"
  },
  "cells": [
    {
      "cell_type": "markdown",
      "metadata": {
        "id": "view-in-github",
        "colab_type": "text"
      },
      "source": [
        "<a href=\"https://colab.research.google.com/github/donbcolab/AIE3/blob/main/Untitled24.ipynb\" target=\"_parent\"><img src=\"https://colab.research.google.com/assets/colab-badge.svg\" alt=\"Open In Colab\"/></a>"
      ]
    },
    {
      "cell_type": "code",
      "source": [
        "!pip install -qU bitsandbytes datasets accelerate loralib peft transformers"
      ],
      "metadata": {
        "id": "PxSXKjfsKbHl"
      },
      "execution_count": null,
      "outputs": []
    },
    {
      "cell_type": "code",
      "execution_count": null,
      "metadata": {
        "id": "yNfG_qmQJsu5"
      },
      "outputs": [],
      "source": [
        "import torch\n",
        "from PIL import Image\n",
        "import requests\n",
        "from transformers import AutoProcessor, PaliGemmaForConditionalGeneration, TrainingArguments, Trainer\n",
        "\n"
      ]
    },
    {
      "cell_type": "code",
      "source": [
        "# --- Configuration ---\n",
        "base_model_name = \"google/paligemma-3b-pt-224\"\n",
        "output_dir = \"paligemma-cnmc-validation\"\n",
        "device = \"cuda\" if torch.cuda.is_available() else \"cpu\"\n"
      ],
      "metadata": {
        "id": "SEyLtdBNLkM4"
      },
      "execution_count": null,
      "outputs": []
    },
    {
      "cell_type": "code",
      "source": [
        "# --- Load Model ---\n",
        "processor = AutoProcessor.from_pretrained(base_model_name)\n",
        "model = PaliGemmaForConditionalGeneration.from_pretrained(\n",
        "    base_model_name,\n",
        "    torch_dtype=torch.bfloat16\n",
        ").to(device)"
      ],
      "metadata": {
        "id": "8vnbvqeVJ-LT"
      },
      "execution_count": null,
      "outputs": []
    },
    {
      "cell_type": "code",
      "source": [
        "# --- Load Dataset ---\n",
        "from datasets import load_dataset\n",
        "ds = load_dataset(\"dwb2023/cnmc-leukemia-2019\", split=\"train\")\n",
        "# Filter records to only include those from fold 0\n",
        "ds_fold_0 = ds.filter(lambda example: example['fold'] == 0)\n",
        "# Define the percentage you want to retrieve (e.g., 10%)\n",
        "percentage = 0.10\n",
        "# Use train_test_split to get the subset\n",
        "cnmc_ds = ds_fold_0.train_test_split(test_size=percentage)[\"test\"]\n",
        "# Columns to remove\n",
        "cols_remove = [\"subject_id\", \"image_number\", \"cell_count\", \"class_label\", \"fold\", \"original_image_name\", \"relative_file_path\"]\n",
        "cnmc_ds = cnmc_ds.remove_columns(cols_remove)\n",
        "\n",
        "# create train test split with test_size=0.2\n",
        "train_ds = cnmc_ds.train_test_split(test_size=0.2)\n",
        "# create test val split\n",
        "test_val_ds = train_ds[\"test\"].train_test_split(test_size=0.5)\n",
        "cnmc_ds_dict = DatasetDict({\n",
        "    \"train\" : train_ds[\"train\"],\n",
        "    \"test\" : test_val_ds[\"test\"],\n",
        "    \"validation\" : test_val_ds[\"train\"]\n",
        "})"
      ],
      "metadata": {
        "id": "pRrOnHq3LnQm"
      },
      "execution_count": null,
      "outputs": []
    },
    {
      "cell_type": "code",
      "source": [
        "# --- Data Collation ---\n",
        "def collate_fn(batch):\n",
        "    print(\"Keys in the batch dictionary:\", batch.keys())  # Debugging output\n",
        "\n",
        "    texts = [\"Are these cells healthy or cancerous?\" for _ in range(len(batch['image']))]\n",
        "    labels = batch['label']\n",
        "    images = [Image.open(io.BytesIO(img['bytes'])).convert(\"RGB\") for img in batch['image']]\n",
        "\n",
        "    # Debugging: Print the shapes of inputs before passing to processor\n",
        "    print(f\"Texts length: {len(texts)}\")\n",
        "    print(f\"Labels length: {len(labels)}\")\n",
        "    print(f\"Images length: {len(images)}\")\n",
        "\n",
        "    tokens = processor(text=texts, images=images, return_tensors=\"pt\", padding=\"longest\")\n",
        "    tokens = tokens.to(torch.bfloat16).to(device)\n",
        "    return tokens"
      ],
      "metadata": {
        "id": "h7hIq7MbJ4hj"
      },
      "execution_count": null,
      "outputs": []
    },
    {
      "cell_type": "code",
      "source": [
        "# --- Training Arguments ---\n",
        "args = TrainingArguments(\n",
        "    output_dir=output_dir,\n",
        "    num_train_epochs=3,            # Adjust as needed\n",
        "    per_device_train_batch_size=4, # Reduce batch size if needed\n",
        "    gradient_accumulation_steps=4,\n",
        "    warmup_steps=2,\n",
        "    learning_rate=2e-5,\n",
        "    weight_decay=1e-6,\n",
        "    adam_beta2=0.999,\n",
        "    logging_steps=5,                 # Increase logging frequency\n",
        "    evaluation_strategy=\"steps\",      # Evaluate every 'eval_steps'\n",
        "    eval_steps=5,                   # Adjust as needed\n",
        "    save_strategy=\"steps\",\n",
        "    save_steps=100,                 # Adjust as needed\n",
        "    push_to_hub=False,                # Set to True if you want to push to Hub\n",
        "    save_total_limit=1,\n",
        "    bf16=True,\n",
        "    report_to=[\"tensorboard\"],\n",
        "    dataloader_pin_memory=False\n",
        ")\n",
        "\n",
        "# --- Trainer ---\n",
        "trainer = Trainer(\n",
        "    model=model,\n",
        "    args=args,\n",
        "    train_dataset=cnmc_ds_dict['train'],\n",
        "    eval_dataset=cnmc_ds_dict['validation'],\n",
        "    data_collator=collate_fn\n",
        ")"
      ],
      "metadata": {
        "id": "8hWz87ZqJyfm"
      },
      "execution_count": null,
      "outputs": []
    },
    {
      "cell_type": "code",
      "source": [
        "# --- Training ---\n",
        "trainer.train()\n",
        "\n",
        "# --- (Optional) Push to Hub ---\n",
        "# If 'push_to_hub' is set to True in TrainingArguments, this will push to the Hub\n",
        "# trainer.push_to_hub()"
      ],
      "metadata": {
        "id": "veyud4bUJwET"
      },
      "execution_count": null,
      "outputs": []
    }
  ]
}